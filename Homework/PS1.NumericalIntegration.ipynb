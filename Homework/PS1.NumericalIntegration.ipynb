{
 "cells": [
  {
   "cell_type": "markdown",
   "metadata": {},
   "source": [
    "# Astronomy 8824 - Problem Set 1\n",
    "\n",
    "The goal of this problem set is to write routines to perform various numerical integrals"
   ]
  },
  {
   "cell_type": "code",
   "execution_count": 1,
   "metadata": {},
   "outputs": [],
   "source": [
    "import math\n",
    "import numpy as np\n",
    "%matplotlib inline\n",
    "import matplotlib.pyplot as plt\n",
    "\n",
    "# matplotlib settings \n",
    "SMALL_SIZE = 14\n",
    "MEDIUM_SIZE = 16\n",
    "BIGGER_SIZE = 18\n",
    "\n",
    "plt.rc('font', size=SMALL_SIZE)          # controls default text sizes\n",
    "plt.rc('axes', titlesize=SMALL_SIZE)     # fontsize of the axes title\n",
    "plt.rc('axes', labelsize=BIGGER_SIZE)    # fontsize of the x and y labels\n",
    "plt.rc('lines', linewidth=2)\n",
    "plt.rc('axes', linewidth=2)\n",
    "plt.rc('xtick', labelsize=MEDIUM_SIZE)    # fontsize of the tick labels\n",
    "plt.rc('ytick', labelsize=MEDIUM_SIZE)    # fontsize of the tick labels\n",
    "plt.rc('legend', fontsize=MEDIUM_SIZE)    # legend fontsize\n",
    "plt.rc('figure', titlesize=BIGGER_SIZE)   # fontsize of the figure title"
   ]
  },
  {
   "cell_type": "markdown",
   "metadata": {},
   "source": [
    "The goal of this problem set is to write a program to do numerical integrals of user specified\n",
    "functions, and to compare the performance of some simple algorithms for doing so. I recommend that you read sections 4.0-4.4 of Numerical Recipes as background. However, while their description of algorithms and their properties is good, you should write your own code rather than borrow the NR subroutines.\n",
    "\n",
    "Specifically, you will write a Python program that computes\n",
    "\n",
    "$$\n",
    "I = \\int^{a}_{b} f(x) dx\n",
    "$$ \n",
    "\n",
    "where a and b are finite limits of integration and we will use various choices for f(x) below.\n",
    "Start with the code below, which implements the “Euler method”\n",
    "\n",
    "$$\n",
    "I = \\sum^{N}_{i=1} f(x_i) h_n\n",
    "$$\n",
    "\n",
    "where N is the number of (equal-sized) integration steps and\n",
    "\n",
    "$$\n",
    "h_N = \\frac{b-a}{N}, x_i = a + (i-1) h_N\n",
    "$$"
   ]
  },
  {
   "cell_type": "code",
   "execution_count": 2,
   "metadata": {},
   "outputs": [],
   "source": [
    "# Routines from DHW\n",
    "# Minor modifications by PM to output info about interations\n",
    "\n",
    "def integrate_driver(func,integrator,a,b,tolerance=1.e-4,nstepmax=2.e8,verbose=False):\n",
    "    \"\"\"\n",
    "    Integrate a function func() using the specified integrator routine\n",
    "    integrator = euler, euler_loop, trapzd, or midpoint\n",
    "    a = lower limit of integration\n",
    "    b = upper limit of integration\n",
    "    tolerance = fractional convergence required for integral, default 1.e-4\n",
    "    nstepmax = maximum number of steps allowed, default 2e8\n",
    "    verbose = 1 -> write individual iterations to \"iterations.out\", default True\n",
    "\n",
    "    Number of steps starts at 4 and doubles until convergence or nstep>nstepmax\n",
    "    \"\"\"\n",
    "\n",
    "    if (verbose):\n",
    "        f=open(\"iterations.out\",\"w\")\n",
    "        nsteps = []\n",
    "        hsteps = []\n",
    "        integrals = []\n",
    "    nstep=4\n",
    "    oldint=0.0    \n",
    "    integral=integrator(func,a,b,nstep)\n",
    "\n",
    "    while ((np.fabs(oldint/integral-1.0) > tolerance) and (2*nstep<nstepmax)):\n",
    "        oldint=integral\n",
    "        nstep*=2\n",
    "        integral=integrator(func,a,b,nstep)\n",
    "        if (verbose):\n",
    "            hstep=(b-a)/nstep\n",
    "            outstring=\"%8d %.8g %.8g\\n\" % (nstep,hstep,integral)\n",
    "            nsteps.append(nstep)\n",
    "            hsteps.append(hstep)\n",
    "            integrals.append(integral)\n",
    "            f.write(outstring)\n",
    "\n",
    "    if (verbose):\n",
    "        f.close()\n",
    "        return [integral, nstep, nsteps, hsteps, integrals]\n",
    "    if (np.fabs(oldint/integral-1.0) > tolerance):\n",
    "        print(\"Warning, fractional convergence is only \", np.fabs(oldint/integral-1.0), \" with \", integrator)\n",
    "    return [integral, nstep]\n",
    "\n",
    "def euler_loop(func,a,b,nstep):\n",
    "    \"\"\"\n",
    "    Evaluate [\\int_a^b func(x) dx] using Euler rule with nstep steps\n",
    "    Use loop analogous to C or fortran\n",
    "    \"\"\"\n",
    "    hstep=(b-a)/nstep\n",
    "    y=a                                \n",
    "    integral=hstep*func(y)\n",
    "    for i in range(nstep-1):  # no more xrange in Python 3\n",
    "        y+=hstep\n",
    "        integral+=func(y)*hstep\n",
    "    return(integral)\n",
    "\n",
    "def euler(func,a,b,nstep):\n",
    "    \"\"\" \n",
    "    Evaluate [\\int_a^b func(x) dx] using Euler rule with nstep steps\n",
    "    Use numpy array operations\n",
    "    \"\"\"\n",
    "    hstep=(b-a)/nstep\n",
    "    x=np.linspace(a,b-hstep,nstep)\n",
    "    y=func(x)*hstep\n",
    "    return (np.sum(y))"
   ]
  },
  {
   "cell_type": "markdown",
   "metadata": {},
   "source": [
    "## 1. Speed, Convergence, and Euler\n",
    "\n",
    "Look through the code so that you understand its structure. Note in particular that it\n",
    "automatically doubles the number of steps (starting at N = 4) until it converges to a specified\n",
    "fractional tolerance. The program calculates the integral with N = 4, then doubles the number\n",
    "of steps and compares the answers. If the fractional difference is larger than the tolerance, it\n",
    "doubles the number of steps again, continuing until the fractional difference between two\n",
    "successive evaluations is less than the tolerance. It also has a safeguard with a maximum\n",
    "number of steps, to prevent the program from running forever if it doesn’t converge.\n",
    "Using this code, compute the integral\n",
    "\n",
    "$$\n",
    "\\int^{5}_{1} \\frac{1}{x^{3/2}} dx\n",
    "$$\n",
    "\n",
    "How many steps (approximately) are required to get an answer with a fractional error $|(I\n",
    "−I_{exact})/I_{exact}| < 10^{−4}$? $10^{-6}$? "
   ]
  },
  {
   "cell_type": "code",
   "execution_count": 3,
   "metadata": {},
   "outputs": [],
   "source": [
    "### Answer"
   ]
  },
  {
   "cell_type": "markdown",
   "metadata": {},
   "source": [
    "For a specified number of steps, the integral is evaluated using either the function\n",
    "euler_loop or euler. The former uses a loop structure typical of fortran or C, while the\n",
    "latter uses array operations available in NumPy.\n",
    "\n",
    "Compare the speed of these two implementations using the %timeit function of iPython."
   ]
  },
  {
   "cell_type": "code",
   "execution_count": 4,
   "metadata": {},
   "outputs": [],
   "source": [
    "### Answer"
   ]
  },
  {
   "cell_type": "markdown",
   "metadata": {},
   "source": [
    "Note the substantial speedup with the numpy array approach!"
   ]
  },
  {
   "cell_type": "markdown",
   "metadata": {},
   "source": [
    "## 2.  Trapezoidal Rule\n",
    "\n",
    "Modify the code so that it implements the \"Trapezoidal Rule\": \n",
    "\n",
    "$$\n",
    "I = \\sum^{N}_{i=1} \\left[ \\frac{1}{2} f(x_i) + \\frac{1}{2} f(x_{i+1}) \\right] h_N\n",
    "$$\n",
    "\n",
    "(This seems at first glance to require twice as many function evaluations as the Euler method,\n",
    "but there is an obvious way to avoid this, which you should implement in your program.)\n",
    "\n",
    "You can modify either the euler or euler_loop function to accomplish this, or you can\n",
    "start your own code from scratch. If you write your own code, you\n",
    "should maintain the automatic step-doubling-to-convergence feature.\n",
    "\n",
    "Numerically compute the integral from Part 1 with both methods. How many steps\n",
    "(approximately) are required to get an answer with a fractional error $|(I−I_{exact})/I_{exact}| < 10^{−4}$ with the Trapezoidal Rule? $10^{-6}$? "
   ]
  },
  {
   "cell_type": "code",
   "execution_count": 5,
   "metadata": {},
   "outputs": [],
   "source": [
    "### Answer"
   ]
  },
  {
   "cell_type": "markdown",
   "metadata": {},
   "source": [
    "## 3. Simpson's Rule\n",
    "\n",
    "With step doubling, you can implement a neat trick, described in Numerical Recipes. Given\n",
    "estimates $IT_N$ and $IT_{N/2}$ from the Trapezoidal Rule using N and N/2 steps, make the new\n",
    "estimate \n",
    "\n",
    "$$\n",
    "IS = (4 IT_N − IT_{N/2})/3\n",
    "$$. \n",
    "\n",
    "This approximation, Simpson’s Rule, should converge faster\n",
    "than the Trapezoidal Rule. Write a routine to compute an integral via Simpson’s Rule using\n",
    "this trick. This involves changing the integration driver routine; for any given N you are still\n",
    "using the Trapezoidal Rule.\n",
    "\n",
    "Make a plot of the error $|(I−I_{exact})/I_{exact}|$ vs. the step size h for the Euler, Trapezoidal, and\n",
    "Simpson’s Rule evaluations of the above numerical integral. Include this plot (log-log is recommended) as part of your solution set. Is the behavior what you expect?\n",
    "\n",
    "Note: If Simpson’s doesn’t converge noticeably faster than the Trapezoidal Rule, there is a\n",
    "bug in your program."
   ]
  },
  {
   "cell_type": "code",
   "execution_count": 6,
   "metadata": {},
   "outputs": [],
   "source": [
    "### Answer "
   ]
  },
  {
   "cell_type": "code",
   "execution_count": 7,
   "metadata": {},
   "outputs": [],
   "source": [
    "### Answer"
   ]
  },
  {
   "cell_type": "markdown",
   "metadata": {},
   "source": [
    "## 4. Solve some integrals with these methods\n",
    "\n",
    "For each of the following integrals, give the value of the integral I for each of the three\n",
    "numerical integration methods and the number of steps needed to get convergence to a\n",
    "fractional tolerance of $10^{−6}$.\n",
    "\n",
    "1. \n",
    "$$\n",
    "\\int^{2}_{1} \\frac{1}{x^{3/2} (1 + x^{3/2})} dx\n",
    "$$\n",
    "\n",
    "2. \n",
    "$$\n",
    "\\int^{100}_{1} \\frac{{\\rm sin} x}{x} dx\n",
    "$$\n",
    "\n",
    "3. \n",
    "$$\n",
    "\\int^{1000}_{1} \\frac{ {\\rm sin^2} x}{x^2} dx\n",
    "$$\n",
    "\n",
    "4. \n",
    "$$\n",
    "\\int^{1000}_{1} \\left( x + \\frac{1}{x} \\right)^{-1} dx\n",
    "$$\n",
    "\n",
    "5. \n",
    "$$\n",
    "\\int^{{\\rm ln} 1000}_{0} \\left( 1 + e^{-2x} \\right)^{-1} dx\n",
    "$$\n",
    "\n",
    "Note: If you are using an array-based implementation, you will need to use np.sin in your integrand, e.g., return (np.sin(x)/x). If you are using a loop-based implementation, you can use either np.sin or math.sin. Do you know why?"
   ]
  },
  {
   "cell_type": "code",
   "execution_count": 8,
   "metadata": {},
   "outputs": [],
   "source": [
    "### Answer"
   ]
  },
  {
   "cell_type": "markdown",
   "metadata": {},
   "source": [
    "## 5. Midpoint Method\n",
    "\n",
    "Write a routine that implements the Midpoint Rule: \n",
    "\n",
    "$$\n",
    "I = \\sum^{N}_{i=1} f(x_{i+1/2}) h_N\n",
    "$$\n",
    "where $x_{i+1/2} = x_i + h_N/2$. \n",
    "\n",
    "For the test integral of Question 1, compare the convergence of the Midpoint Method to that of the\n",
    "Euler, Trapezoid, and Simpson’s Rule methods. Add the Midpoint results to your\n",
    "convergence plot.\n",
    "\n",
    "Use your routine to compute the integrals: \n",
    "\n",
    "6. \n",
    "$$\n",
    "\\int^{4}_{0} \\frac{1}{x^{1/2}} dx\n",
    "$$\n",
    "7. \n",
    "$$\n",
    "\\int^{\\pi}_{0} \\frac{{\\rm sin} x}{x} dx\n",
    "$$\n",
    "\n",
    "Why is the Midpoint Rule useful even though it is less accurate than Simpson’s Rule for the\n",
    "same number of steps? Why does the second integral converge much faster than the first\n",
    "integral?"
   ]
  },
  {
   "cell_type": "code",
   "execution_count": 9,
   "metadata": {},
   "outputs": [],
   "source": [
    "### Answer "
   ]
  },
  {
   "cell_type": "markdown",
   "metadata": {},
   "source": [
    "## 6. More tricky integrals\n",
    "\n",
    "Numerically compute the integrals: \n",
    "\n",
    "8. \n",
    "$$\n",
    "\\int^{\\infty}_{1} \\frac{1}{x^2 + x^3} dx\n",
    "$$\n",
    "9. \n",
    "$$\n",
    "\\int^{\\infty}_{1} \\frac{{\\rm sin^2} x}{x^2} dx\n",
    "$$\n",
    "\n",
    "Explain how you did it. (Hint: See NR Sec 4.4, or the lecture notes. You do not need to\n",
    "approximate $\\infty$ by a large finite number.)\n",
    "\n",
    "Getting an accurate result for the second integral is much harder than for the first integral. Why?"
   ]
  },
  {
   "cell_type": "code",
   "execution_count": 12,
   "metadata": {},
   "outputs": [],
   "source": [
    "### Answer"
   ]
  },
  {
   "cell_type": "markdown",
   "metadata": {},
   "source": [
    "## 7. (Optional) Comparison to scipy.integrate\n",
    "\n",
    "There are numerical integration routines available in scipy.integrate. You can see what they are with "
   ]
  },
  {
   "cell_type": "code",
   "execution_count": 13,
   "metadata": {},
   "outputs": [],
   "source": [
    "import scipy.integrate as si"
   ]
  },
  {
   "cell_type": "markdown",
   "metadata": {},
   "source": [
    "and get more information with: "
   ]
  },
  {
   "cell_type": "code",
   "execution_count": 14,
   "metadata": {
    "collapsed": true,
    "jupyter": {
     "outputs_hidden": true
    },
    "tags": []
   },
   "outputs": [
    {
     "data": {
      "text/plain": [
       "\u001b[0;31mType:\u001b[0m        module\n",
       "\u001b[0;31mString form:\u001b[0m <module 'scipy.integrate' from '/apps/python/3.7-2019.10/lib/python3.7/site-packages/scipy/integrate/__init__.py'>\n",
       "\u001b[0;31mFile:\u001b[0m        /apps/python/3.7-2019.10/lib/python3.7/site-packages/scipy/integrate/__init__.py\n",
       "\u001b[0;31mDocstring:\u001b[0m  \n",
       "=============================================\n",
       "Integration and ODEs (:mod:`scipy.integrate`)\n",
       "=============================================\n",
       "\n",
       ".. currentmodule:: scipy.integrate\n",
       "\n",
       "Integrating functions, given function object\n",
       "============================================\n",
       "\n",
       ".. autosummary::\n",
       "   :toctree: generated/\n",
       "\n",
       "   quad          -- General purpose integration\n",
       "   dblquad       -- General purpose double integration\n",
       "   tplquad       -- General purpose triple integration\n",
       "   nquad         -- General purpose n-dimensional integration\n",
       "   fixed_quad    -- Integrate func(x) using Gaussian quadrature of order n\n",
       "   quadrature    -- Integrate with given tolerance using Gaussian quadrature\n",
       "   romberg       -- Integrate func using Romberg integration\n",
       "   quad_explain  -- Print information for use of quad\n",
       "   newton_cotes  -- Weights and error coefficient for Newton-Cotes integration\n",
       "   IntegrationWarning -- Warning on issues during integration\n",
       "\n",
       "Integrating functions, given fixed samples\n",
       "==========================================\n",
       "\n",
       ".. autosummary::\n",
       "   :toctree: generated/\n",
       "\n",
       "   trapz         -- Use trapezoidal rule to compute integral.\n",
       "   cumtrapz      -- Use trapezoidal rule to cumulatively compute integral.\n",
       "   simps         -- Use Simpson's rule to compute integral from samples.\n",
       "   romb          -- Use Romberg Integration to compute integral from\n",
       "                 -- (2**k + 1) evenly-spaced samples.\n",
       "\n",
       ".. seealso::\n",
       "\n",
       "   :mod:`scipy.special` for orthogonal polynomials (special) for Gaussian\n",
       "   quadrature roots and weights for other weighting factors and regions.\n",
       "\n",
       "Solving initial value problems for ODE systems\n",
       "==============================================\n",
       "\n",
       "The solvers are implemented as individual classes which can be used directly\n",
       "(low-level usage) or through a convenience function.\n",
       "\n",
       ".. autosummary::\n",
       "   :toctree: generated/\n",
       "\n",
       "   solve_ivp     -- Convenient function for ODE integration.\n",
       "   RK23          -- Explicit Runge-Kutta solver of order 3(2).\n",
       "   RK45          -- Explicit Runge-Kutta solver of order 5(4).\n",
       "   Radau         -- Implicit Runge-Kutta solver of order 5.\n",
       "   BDF           -- Implicit multi-step variable order (1 to 5) solver.\n",
       "   LSODA         -- LSODA solver from ODEPACK Fortran package.\n",
       "   OdeSolver     -- Base class for ODE solvers.\n",
       "   DenseOutput   -- Local interpolant for computing a dense output.\n",
       "   OdeSolution   -- Class which represents a continuous ODE solution.\n",
       "\n",
       "\n",
       "Old API\n",
       "-------\n",
       "\n",
       "These are the routines developed earlier for scipy. They wrap older solvers\n",
       "implemented in Fortran (mostly ODEPACK). While the interface to them is not\n",
       "particularly convenient and certain features are missing compared to the new\n",
       "API, the solvers themselves are of good quality and work fast as compiled\n",
       "Fortran code. In some cases it might be worth using this old API.\n",
       "\n",
       ".. autosummary::\n",
       "   :toctree: generated/\n",
       "\n",
       "   odeint        -- General integration of ordinary differential equations.\n",
       "   ode           -- Integrate ODE using VODE and ZVODE routines.\n",
       "   complex_ode   -- Convert a complex-valued ODE to real-valued and integrate.\n",
       "\n",
       "\n",
       "Solving boundary value problems for ODE systems\n",
       "===============================================\n",
       "\n",
       ".. autosummary::\n",
       "   :toctree: generated/\n",
       "\n",
       "   solve_bvp     -- Solve a boundary value problem for a system of ODEs.\n"
      ]
     },
     "metadata": {},
     "output_type": "display_data"
    }
   ],
   "source": [
    "si?"
   ]
  },
  {
   "cell_type": "markdown",
   "metadata": {},
   "source": [
    "And explore individual routines, e.g. with \"si.quad?\".\n",
    "\n",
    "For the 3rd and 4th integrals (Problem 4, the ones with upper limits of 1000), use the scipy routines\n",
    "si.quad and si.romberg to evaluate the integrals. Do you get the same answers that you got from Simpson’s Rule? Use %timeit in iPython to compare their speed to that of your Simpson’s Rule program for these two integrals. What do you find? "
   ]
  },
  {
   "cell_type": "code",
   "execution_count": 15,
   "metadata": {},
   "outputs": [],
   "source": [
    "### Answer "
   ]
  },
  {
   "cell_type": "markdown",
   "metadata": {},
   "source": [
    "## 8. Comoving Distance\n",
    "\n",
    "So that you end this exercise with something of practical use (and we’ll use it later in the\n",
    "semester), adapt your Simpson’s Rule integrator to a program that specifically computes the\n",
    "co-moving distance to an object at redshift z in a flat universe with a cosmological constant.\n",
    "The formula for the comoving distance is\n",
    "\n",
    "$$\n",
    "D_C(z) = \\frac{c}{H_0} \\int^{z}_{0} \\frac{H_0}{H(z')} dz'\n",
    "$$\n",
    "with\n",
    "$$\n",
    "\\frac{H(z)}{H_0} = \\left[ \\Omega_m (1 + z)^3 + \\Omega_\\Lambda \\right]^{1/2} \n",
    "$$\n",
    "\n",
    "Your program should take as arguments $\\Omega_m$, $H_0$ (in km s$^{−1}$ Mpc$^{−1}$), and z. Because we are assuming a flat universe, $\\Omega_\\Lambda = 1 - \\Omega_m$. \n",
    "\n",
    "For $\\Omega_m = 0.3$ and $H_0 = 67$ km s$^{−1}$ Mpc$^{−1}$, what is the comoving distance to redshifts 0.5, 1, and 2 (in Mpc)?\n",
    "\n",
    "(Optional) compare your result with astropy.cosmology"
   ]
  },
  {
   "cell_type": "code",
   "execution_count": 16,
   "metadata": {},
   "outputs": [],
   "source": [
    "### Answer "
   ]
  }
 ],
 "metadata": {
  "kernelspec": {
   "display_name": "Python 3.7-2019.10 [python/3.7-2019.10]",
   "language": "python",
   "name": "sys_python37_2019_10"
  },
  "language_info": {
   "codemirror_mode": {
    "name": "ipython",
    "version": 3
   },
   "file_extension": ".py",
   "mimetype": "text/x-python",
   "name": "python",
   "nbconvert_exporter": "python",
   "pygments_lexer": "ipython3",
   "version": "3.7.4"
  }
 },
 "nbformat": 4,
 "nbformat_minor": 4
}
