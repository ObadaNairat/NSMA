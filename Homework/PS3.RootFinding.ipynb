{
 "cells": [
  {
   "cell_type": "markdown",
   "metadata": {},
   "source": [
    "# Astronomy 8824 - Problem Set 3\n",
    "The goal of this problem set is to gain familiarity with various root finding and minimization methods. \n",
    "\n",
    "This problem set was developed by David Weinberg, with some modifications by Paul Martini.\n",
    "\n",
    "Creating good plots to show your work is a non-trivial part of this assignment, and I encourage you use the matplotlib examples to get started."
   ]
  },
  {
   "cell_type": "code",
   "execution_count": 1,
   "metadata": {},
   "outputs": [],
   "source": [
    "import numpy as np\n",
    "%matplotlib inline\n",
    "import matplotlib.pyplot as plt\n",
    "from IPython.display import display, Math\n",
    "import scipy.optimize as opt\n",
    "\n",
    "# matplotlib settings \n",
    "SMALL_SIZE = 14\n",
    "MEDIUM_SIZE = 16\n",
    "BIGGER_SIZE = 18\n",
    "\n",
    "plt.rc('font', size=SMALL_SIZE)          # controls default text sizes\n",
    "plt.rc('axes', titlesize=SMALL_SIZE)     # fontsize of the axes title\n",
    "plt.rc('axes', labelsize=BIGGER_SIZE)    # fontsize of the x and y labels\n",
    "plt.rc('lines', linewidth=2)\n",
    "plt.rc('axes', linewidth=2)\n",
    "plt.rc('xtick', labelsize=MEDIUM_SIZE)    # fontsize of the tick labels\n",
    "plt.rc('ytick', labelsize=MEDIUM_SIZE)    # fontsize of the tick labels\n",
    "plt.rc('legend', fontsize=MEDIUM_SIZE)    # legend fontsize\n",
    "plt.rc('figure', titlesize=BIGGER_SIZE)   # fontsize of the figure title"
   ]
  },
  {
   "cell_type": "markdown",
   "metadata": {},
   "source": [
    "### 1. Root Finding\n",
    "\n",
    "Plot the functions:\n",
    "$$\n",
    "f(x) = 0.25 -0.6x + 0.5x^2 -0.2 x^3\n",
    "$$\n",
    "and\n",
    "$$\n",
    "g(x)=f(x)+0.02\\sin(2\\pi x/0.4)\n",
    "$$\n",
    "over the range $0 \\leq x \\leq 2$."
   ]
  },
  {
   "cell_type": "code",
   "execution_count": 2,
   "metadata": {},
   "outputs": [],
   "source": [
    "### Answer\n"
   ]
  },
  {
   "cell_type": "markdown",
   "metadata": {},
   "source": [
    "Write a code to find the zero of each of these functions by the bisection method.\n",
    "\n",
    "Apply it to both functions and make plots illustrating the convergence of the method.\n",
    "Among other things, you should plot $\\log(|f(x)|)$ vs. the number of iterations.\n",
    "\n",
    "Write a code to find the zero of each of these functions by the\n",
    "Newton-Raphson method.  (Note that you can easily evaluate the\n",
    "derivatives of these functions analytically.)\n",
    "Impose boundaries at $x = 0$ and $x = 2$ on guesses.\n",
    "\n",
    "Apply it to both functions and make plots illustrating the convergence\n",
    "(or not) of the method.\n",
    "\n",
    "Comment on the relative strengths and weaknesses of bisection and\n",
    "Newton-Raphson for root-finding."
   ]
  },
  {
   "cell_type": "code",
   "execution_count": 3,
   "metadata": {},
   "outputs": [],
   "source": [
    "### Answer \n"
   ]
  },
  {
   "cell_type": "markdown",
   "metadata": {},
   "source": [
    "### 2. Minimization\n",
    "\n",
    "For this problem, take slight variations on the previous functions:\n",
    "$$\n",
    "f(x) = 0.25 -0.6x + 0.5x^2 -0.2 x^3 + 0.05x^4\n",
    "$$\n",
    "and\n",
    "$$\n",
    "g(x)=f(x)+0.02\\sin(2\\pi x/0.45)\n",
    "$$\n",
    "over the range $0 \\leq x \\leq 2$. (Note both the addition of a 4th-order term in $f_1$ and the change\n",
    "of the sine period in $f_2$.) Plot these functions."
   ]
  },
  {
   "cell_type": "code",
   "execution_count": 4,
   "metadata": {},
   "outputs": [],
   "source": [
    "### Answer\n"
   ]
  },
  {
   "cell_type": "markdown",
   "metadata": {},
   "source": [
    "Write a code to find the minimum of these functions using the Golden Section Search method.  Apply it for several different choices of initial guesses.  Make plots that illustrate its performance for the two cases, including\n",
    "$\\log(|x-x_{\\rm min}|)$ and $\\log(|f(x)-f(x_{\\rm min})|)$ where $x_{\\rm min}$ is the minimum that you find after convergence."
   ]
  },
  {
   "cell_type": "code",
   "execution_count": 5,
   "metadata": {},
   "outputs": [],
   "source": [
    "### Answer\n"
   ]
  },
  {
   "cell_type": "markdown",
   "metadata": {},
   "source": [
    "### 3. 3-D Minimization\n",
    "\n",
    "The routine **minimize** from the library **scipy.optimize** can implement the Nelder-Mead algorithm (set method='nelder-mead') described in NR \\S 10.4.\n",
    "\n",
    "Look up the documentation for this routine and write a short program to minimize the function\n",
    "\n",
    "$$\n",
    "f(x_1,x_2,x_3) = x_1^2 +3x_2^4 + 5x_3^6.\n",
    "$$\n",
    "\n",
    "Try several different starting points with a tolerance of $10^{-6}$. Does the routine find the global minimum of this function?"
   ]
  },
  {
   "cell_type": "code",
   "execution_count": 6,
   "metadata": {},
   "outputs": [],
   "source": [
    "### Answer \n"
   ]
  },
  {
   "cell_type": "markdown",
   "metadata": {},
   "source": [
    "Now minimize the function\n",
    "\n",
    "$$\n",
    "g(x_1,x_2,x_3) = (x_1+2\\sin(x_1))^2 +3(x_2+2\\sin(x_2))^4 +\n",
    "5(x_3+2\\sin(x_3))^6.\n",
    "$$\n",
    "\n",
    "Try several different starting points with a tolerance of $10^{-6}$. Does the routine find the global minimum of this function? Comment."
   ]
  },
  {
   "cell_type": "code",
   "execution_count": 7,
   "metadata": {},
   "outputs": [],
   "source": [
    "### Answer\n"
   ]
  },
  {
   "cell_type": "markdown",
   "metadata": {},
   "source": [
    "### 4. $H_0$ and $\\Omega_m$ from the CMB\n",
    "\n",
    "In Assignment 1, you evaluated the comoving distance to a given redshift for a flat universe with a cosmological constant, ignoring the impact of radiation (which is negligible at low redshift).\n",
    "\n",
    "The more general expression for comoving distance, allowing space curvature and a dark energy equation of state $w=p/\\rho c^2$ assumed to be constant, is\n",
    "$$\n",
    "D_C(z) = {c\\over H_0}\\int_0^z {H_0 \\over H(z')} dz'\n",
    "$$\n",
    "with\n",
    "$$\n",
    "H(z)/H_0 = \\left[\\Omega_m(1+z)^3 + \\Omega_r(1+z)^4 +\n",
    "             \\Omega_k(1+z)^2 + \\Omega_{\\rm de}(1+z)^{3(1+w)}\\right]^{1/2}~,\n",
    "$$\n",
    "where\n",
    "$$\n",
    "\\Omega_k = 1-\\Omega_m-\\Omega_r-\\Omega_{\\rm de}~.\n",
    "$$\n",
    "\n",
    "The value $w=-1$ corresponds to a cosmological constant, in which case the $z$-dependence of the last term disappears.\n",
    "\n",
    "In addition to affecting the expansion rate $H(z)$, curvature directly affects the comoving angular diameter distance $D_M(z)$:\n",
    "$$\n",
    "D_M(z) = {c \\over H_0} {\\sin(\\sqrt{-\\Omega_k} d_C(z)) \\over \\sqrt{-\\Omega_k}}~,\n",
    "$$\n",
    "where $d_C(z) = D_C(z) / (c/H_0)$\n",
    "\n",
    "To interpret this notation for positive $\\Omega_k$, recall that $\\sin(ix) = i\\,\\mathrm{sinh}x$.\n",
    "\n",
    "To save some work, you may use either astropy.cosmology.FlatLambdaCDM or the cosmodist_subs.py routine from David and available in this github repository. \n",
    "\n",
    "The notation $\\Omega_x$ represents the ratio of the energy density of component $x$ to the critical density required for a flat universe. Because the critical density is proportional to $H_0^2$, physical densities are proportional to $\\Omega_x h^2$ where\n",
    "$$\n",
    "h \\equiv H_0/100\\,\\mathrm{km/s/Mpc}~\n",
    "$$\n",
    "is a convenient dimensionless scaling of the Hubble constant.\n",
    "\n",
    "Modeling the Planck CMB power spectrum gives high-precision constraints on\n",
    "$$\n",
    "\\Omega_m h^2 \\approx 0.1386\n",
    "$$\n",
    "and\n",
    "$$\n",
    "D_M(z=1090) \\approx 13960\\,{\\rm Mpc}.\n",
    "$$\n",
    "\n",
    "Take these two measurements to be exact, i.e., with no uncertainty.\n",
    "\n",
    "For the cosmodist() function in cosmodist_subs.py, you can take the value of $\\Omega_r h^2 = 4.183 \\times 10^{-5}$, is known from the temperature of the CMB and standard early universe neutrino physics. For the astropy approach, you can specific FlatLambdaCDM with the appropriate value of $\\Omega_m$ (not $\\Omega_m h^2$) and the CMB temperature $T = 2.725$ K. \n",
    "\n",
    "Modify your bisection root finding routine so that instead of calling a generic function it calls either cosmodist() or comoving_distance() and finds the value of $H_0$ that satisfies the above constraints, assuming a flat universe with a cosmological constant ($\\Omega_k=0$, $w=-1$)."
   ]
  },
  {
   "cell_type": "code",
   "execution_count": 8,
   "metadata": {},
   "outputs": [],
   "source": [
    "omega_m_h2 = 0.1386\n",
    "omega_r_h2 = 4.183e-5\n",
    "z_cmb = 1090\n",
    "omega_k = 0.\n",
    "w = -1\n",
    "dm_cmb = 13960\n",
    "T_cmb = 2.725\n",
    "\n",
    "# For the cosmodist_subs approach -- \n",
    "import cosmodist_subs as cs\n",
    "\n",
    "# For the astropy approach -- \n",
    "from astropy.cosmology import FlatLambdaCDM"
   ]
  },
  {
   "cell_type": "markdown",
   "metadata": {},
   "source": [
    "#### (a) What are the values of $H_0$ and $\\Omega_m$ that satisfy the above equations?"
   ]
  },
  {
   "cell_type": "code",
   "execution_count": 9,
   "metadata": {},
   "outputs": [],
   "source": [
    "### Answer\n"
   ]
  },
  {
   "cell_type": "markdown",
   "metadata": {},
   "source": [
    "#### (b) Why did we need to include radiation in our calculation even though $\\Omega_r h^2$ is only $\\sim 4\\times 10^{-5}$?"
   ]
  },
  {
   "cell_type": "code",
   "execution_count": 10,
   "metadata": {},
   "outputs": [],
   "source": [
    "### Answer \n"
   ]
  },
  {
   "cell_type": "markdown",
   "metadata": {},
   "source": [
    "#### (c) Suppose we allowed $\\Omega_k \\neq 0$ or $w \\neq -1$.  Would the two CMB constraints that you used here still suffice to determine $H_0$ and $\\Omega_m$?  Why or why not?"
   ]
  },
  {
   "cell_type": "code",
   "execution_count": 11,
   "metadata": {},
   "outputs": [],
   "source": [
    "### Answer\n"
   ]
  }
 ],
 "metadata": {
  "kernelspec": {
   "display_name": "Python 3",
   "language": "python",
   "name": "python3"
  },
  "language_info": {
   "codemirror_mode": {
    "name": "ipython",
    "version": 3
   },
   "file_extension": ".py",
   "mimetype": "text/x-python",
   "name": "python",
   "nbconvert_exporter": "python",
   "pygments_lexer": "ipython3",
   "version": "3.8.3"
  }
 },
 "nbformat": 4,
 "nbformat_minor": 2
}
