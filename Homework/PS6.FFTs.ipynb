{
 "cells": [
  {
   "cell_type": "markdown",
   "metadata": {},
   "source": [
    "# Astronomy 8824 - Problem Set 6\n",
    "\n",
    "The goal of this problem set is to gain familiarity with Fast Fourier Transforms.\n",
    "\n",
    "This problem set was developed by David Weinberg, with some modifications by Paul Martini."
   ]
  },
  {
   "cell_type": "code",
   "execution_count": 1,
   "metadata": {},
   "outputs": [],
   "source": [
    "import numpy as np\n",
    "from numpy import matrix\n",
    "from numpy import linalg\n",
    "import matplotlib.pyplot as plt\n",
    "from matplotlib.gridspec import GridSpec\n",
    "from astropy.io import ascii\n",
    "import math\n",
    "\n",
    "# matplotlib settings \n",
    "SMALL_SIZE = 14\n",
    "MEDIUM_SIZE = 16\n",
    "BIGGER_SIZE = 18\n",
    "\n",
    "plt.rc('font', size=SMALL_SIZE)          # controls default text sizes\n",
    "plt.rc('axes', titlesize=SMALL_SIZE)     # fontsize of the axes title\n",
    "plt.rc('axes', labelsize=BIGGER_SIZE)    # fontsize of the x and y labels\n",
    "plt.rc('lines', linewidth=2)\n",
    "plt.rc('axes', linewidth=2)\n",
    "plt.rc('xtick', labelsize=MEDIUM_SIZE)    # fontsize of the tick labels\n",
    "plt.rc('ytick', labelsize=MEDIUM_SIZE)    # fontsize of the tick labels\n",
    "plt.rc('legend', fontsize=MEDIUM_SIZE)    # legend fontsize\n",
    "plt.rc('figure', titlesize=BIGGER_SIZE)   # fontsize of the figure title"
   ]
  },
  {
   "cell_type": "code",
   "execution_count": 2,
   "metadata": {},
   "outputs": [],
   "source": [
    "def fftsimple(n, freq, x0, thresh=1.e-4, usereal=False, const=0.):\n",
    "    '''\n",
    "    Simple FFT example calculation\n",
    "\n",
    "    Parameters \n",
    "    ----------\n",
    "    n : int\n",
    "        length of cosine function array to generate\n",
    "    freq : float\n",
    "        frequency of cosine wave in cycles per unit x\n",
    "    x0 : float\n",
    "        starting point array\n",
    "    thresh : float\n",
    "        threshold to output a Fourier mode \n",
    "    usereal : bool\n",
    "        return real component only? (default False)\n",
    "    const : float\n",
    "        constant offset to apply (default 0.)\n",
    "    '''\n",
    "\n",
    "    x=np.arange(n)/float(n)\n",
    "    y=np.cos(2*np.pi*freq*x+x0) + const\n",
    "    xfine=np.arange(1000)/1000.\n",
    "    yfine=np.cos(2*np.pi*freq*xfine+x0)\n",
    "\n",
    "    # Note division by n here, so what is plotted is FT/n\n",
    "    z=np.fft.fft(y)/n\n",
    "    if usereal: \n",
    "        z=np.fft.rfft(y)/n \n",
    "    f=np.arange(z.size)\n",
    "    zr=np.real(z)\n",
    "    zi=np.imag(z)\n",
    "\n",
    "    # print all Fourier modes whose modulus is larger than the value thresh\n",
    "    modz=np.absolute(z)\n",
    "    out=np.array([f[modz>thresh],zr[modz>thresh],zi[modz>thresh],modz[modz>thresh]])\n",
    "    np.set_printoptions(precision=3)\n",
    "\n",
    "    plt.figure(figsize=(12,6))\n",
    "    plt.subplot(2,1,1)\n",
    "    plt.plot(x,y)\n",
    "    plt.plot(x,y,'bo')\n",
    "    plt.plot(xfine,yfine,'r')\n",
    "    plt.title(\"n = {0} freq = {1}\".format(n, freq))\n",
    "    plt.xlabel(\"x\")\n",
    "    plt.ylabel(\"Amplitude\")\n",
    "    \n",
    "    plt.subplot(2,1,2)\n",
    "    plt.plot(f,zr,'ro',f,zi,'b^')\n",
    "    plt.xlabel(\"k\")\n",
    "    plt.ylabel(\"Modulus\")\n",
    "    plt.tight_layout()\n",
    "    plt.show()\n",
    "    \n",
    "    return out.transpose()"
   ]
  },
  {
   "cell_type": "markdown",
   "metadata": {},
   "source": [
    "### 1. Simple FFT Experiments\n",
    "\n",
    "The routine fftsimple() generates a cosine wave on a 1-D grid of $N$ points, computes its Fourier transform, and plots both the original function and the Fourier transform.  (Note that this divides the FT by $N$; after your experimentation, see if you can figure out why.)\n",
    "\n",
    "For this problem, you can mostly just explain your results in words; provide plots if/when they are particularly relevant, but you don't need to show all of them."
   ]
  },
  {
   "cell_type": "markdown",
   "metadata": {},
   "source": [
    "#### a. Run the program with the following values\n",
    "\n",
    "n = 32, freq = 4, x0 = 0\n",
    "\n",
    "n = 32, freq = 8, x0 = 0\n",
    "\n",
    "n = 32, freq = 4, x0 = 1\n",
    "\n",
    "n = 32, freq = 8, x0 = 1\n",
    "\n",
    "n = 64, freq = 8, x0 = 1\n",
    "\n",
    "List the modulus and the real and imaginary parts for all modes that are significantly non-zero. What do you notice as you make these changes?"
   ]
  },
  {
   "cell_type": "code",
   "execution_count": 3,
   "metadata": {
    "scrolled": false
   },
   "outputs": [],
   "source": [
    "### Answer "
   ]
  },
  {
   "cell_type": "markdown",
   "metadata": {},
   "source": [
    "#### b. You are Fourier transforming a real function $f(x)$. How does this condition affect the Fourier transform $\\tilde f(k)$?"
   ]
  },
  {
   "cell_type": "markdown",
   "metadata": {},
   "source": [
    "#### Answer"
   ]
  },
  {
   "cell_type": "markdown",
   "metadata": {},
   "source": [
    "#### c. Real component\n",
    "\n",
    "Add the 'usereal' argument to switch from using a complex-to-complex fft to using a real-to-complex fft and run the following cases:\n",
    "\n",
    "n=32, freq=15, x0=1\n",
    "\n",
    "n=64, freq=15, x0=1\n",
    "\n",
    "n=32, freq=20, x0=1\n",
    "\n",
    "n=32, freq=25, x0=1\n",
    "\n",
    "n=64, freq=20, x0=1\n",
    "\n",
    "n=64, freq=25, x0=1\n",
    "\n",
    "and interpret the results. "
   ]
  },
  {
   "cell_type": "code",
   "execution_count": 4,
   "metadata": {
    "scrolled": false
   },
   "outputs": [],
   "source": [
    "#### Answer"
   ]
  },
  {
   "cell_type": "markdown",
   "metadata": {},
   "source": [
    "#### d.  Add a constant to the function (a constant offfset in f(x)). What happens to the FT? "
   ]
  },
  {
   "cell_type": "code",
   "execution_count": 5,
   "metadata": {},
   "outputs": [],
   "source": [
    "### Answer "
   ]
  },
  {
   "cell_type": "markdown",
   "metadata": {},
   "source": [
    "#### e. Two cosines\n",
    "\n",
    "Modify the program to add a second cosine function with a different frequency, amplitude, and phase. What happens when you FT a function that is a sum of two cosine waves of different ffrequencies? Illustrate your result with a plot. "
   ]
  },
  {
   "cell_type": "code",
   "execution_count": 6,
   "metadata": {},
   "outputs": [],
   "source": [
    "#### Answer"
   ]
  },
  {
   "cell_type": "markdown",
   "metadata": {},
   "source": [
    "### 2. Gaussian Noise"
   ]
  },
  {
   "cell_type": "code",
   "execution_count": 7,
   "metadata": {},
   "outputs": [],
   "source": [
    "def fftnoise(n, amp, usereal=False): \n",
    "    '''\n",
    "    n = length of array\n",
    "    amp = rms amplitude of the noise\n",
    "    '''\n",
    "    \n",
    "    np.random.seed(12)\n",
    "\n",
    "    x=np.arange(n)/float(n)\n",
    "    y=np.random.normal(scale=amp,size=n)\n",
    "\n",
    "    z=np.fft.fft(y)/n\n",
    "    if usereal: \n",
    "        z=np.fft.rfft(y)/n              # uncomment for real-to-complex fft\n",
    "    f=np.arange(z.size)\n",
    "    zr=np.real(z)\n",
    "    zi=np.imag(z)\n",
    "\n",
    "    modz=np.absolute(z)\n",
    "    meansqr1=np.sum(y**2)/n\n",
    "    # for complex fft\n",
    "    meansqr2=np.sum(modz**2)\n",
    "    # for real fft\n",
    "    if usereal: \n",
    "        meansqr2=2*np.sum(modz**2)-(modz[modz.size-1])**2-(modz[0])**2\n",
    "        \n",
    "    rms1=np.sqrt(meansqr1)\n",
    "    rms2=np.sqrt(meansqr2)\n",
    "\n",
    "    plt.figure(figsize=(10, 4))\n",
    "    plt.subplot(2,1,1)\n",
    "    plt.plot(x,y)\n",
    "    plt.plot(x,y,'bo')\n",
    "    plt.title(\"n = {0} amp = {1}\".format(n, amp))\n",
    "\n",
    "    plt.subplot(2,1,2)\n",
    "    plt.plot(f,zr,'ro',f,zi,'b^')\n",
    "\n",
    "    plt.show()\n",
    "\n",
    "    return (rms1, rms2)\n"
   ]
  },
  {
   "cell_type": "markdown",
   "metadata": {},
   "source": [
    "#### a. Investigate Gaussian noise\n",
    "\n",
    "Start with fftnoise(), which generates Gaussian noise and measures its FT. Run a variety of cases and describe what you find. Provide one or more illustrative plots."
   ]
  },
  {
   "cell_type": "code",
   "execution_count": 8,
   "metadata": {},
   "outputs": [],
   "source": [
    "### Answer"
   ]
  },
  {
   "cell_type": "markdown",
   "metadata": {},
   "source": [
    "#### b. What is the meaning of the values of rms1 and rms2 returned by this program? \n",
    "\n",
    "Explain why they are equal by appealing to Parseval’s Theorem (see NR)."
   ]
  },
  {
   "cell_type": "markdown",
   "metadata": {},
   "source": [
    "#### Answer"
   ]
  },
  {
   "cell_type": "markdown",
   "metadata": {},
   "source": [
    "#### c) Set the usereal flag to True to use rfft instead of fft. Check that you get equivalent results. Explain why rms2 is computed as it is in this case."
   ]
  },
  {
   "cell_type": "markdown",
   "metadata": {},
   "source": [
    "#### Answer "
   ]
  },
  {
   "cell_type": "markdown",
   "metadata": {},
   "source": [
    "### 3. Mystery signals"
   ]
  },
  {
   "cell_type": "markdown",
   "metadata": {},
   "source": [
    "Examine the two files mystery1.dat and mystery2.dat in the repository. Each file represents noisy measurements of the radial velocity (in meters/second) of a star on 1024 consecutive nights. Measure the Fourier transform of these two data sets and propose a physical interpretation of the results."
   ]
  },
  {
   "cell_type": "code",
   "execution_count": 9,
   "metadata": {},
   "outputs": [],
   "source": [
    "### Answer "
   ]
  },
  {
   "cell_type": "markdown",
   "metadata": {},
   "source": [
    "### 4. Gaussian convolution\n",
    "\n",
    "Experiment with the program gaussft() below. This program generates a Gaussian function at a specified location and computes its Fourier transform.  Note the use of a _periodic boundary condition_; if the Gaussian is centered at zero, then it appears equally on the beginning and end of the array. \n",
    "\n",
    "#### a. Verify that a Gaussian that is narrow in real space has a Fourier transform that is broad in $k$-space, and vice versa.\n",
    "\n",
    "As you can see from the program and its output, the Fourier transform of a Gaussian $e^{-x^2/2\\sigma^2}$ where the width $\\sigma$ is given in _pixels_ in an array of length $n$ is $e^{-2\\pi^2 k^2 (\\sigma/n)^2}$, i.e., a Gaussian of width $\\sigma_k = n/(2\\pi\\sigma)$."
   ]
  },
  {
   "cell_type": "code",
   "execution_count": 10,
   "metadata": {},
   "outputs": [],
   "source": [
    "# Based on gaussft.py by DHW\n",
    "\n",
    "def gaussft(n, loc1, sigma1): \n",
    "    '''\n",
    "    Modified version of gaussft.py by DHW\n",
    "    '''\n",
    "    \n",
    "    fac=1./np.sqrt(2.*np.pi)\n",
    "    x=np.arange(n)\n",
    "\n",
    "    # compute minimum distances assuming a periodic boundary\n",
    "    # This array-based solution was suggesed by Michael Fausnaugh\n",
    "    deltax = np.abs(x-loc1)\n",
    "    mask1 = deltax > n/2\n",
    "    deltax[mask1] = n-deltax[mask1]\n",
    "\n",
    "    y=(fac/sigma1)*np.exp(-deltax**2/(2*sigma1**2))\n",
    "\n",
    "    z=np.fft.fft(y)/n\n",
    "    f=np.arange(z.size)\n",
    "    zr=np.real(z)\n",
    "    zi=np.imag(z)\n",
    "\n",
    "    # fper will have the true (negative) frequencies for elements > n/2\n",
    "    fper=np.concatenate((f[f<=n/2],f[f>n/2]-n))\n",
    "    y1=np.exp(-(fper**2)*2*np.pi**2*(sigma1/n)**2)/n\n",
    "\n",
    "    plt.subplot(2,1,1)\n",
    "    plt.plot(x,y)\n",
    "    plt.plot(x,y,'bo')\n",
    "\n",
    "    plt.subplot(2,1,2)\n",
    "    plt.plot(f,zr,'ro',f,zi,'b^')\n",
    "\n",
    "    # this is the expected FT ONLY if loc1=0\n",
    "    plt.plot(f,y1,'r')"
   ]
  },
  {
   "cell_type": "code",
   "execution_count": 11,
   "metadata": {},
   "outputs": [],
   "source": [
    "### Answer"
   ]
  },
  {
   "cell_type": "markdown",
   "metadata": {},
   "source": [
    "#### b. Convolve two Gaussians\n",
    "\n",
    "Write a program to convolve _two_ Gaussians, each with an arbitrary location and width, using FFTs.  Present illustrative plots, interpret the results, and demonstrate by test against an analytic result that your code works.  Start with the case where both Gaussians are centered at zero, then try cases with one or both Gaussians centered elsewhere.\n",
    "\n",
    "For plots, I recommend mapping values of $x > n/2$ to $x-n$ so that zero appears in the middle."
   ]
  },
  {
   "cell_type": "code",
   "execution_count": 12,
   "metadata": {},
   "outputs": [],
   "source": [
    "### Answer "
   ]
  },
  {
   "cell_type": "markdown",
   "metadata": {},
   "source": [
    "#### c. Try cases where one or both Gaussians are centered somewhere other than zero."
   ]
  },
  {
   "cell_type": "code",
   "execution_count": 13,
   "metadata": {},
   "outputs": [],
   "source": [
    "#### Answer"
   ]
  }
 ],
 "metadata": {
  "kernelspec": {
   "display_name": "Python 3",
   "language": "python",
   "name": "python3"
  },
  "language_info": {
   "codemirror_mode": {
    "name": "ipython",
    "version": 3
   },
   "file_extension": ".py",
   "mimetype": "text/x-python",
   "name": "python",
   "nbconvert_exporter": "python",
   "pygments_lexer": "ipython3",
   "version": "3.8.3"
  }
 },
 "nbformat": 4,
 "nbformat_minor": 2
}
