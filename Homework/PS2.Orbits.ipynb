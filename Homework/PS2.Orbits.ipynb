{
 "cells": [
  {
   "cell_type": "markdown",
   "metadata": {},
   "source": [
    "# Astronomy 8824 - Problem Set 2\n",
    "The goal of this problem set is to integrate orbits in various potentials. \n",
    "\n",
    "This problem set was developed by David Weinberg, with some modifications by Paul Martini.\n",
    "\n",
    "Creating good plots to show your work is a non-trivial part of this assignment, and I encourage you use the matplotlib examples to get started."
   ]
  },
  {
   "cell_type": "code",
   "execution_count": 1,
   "metadata": {},
   "outputs": [],
   "source": [
    "import numpy as np\n",
    "%matplotlib inline\n",
    "import matplotlib.pyplot as plt\n",
    "from IPython.display import display, Math\n",
    "\n",
    "# matplotlib settings \n",
    "SMALL_SIZE = 14\n",
    "MEDIUM_SIZE = 16\n",
    "BIGGER_SIZE = 18\n",
    "\n",
    "plt.rc('font', size=SMALL_SIZE)          # controls default text sizes\n",
    "plt.rc('axes', titlesize=SMALL_SIZE)     # fontsize of the axes title\n",
    "plt.rc('axes', labelsize=BIGGER_SIZE)    # fontsize of the x and y labels\n",
    "plt.rc('lines', linewidth=2)\n",
    "plt.rc('axes', linewidth=2)\n",
    "plt.rc('xtick', labelsize=MEDIUM_SIZE)    # fontsize of the tick labels\n",
    "plt.rc('ytick', labelsize=MEDIUM_SIZE)    # fontsize of the tick labels\n",
    "plt.rc('legend', fontsize=MEDIUM_SIZE)    # legend fontsize\n",
    "plt.rc('figure', titlesize=BIGGER_SIZE)   # fontsize of the figure title"
   ]
  },
  {
   "cell_type": "code",
   "execution_count": 2,
   "metadata": {},
   "outputs": [],
   "source": [
    "# Routines from DHW, modified by PM for notebook\n",
    "\n",
    "def accelerate(pot,x,y,qh=1):\n",
    "    \"\"\"\n",
    "    Compute acceleration of a particle\n",
    "    pot = 1 for Kepler, 2 for H.O.\n",
    "    x, y = particle position\n",
    "    returns accelerations xdd, ydd\n",
    "    \"\"\"\n",
    "\n",
    "    if (pot==1):\n",
    "        r=np.sqrt(x**2+y**2)\n",
    "        xdd= -x/r**3\n",
    "        ydd= -y/r**3\n",
    "    elif (pot==2):\n",
    "        xdd= -x\n",
    "        ydd= -y/(qh)**2\n",
    "    else:\n",
    "        raise ValueError (\"Invalid potential type\")\n",
    "\n",
    "    return([xdd,ydd])\n",
    "\n",
    "def potential(pot,x,y,qh=1):\n",
    "    \"\"\"\n",
    "    Compute potential energy (per unit mass)\n",
    "    pot = 1 for Kepler, 2 for H.O.\n",
    "    x, y = particle position\n",
    "    returns potential phi\n",
    "    \"\"\"\n",
    "\n",
    "    if (pot==1):\n",
    "        phi=-1/np.sqrt(x**2+y**2)\n",
    "    elif (pot==2):\n",
    "        phi=0.5*(x**2+(y/qh)**2)                # Harmonic Oscillator\n",
    "    else:\n",
    "        raise ValueError (\"Invalid potential type\")\n",
    "\n",
    "    return(phi)"
   ]
  },
  {
   "cell_type": "code",
   "execution_count": 3,
   "metadata": {},
   "outputs": [],
   "source": [
    "### Routines for plotting \n",
    "\n",
    "def add_axtitle(axes, label):\n",
    "    '''\n",
    "    Helper routine to add titles above subplot panels\n",
    "    \n",
    "    Parameters\n",
    "    ----------\n",
    "        axes : matplotlib axes instance\n",
    "        label : string\n",
    "    '''\n",
    "    ylim = axes.get_ylim()\n",
    "    ylab = ylim[0] + 1.02*(ylim[1]-ylim[0])\n",
    "    xlim = axes.get_xlim()\n",
    "    xlab = xlim[0] + 0.1*(xlim[1]-xlim[0])\n",
    "    axes.text(xlab, ylab, label, fontsize=14)\n",
    "    \n",
    "def plot4xy(coords4, limit, labels4, toplabel): \n",
    "    '''\n",
    "    Create a 4-panel plot of the orbits for 4 calculations \n",
    "    \n",
    "    Parameters\n",
    "    ----------\n",
    "        coords4 : list\n",
    "            list with 4 dictionaries that are output from orbit_euler or orbit_leapfrog\n",
    "        limit : float\n",
    "            plot range (-limit, limit) for x and y axes\n",
    "        labels4 : list\n",
    "            list of 4 strings to label each panel\n",
    "        toplabel : string\n",
    "            title of plot\n",
    "    '''\n",
    "\n",
    "    fig, axarr = plt.subplots(nrows=2, ncols=2, figsize=(12,12), sharex=True, sharey=True)\n",
    "    plt.subplots_adjust(wspace=0.1, hspace=0.1)\n",
    "    xlab = -0.83*limit\n",
    "    ylab = .83*limit\n",
    "\n",
    "    axarr[0,0].plot(coords4[0]['x'], coords4[0]['y'])\n",
    "    axarr[0,0].set_xlim(-1*limit, limits)\n",
    "    axarr[0,0].set_ylim(-1*limit, limits)\n",
    "    add_axtitle(axarr[0,0], labels4[0])\n",
    "\n",
    "    axarr[0,1].plot(coords4[1]['x'], coords4[1]['y'])\n",
    "    add_axtitle(axarr[0,1], labels4[1])\n",
    "\n",
    "    axarr[1,0].plot(coords4[2]['x'], coords4[2]['y'])\n",
    "    add_axtitle(axarr[1,0], labels4[2])\n",
    "\n",
    "    axarr[1,1].plot(coords4[3]['x'], coords4[3]['y'])\n",
    "    add_axtitle(axarr[1,1], labels4[3])\n",
    "\n",
    "    ax_main = fig.add_axes([.1, .1, 0.8, 0.8], frameon=False, xticks=[], yticks=[])\n",
    "    ax_main.set_xlabel(\"X\", fontsize=18)\n",
    "    ax_main.set_ylabel(\"Y\", fontsize=18)\n",
    "    ax_main.set_title(toplabel, fontsize=20)\n",
    "    \n",
    "def plot3body(params, out):\n",
    "    \n",
    "    '''\n",
    "    Plotting code for Part 3: Planet and Moon\n",
    "    \n",
    "    Parameters\n",
    "    ----------\n",
    "    params : dict\n",
    "        Dictionary of parameter values\n",
    "            params['m1'] : mass of body 1 (planet)\n",
    "            params['m2'] : mass of body 2 (moon)\n",
    "            params['x2'] : position of body 2\n",
    "            params['ydot1'] : initial y velocity of body 1\n",
    "            params['ydot2'] : initial y velocity of body 2\n",
    "            params['dtout'] : output time step\n",
    "            params['tmax'] : maximum time \n",
    "            params['tstep'] : calculation time step\n",
    "    out : dict\n",
    "        Dictionary of 1-d float arrays: \n",
    "            out['t'] : time \n",
    "            out['x1'] : x positions for body 1\n",
    "            out['y1'] : y positions for body 1\n",
    "            out['x2'] : x positions for body 2\n",
    "            out['y2'] : y positions for body 2\n",
    "            out['x3'] : x positions for body 3\n",
    "            out['y3'] : y positions for body 3\n",
    "            out['de'] : change in energy\n",
    "    '''\n",
    "\n",
    "    # Calculate the period of the planet orbit\n",
    "    Pplanet = 2.*out['t'][np.where(out['y2'] < 0.)][0]\n",
    "\n",
    "    # Create masks for each planet orbit\n",
    "    tp1mask = out['t'] < Pplanet\n",
    "    tp2mask = (out['t'] >= Pplanet) \n",
    "    tp2mask = tp2mask*(out['t'] < 2*Pplanet)\n",
    "    tp3mask = (out['t'] >= 2*Pplanet) \n",
    "    tp3mask = tp3mask*(out['t'] < 3*Pplanet)\n",
    "    tp4mask = (out['t'] >= 3*Pplanet) # >= 3 orbits of the planet\n",
    "\n",
    "    # Main panel\n",
    "    fig, ax = plt.subplots(nrows=1, ncols=1, figsize=(10,10))\n",
    "    tlabel = \"m$_p$ = {0:.2f}, m$_m$ = {1:.4f}, x$_m$ = {2:.2f}, $\\.y_p/v_c$ = {3:.2f}, $\\.y_m/y_c$ = {4:.2f}\".format(params['m1'], params['m2'], params['x2'], params['ydot1'], params['ydot2'])\n",
    "    ax.set_title(tlabel, fontsize=16)\n",
    "    Plabel = \"T$_p$ = {0:.4f}\".format(Pplanet)\n",
    "    ax.text(-1.8, 1.8, Plabel, fontsize=16)\n",
    "    maxlabel = \"t$_m$ = {0:.1f}\".format(params['tmax'])\n",
    "    ax.text(-1.8, 1.65, maxlabel, fontsize=16)\n",
    "    # Draw the orbits\n",
    "    ax.plot(out['x1'], out['y1'], 'b', label='Star', lw=1)\n",
    "    ax.plot(out['x2'], out['y2'], 'k', label='Planet', lw=1)\n",
    "    ax.plot(out['x3'][tp1mask], out['y3'][tp1mask], 'r', label='Moon Orbit 1', lw=1)\n",
    "    ax.plot(out['x3'][tp2mask], out['y3'][tp2mask], 'lime', label='Moon Orbit 2', lw=1)\n",
    "    ax.plot(out['x3'][tp3mask], out['y3'][tp3mask], 'chocolate', label='Moon Orbit 3', lw=1)\n",
    "    ax.plot(out['x3'][tp4mask], out['y3'][tp4mask], 'cyan', label='Moon Orbit 4+', lw=1)\n",
    "    ax.set_xlim(-2, 2)\n",
    "    ax.set_ylim(-2, 2)\n",
    "    ax.legend(loc='lower left')\n",
    "    ax.set_xlabel('X', fontsize=16)\n",
    "    ax.set_ylabel('Y', fontsize=16)\n",
    "\n",
    "    # Add a panel that zooms in on the moon --\n",
    "    ax_moon = fig.add_axes([.7, .7, .15, .15])\n",
    "    ax_moon.set_title(\"Moon Orbit\", fontsize=14)\n",
    "    x_moon = out['x3'] - out['x2']\n",
    "    y_moon = out['y3'] - out['y2']\n",
    "    ax_moon.plot(x_moon[tp1mask], y_moon[tp1mask], 'r')\n",
    "    ax_moon.plot(x_moon[tp2mask], y_moon[tp2mask], 'lime')\n",
    "    ax_moon.plot(x_moon[tp3mask], y_moon[tp3mask], 'chocolate')\n",
    "    ax_moon.plot(x_moon[tp4mask], y_moon[tp4mask], 'cyan')\n",
    "    val = 1.25*np.abs(1.-params['x2'])\n",
    "    ax_moon.set_xlim(-1.*val, val)\n",
    "    ax_moon.set_ylim(-1.*val, val)\n",
    "\n",
    "    # Add a panel that zooms in on the planet -- \n",
    "    ax_planet = fig.add_axes([.7, .15, .15, .15])\n",
    "    ax_planet.set_title(\"Planet Orbit\", fontsize=14)\n",
    "    ax_planet.plot(out['x1'], out['y1'], 'b')\n",
    "    ax_planet.plot(out['x2'], out['y2'], 'k')\n",
    "    ax_planet.plot(out['x3'][tp1mask], out['y3'][tp1mask], 'r')\n",
    "    ax_planet.plot(out['x3'][tp2mask], out['y3'][tp2mask], 'lime')\n",
    "    ax_planet.plot(out['x3'][tp3mask], out['y3'][tp3mask], 'chocolate')\n",
    "    ax_planet.plot(out['x3'][tp4mask], out['y3'][tp4mask], 'cyan')\n",
    "    ax_planet.set_xlim(1.-2.*val, 1.+2*val)\n",
    "    ax_planet.set_ylim(-2.*val, 2.*val)"
   ]
  },
  {
   "cell_type": "markdown",
   "metadata": {},
   "source": [
    "## 1. Kepler Potential\n",
    "\n",
    "Consider a 2-d Kepler potential generated by a central point mass M. Adopt units G = M = 1 so that\n",
    "$$\n",
    "\\Phi(r)=-\\frac{1}{r}\n",
    "$$\n",
    "In these units, what is the circular velocity $v_c$ at r = 1? What is the orbital period for an orbit with semi-major axis a = 1? If we convert to physical units adopting M = 1 M$_\\odot$ and a length unit of 1 AU, what is the time unit in years (i.e. what does an interval dt = 1 in system units correspond to in years)? "
   ]
  },
  {
   "cell_type": "code",
   "execution_count": 4,
   "metadata": {},
   "outputs": [],
   "source": [
    "### Answer"
   ]
  },
  {
   "cell_type": "markdown",
   "metadata": {},
   "source": [
    "Now write a program to integrate test particle orbits in this potential, in Cartesian coordinates. \n",
    "\n",
    "First implement this with the Euler method, where you update positions and velocities from time $t_i$ to $t_{i+1} = t_i + \\Delta t$ using:\n",
    "\n",
    "$$\n",
    "x_{i+1} = x_i + v_i \\Delta t\n",
    "$$\n",
    "$$\n",
    "v_{i+1} = v_i - \\nabla \\Phi(x_i) \\Delta t\n",
    "$$\n",
    "\n",
    "You may use this orbit_euler() function as a starting point, and the plotting script to illustrate your results. Below is an illustration of how to use it."
   ]
  },
  {
   "cell_type": "code",
   "execution_count": 5,
   "metadata": {},
   "outputs": [],
   "source": [
    "def orbit_euler(params):\n",
    "    '''\n",
    "    Orbit calculation via the Euler Method\n",
    "    Routine by DHW, modified by PM for notebook I/O\n",
    "    \n",
    "    Parameters\n",
    "    ----------\n",
    "    params : dict\n",
    "        Dictionary of parameter values\n",
    "            params['xinit'] : initial x value\n",
    "            params['yinit'] : initial y value\n",
    "            params['xdotinit'] : initial x velocity\n",
    "            params['ydotinit'] : initial y velocity\n",
    "            params['tmax'] : maximum time\n",
    "            params['dtout'] : output time step\n",
    "            params['tstep'] : calculation time step\n",
    "            params['pot_type'] : potential type (1 = Kepler, 2 = H.O.)\n",
    "        \n",
    "    Returns\n",
    "    -------\n",
    "    out : dict\n",
    "        Dictionary of 1-d float arrays: \n",
    "            out['t'] : time \n",
    "            out['x'] : x positions\n",
    "            out['y'] : y positions\n",
    "            out['xdot'] : x velocities\n",
    "            out['ydot'] : x velocities\n",
    "            out['de'] : change in energy\n",
    "    '''\n",
    "    \n",
    "    x = params['xinit']\n",
    "    y = params['yinit']\n",
    "    xdot = params['xdotinit']\n",
    "    ydot = params['ydotinit']    \n",
    "    tmax = params['tmax']\n",
    "    dtout = params['dtout']\n",
    "    tstep = params['tstep']\n",
    "    pot_type = params['pot_type']\n",
    "\n",
    "    i = 0\n",
    "    t = 0.0\n",
    "    de = 0    \n",
    "\n",
    "    # Define arrays to hold the output\n",
    "    N_out = int(tmax / dtout) \n",
    "    t_out = np.arange(0, tmax, dtout)\n",
    "    x_out = np.zeros(len(t_out), dtype=float)\n",
    "    y_out = np.zeros(len(t_out), dtype=float)\n",
    "    xdot_out = np.zeros(len(t_out), dtype=float)\n",
    "    ydot_out = np.zeros(len(t_out), dtype=float)\n",
    "    de_out = np.zeros(len(t_out), dtype=float)\n",
    "\n",
    "    # Store initial values\n",
    "    t_out[i] = 0.0\n",
    "    x_out[i] = x\n",
    "    y_out[i] = y\n",
    "    xdot_out[i] = xdot\n",
    "    ydot_out[i] = ydot\n",
    "    de_out[i] = 0.\n",
    "    e0 = potential(pot_type, x, y, qh=params['qh']) + 0.5*(xdot**2 + ydot**2)\n",
    "    tnext = dtout\n",
    "\n",
    "    i=1\n",
    "    while (t<tmax):\n",
    "        xdd, ydd = accelerate(pot_type, x, y, qh=params['qh'])\n",
    "        x+=xdot*tstep\n",
    "        y+=ydot*tstep\n",
    "        xdot+=xdd*tstep\n",
    "        ydot+=ydd*tstep\n",
    "        t+=tstep\n",
    "\n",
    "        if (t>=tnext and t < tmax):\n",
    "            # print(t, i)\n",
    "            energy=potential(pot_type, x, y, qh=params['qh']) + 0.5*(xdot**2 + ydot**2)\n",
    "            de_out[i]=(energy-e0)/np.abs(e0)\n",
    "            # print('%8.5f %7.3f %7.3f %8.2f %8.2f %7.4e' % (t,x,y,xdot,ydot,de))\n",
    "            t_out[i] = t\n",
    "            x_out[i] = x\n",
    "            y_out[i] = y\n",
    "            xdot_out[i] = xdot\n",
    "            ydot_out[i] = ydot\n",
    "            tnext+=dtout\n",
    "            i+=1\n",
    "            \n",
    "    # Put output in a dictionary\n",
    "    out = {}\n",
    "    out['t'] = t_out\n",
    "    out['x'] = x_out\n",
    "    out['y'] = y_out\n",
    "    out['xdot'] = xdot_out\n",
    "    out['ydot'] = ydot_out\n",
    "    out['de'] = de_out\n",
    "    return out                                               "
   ]
  },
  {
   "cell_type": "code",
   "execution_count": 6,
   "metadata": {},
   "outputs": [
    {
     "data": {
      "image/png": "[encoded data removed]",
      "text/plain": [
       "<Figure size 864x864 with 5 Axes>"
      ]
     },
     "metadata": {
      "needs_background": "light"
     },
     "output_type": "display_data"
    }
   ],
   "source": [
    "### Illustration of how to use orbit_euler() and plot4xy()\n",
    "\n",
    "p1param = {}\n",
    "p1param['dtout'] = 0.02\n",
    "p1param['tmax'] = 40.\n",
    "p1param['xinit'] = 1.\n",
    "p1param['yinit'] = 0.\n",
    "p1param['xdotinit'] = 0.\n",
    "p1param['ydotinit'] = 1.\n",
    "p1param['pot_type'] = 1\n",
    "p1param['qh'] = 0.\n",
    "\n",
    "# Case 1 \n",
    "p1param['tstep'] = 1.e-2\n",
    "e1out = orbit_euler(p1param)\n",
    "e1label = \"Euler, dt={0:.2f}\".format(p1param['tstep'])\n",
    "\n",
    "# Case 3\n",
    "# lf1out = orbit_leapfrog(p1param)\n",
    "# next 3 lines are dummy values to illustrate the plotting script\n",
    "lf1out = {}\n",
    "lf1out['x'] = 0.\n",
    "lf1out['y'] = 0.\n",
    "lf1label = \"Leapfrog, dt={0:.2f}\".format(p1param['tstep'])\n",
    "\n",
    "# Case 2\n",
    "p1param['tstep'] = 1.e-4\n",
    "e2out = orbit_euler(p1param)\n",
    "e2label = \"Euler, dt={0:.4f}\".format(p1param['tstep'])\n",
    "\n",
    "# Case 4\n",
    "# lf2out = orbit_leapfrog(p1param)\n",
    "# next 3 lines are dummy values to illustrate the plotting script\n",
    "lf2out = {}\n",
    "lf2out['x'] = 0.\n",
    "lf2out['y'] = 0.\n",
    "lf2label = \"Leapfrog, dt={0:.4f}\".format(p1param['tstep'])\n",
    "\n",
    "coords = [e1out, e2out, lf1out, lf2out]\n",
    "labels = [e1label, e2label, lf1label, lf2label]\n",
    "limits = 1.8\n",
    "toplabel = \"Kepler Potential with $\\.y_i = 1$\"\n",
    "plot4xy(coords, limits, labels, toplabel)"
   ]
  },
  {
   "cell_type": "markdown",
   "metadata": {},
   "source": [
    "Next modify the Euler program to implement the leapfrog method, where you evaluate the velocities at half-integer timesteps:\n",
    "$$\n",
    "x_{i+1}=x_i + v_{i+1/2} \\Delta t\n",
    "$$\n",
    "$$\n",
    "v_{i+3/2} = v_{i+1/2}- \\nabla \\Phi(x_{i+1}) \\Delta t \n",
    "$$\n",
    "\n",
    "Remember that in this case you need to take the first half time-step to evaluate $v_{1/2}$ – don’t just set $v_{1/2} = v_0$.\n",
    "\n",
    "Start with a test particle at $x=1, y=0, \\dot x=0, \\dot y=1$. Integrate the orbits up to $t=40$ with both methods, first with a timestep $\\Delta t = 0.01$, then with a timestep $\\Delta t = 0.0001$.\n",
    "\n",
    "Plot the orbits for the two methods and two integration steps. Also evaluate the energy \n",
    "\n",
    "$$\n",
    "E = \\frac{1}{2} v^2+\\Phi(\\vec x) \n",
    "$$\n",
    "\n",
    "and make plots showing the level of energy conservation for the four cases.  What other conserved quantity could you use as a check of your integration accuracy?\n"
   ]
  },
  {
   "cell_type": "code",
   "execution_count": 7,
   "metadata": {},
   "outputs": [],
   "source": [
    "### Answer"
   ]
  },
  {
   "cell_type": "markdown",
   "metadata": {},
   "source": [
    "Repeat with initial velocity $\\dot{y}=0.5$ and $\\dot{y}=0.2$. Include plots for all three values of $\\dot{y}$ with your solution."
   ]
  },
  {
   "cell_type": "code",
   "execution_count": 8,
   "metadata": {},
   "outputs": [],
   "source": [
    "### Answer"
   ]
  },
  {
   "cell_type": "markdown",
   "metadata": {},
   "source": [
    "Comment briefly on the impact of timestep and the difference between Euler and leapfrog integration.\n",
    "\n",
    "Here are a few issues to consider in your coding and plotting. Rather than get output every timestep, you will want to code so that you can separately specify how often you get outputs; you probably don't need 400,000 outputs for the $\\Delta t = 0.0001$ case. When using the leapfrog integration, you need to take an extra half step to synchronize the position and velocity to the same time before evaluating the energy at your output time (this is another reason you don't want output at every timestep).  Be sure this is just a temporary evaluation; you want to get velocities back on the 1/2 timesteps when you go back to orbit integration. If you plot y vs. x with the same range and the same units, your plot panels should be square so that the shape of the orbit is faithful. If you let your plotting code automatically select axis ranges based on the variation in your quantities, then it will make even highly elliptical orbits appear circular, and only reading the axis values will reveal their ellipticity – very bad practice! Where practical, if you're comparing different cases (e.g., different timestep choices) keep the same axis ranges so that one can visually evaluate the comparison; in some cases, like energy conservation that varies by orders-of-magnitude from one case to another, this won't be a useful approach. Label your plots well so that it is evident what case you are showing. My matplotlib example plot4xy() shows one way to make such plots."
   ]
  },
  {
   "cell_type": "code",
   "execution_count": 9,
   "metadata": {},
   "outputs": [],
   "source": [
    "### Answer"
   ]
  },
  {
   "cell_type": "markdown",
   "metadata": {},
   "source": [
    "## Part 2: Harmonic Oscillator Potential"
   ]
  },
  {
   "cell_type": "markdown",
   "metadata": {},
   "source": [
    "Now consider a potential\n",
    "$$\n",
    "\\Phi(\\vec x) = {x^2 \\over 2} +  {y^2 \\over 2 q^2}.\n",
    "$$\n",
    "\n",
    "Using the leapfrog integrator with $\\Delta t = 0.0001$, integrate and plot orbits for $q=1$, $q=0.9$, and $q=0.6$,\n",
    "always starting at $x=1$, $y=0$, $\\dot{x}=0$, with initial $y$-velocities $\\dot{y}=1$ and $\\dot{y}=0.5$. Create a 6-panel plot that shows the orbits for these six cases. One way to do this is to adopt the plot4xy() routine to display all six.\n",
    "\n",
    "For the case $q=0.9$, $\\dot{y}=0.5$, compare the energy conservation of the Euler and leapfrog methods for\n",
    "$\\Delta t = 0.01$, 0.001, and 0.0001. You don't need to include plots of the orbits for these other cases, but do some spot checks to see whether the orbit is visibly different from leapfrog with $\\Delta t = 0.01$."
   ]
  },
  {
   "cell_type": "code",
   "execution_count": 10,
   "metadata": {},
   "outputs": [],
   "source": [
    "### Answer"
   ]
  },
  {
   "cell_type": "markdown",
   "metadata": {},
   "source": [
    "## Part 3: Planet and Moon\n",
    "\n",
    "Adapt your leapfrog integration program to integrate the orbits of three bodies interacting gravitationally.\n",
    "\n",
    "The most massive body, the star, should have a mass $M_s=1$ and start at rest at position $(x,y)=(0,0)$.\n",
    "\n",
    "The next most massive body, the planet, should have a mass $M_p$ and start at position $(x,y)=(1,0)$ with an initial velocity $\\dot{y}_p$ in the $+y$ direction.  As in Part I, $\\dot{y}_p=1$ corresponds to a circular orbit for the planet, provided the perturbing effect of the third body can be ignored.\n",
    "\n",
    "The third body, the moon, should have a mass $M_m$ and start at position $(x_m,0)$ with an initial velocity $\\dot{y}_m$ in the $+y$ direction.\n",
    "\n",
    "Before you start integrating, you should subtract the center-of-mass velocity from all 3 bodies, so that you work in a frame in which the center-of-mass stays fixed.  Otherwise, your bodies will just drift off the edge of any plot you make.\n",
    "\n",
    "For the calculations in this part use $\\Delta t = 10^{-4}$ as a default, though you may want to experiment with larger or smaller timesteps in some cases.\n",
    "\n",
    "First consider cases with $M_p=0.1$ and $M_m=0.01$.  Note that if we imagine $M_s=1 M_\\odot$, then the *planet* here is really a star at the bottom of the main sequence and the *moon* is a brown dwarf 10 times the mass of Jupiter!\n",
    "\n",
    "Suppose that $x_m=1.05$.  What initial value of $\\dot{y}_m$ is required for the moon to be in an approximately circular orbit about the planet?  (Think about which frames are relevant.) \n",
    "\n",
    "### 3.1 Integrate and plot the case $M_p=0.1$ and $M_m=0.01$.  \n",
    "\n",
    "I recommend you use my plot3body() function (above). Some nice features are that it plots the position of the moon relative to the planet in an inset window; it plots a zoom around the initial position in another starting window to show perturbations of the planet orbit; and it changes the line color used for the moon's orbit each time the planet completes one orbital period, making it much easier to decode what is happening over time.  Note that in the plotting script the initial $\\dot{y}_m$ of the moon is specified _relative_ to the planet and it is in units of the velocity $v_c$ required for a circular orbit at the planet-moon separation (ignoring the star).  The conversion to a $\\dot{y}_m$ in system units in the star's frame is within the python integration script.\n"
   ]
  },
  {
   "cell_type": "code",
   "execution_count": 11,
   "metadata": {},
   "outputs": [],
   "source": [
    "### Answer"
   ]
  },
  {
   "cell_type": "code",
   "execution_count": 12,
   "metadata": {},
   "outputs": [],
   "source": [
    "### Code stub to demonstrate input and output\n",
    "\n",
    "def orbit_3body(params, moon=False):\n",
    "    '''\n",
    "    \n",
    "    Parameters\n",
    "    ----------\n",
    "    params : dict\n",
    "        Dictionary of parameter values\n",
    "            params['m1'] : mass of body 1 (planet)\n",
    "            params['m2'] : mass of body 2 (moon)\n",
    "            params['x2'] : position of body 2\n",
    "            params['ydot1'] : initial y velocity of body 1\n",
    "            params['ydot2'] : initial y velocity of body 2\n",
    "            params['dtout'] : output time step\n",
    "            params['tmax'] : maximum time \n",
    "            params['tstep'] : calculation time step\n",
    "        moon : bool\n",
    "            True means ydot1, ydot2 are in units of v_{c,1}, v_{c,2}\n",
    "        \n",
    "    Returns\n",
    "    -------\n",
    "    out : dict\n",
    "        Dictionary of 1-d float arrays: \n",
    "            out['t'] : time \n",
    "            out['x1'] : x positions for body 1\n",
    "            out['y1'] : y positions for body 1\n",
    "            out['x2'] : x positions for body 2\n",
    "            out['y2'] : y positions for body 2\n",
    "            out['x3'] : x positions for body 3\n",
    "            out['y3'] : y positions for body 3\n",
    "            out['de'] : change in energy\n",
    "    '''\n",
    "    \n",
    "    # Your code here\n",
    "    \n",
    "    out = {}\n",
    "    out['t'] = t_out\n",
    "    out['x1'] = x1_out\n",
    "    out['y1'] = y1_out\n",
    "    out['x2'] = x2_out\n",
    "    out['y2'] = y2_out\n",
    "    out['x3'] = x3_out\n",
    "    out['y3'] = y3_out\n",
    "    out['de'] = de_out\n",
    "    \n",
    "    return out"
   ]
  },
  {
   "cell_type": "code",
   "execution_count": 13,
   "metadata": {},
   "outputs": [],
   "source": [
    "### Answer "
   ]
  },
  {
   "cell_type": "markdown",
   "metadata": {},
   "source": [
    "### 3.2 Calculate and plot the case with $x_m=1.1$.\n",
    "\n",
    "Again use $\\dot{y}_p=1$ and $\\dot{y}_m$ chosen to put the moon in a circular orbit about the planet."
   ]
  },
  {
   "cell_type": "code",
   "execution_count": 14,
   "metadata": {},
   "outputs": [],
   "source": [
    "### Answer "
   ]
  },
  {
   "cell_type": "markdown",
   "metadata": {},
   "source": [
    "### 3.3 Repeat for $x_m=1.2$.\n",
    "\n",
    "Comment on the results for these three cases. At what separation is the orbit of the moon no\n",
    "longer well described as a circular orbit centered on the moving planet? Can you explain the value of this critical separation physically? (Hint: think about tidal forces.)"
   ]
  },
  {
   "cell_type": "code",
   "execution_count": 15,
   "metadata": {},
   "outputs": [],
   "source": [
    "### Answer"
   ]
  },
  {
   "cell_type": "markdown",
   "metadata": {},
   "source": [
    "### 3.4 Go back to $x_m=1.05$, but now set $\\dot{y}_p=0.7$, so the planet is in an elliptical orbit.  Compute, plot, and comment."
   ]
  },
  {
   "cell_type": "code",
   "execution_count": 16,
   "metadata": {},
   "outputs": [],
   "source": [
    "### Answer"
   ]
  },
  {
   "cell_type": "markdown",
   "metadata": {},
   "source": [
    "### 3.5 Set $\\dot{y}_p=1$ but choose the moon velocity relative to the planet to be $0.7 v_c$ -- i.e., 70\\% of the velocity required to put the moon in a circular orbit.  Compute, plot, comment."
   ]
  },
  {
   "cell_type": "code",
   "execution_count": 17,
   "metadata": {},
   "outputs": [],
   "source": [
    "### Answer"
   ]
  },
  {
   "cell_type": "markdown",
   "metadata": {},
   "source": [
    "### 3.6, 3.7  Increase to $x_m=1.10$ and try a retrograde orbit for the moon (negative $\\dot{y}_m$), first at the circular speed, then at 70\\% of the circular speed.  Compute, plot, comment."
   ]
  },
  {
   "cell_type": "code",
   "execution_count": 18,
   "metadata": {},
   "outputs": [],
   "source": [
    "### Answer "
   ]
  },
  {
   "cell_type": "markdown",
   "metadata": {},
   "source": [
    "### 3.8, 3.9, 3.10 Finally, consider a lighter planet and moon: $M_p=0.01$, $M_m=0.0001$.  Do just the cases with $\\dot{y}_p=1$ and a circular orbit for the moon, setting $x_m=1.05$ $1.08$, $1.10$.  Comment on the similarities and differences from the case with $M_p=0.1$, $M_m=0.01$.\n"
   ]
  },
  {
   "cell_type": "code",
   "execution_count": 19,
   "metadata": {},
   "outputs": [],
   "source": [
    "### Answer "
   ]
  },
  {
   "cell_type": "markdown",
   "metadata": {},
   "source": [
    "## Part IV: The Three-Body Problem\n",
    "\n",
    "_Time permitting_, experiment with cases in which all three bodies have equal mass.  You may need shorter timesteps for some cases.\n",
    "\n",
    "See if you can set up a \"hierarchical triple,\" in which a distant tertiary star orbits in an approximately circular orbit around a tight inner binary.\n",
    "\n",
    "After that, play around and see what you find.  Include plots of your most interesting results and interpret them.\n",
    "\n",
    "An interesting set of controlled cases is to set up an inner binary in an approximately circular orbit, then \"drop in\" a third body from different distances along the $+x$ axis, always setting its initial $\\dot{y}$ equal to that of the binary center-of-mass so that the third body drops straight down the $x$-axis."
   ]
  },
  {
   "cell_type": "code",
   "execution_count": 20,
   "metadata": {},
   "outputs": [],
   "source": [
    "### Answer"
   ]
  }
 ],
 "metadata": {
  "kernelspec": {
   "display_name": "Python 3",
   "language": "python",
   "name": "python3"
  },
  "language_info": {
   "codemirror_mode": {
    "name": "ipython",
    "version": 3
   },
   "file_extension": ".py",
   "mimetype": "text/x-python",
   "name": "python",
   "nbconvert_exporter": "python",
   "pygments_lexer": "ipython3",
   "version": "3.8.3"
  }
 },
 "nbformat": 4,
 "nbformat_minor": 4
}
