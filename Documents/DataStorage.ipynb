{
 "cells": [
  {
   "cell_type": "markdown",
   "metadata": {},
   "source": [
    "# Astronomy 8824 - Numerical and Statistical Methods in Astrophysics\n",
    "\n",
    "## Introduction to Data Storage\n",
    "\n",
    "These notes are for the course Astronomy 8824: Numerical and Statistical Methods in Astrophysics. \n"
   ]
  },
  {
   "cell_type": "code",
   "execution_count": 1,
   "metadata": {},
   "outputs": [],
   "source": [
    "import math\n",
    "import numpy as np\n",
    "%matplotlib inline\n",
    "import matplotlib.pyplot as plt\n",
    "import astropy\n",
    "import sys, os\n",
    "\n",
    "# matplotlib settings \n",
    "SMALL_SIZE = 14\n",
    "MEDIUM_SIZE = 16\n",
    "BIGGER_SIZE = 18\n",
    "\n",
    "plt.rc('font', size=SMALL_SIZE)          # controls default text sizes\n",
    "plt.rc('axes', titlesize=SMALL_SIZE)     # fontsize of the axes title\n",
    "plt.rc('axes', labelsize=BIGGER_SIZE)    # fontsize of the x and y labels\n",
    "plt.rc('lines', linewidth=2)\n",
    "plt.rc('axes', linewidth=2)\n",
    "plt.rc('xtick', labelsize=MEDIUM_SIZE)    # fontsize of the tick labels\n",
    "plt.rc('ytick', labelsize=MEDIUM_SIZE)    # fontsize of the tick labels\n",
    "plt.rc('legend', fontsize=MEDIUM_SIZE)    # legend fontsize\n",
    "plt.rc('figure', titlesize=BIGGER_SIZE)   # fontsize of the figure title"
   ]
  },
  {
   "cell_type": "markdown",
   "metadata": {},
   "source": [
    "### ASCII vs. Binary\n",
    "\n",
    "*ASCII* (American Standard Code for Information Interchange) is a set of 128 7-bit characters that originated with telegraph data and was first published as a standard in 1963. As one byte is 8 bins, the ASCII encoding uses 7/8 of each byte. \n",
    "\n",
    "Common ways to read and write ASCII files in python are with file.open() and with np.savetxt(). \n",
    "\n",
    "The advantage of files stored in ASCII format (e.g. those with a .txt extension) is that they are human readable with a text editor. \n",
    "\n",
    "The disadvantage of ASCII files is that they do not store data very efficiently. For example, to store the number \"3.1415926535\" in ASCII requires 12 bytes, one per character. In contrast, this number can be stored as a single-precision floating point number, which requires only four bytes. \n",
    "\n",
    "*Binary* format stores information in terms of ones and zeros. It is commonly used for larger quantities of numerical data where total storage space is a factor, and where there is no requirement to have an immediately human-readable file. Binary files are typically organized in groups of eight bits, or bytes. There are standard numbers of bytes used to represent numbers width different amounts of precision. For example, \n",
    "\n",
    "- Single precision: This uses 32 bits or 4 bytes. Two bits for the base, one for the sign, 8 for the exponent, and 23+1 for the significand. \n",
    "- Double precision: This uses 64 bits or 8 bytes. Two bits for the base, one for the sign, 11 for the exponent, and 52+1 for the significand. \n",
    "- Signed integer: 32-bit data in the range -2147483648 to 2147483647\n",
    "- Unsigned integer: 32 bin data in the range 0 to 4294967295\n",
    "\n",
    "One common question that arises with data stored in binary format is whether the convention is *big-endian* or *little-endian.* The difference is that in little-endian format the least significant bytes  (littlest) are stored before the most significant bytes (biggest), and for big-endiant this is reversed. "
   ]
  },
  {
   "cell_type": "code",
   "execution_count": 2,
   "metadata": {},
   "outputs": [
    {
     "data": {
      "text/plain": [
       "(13500, 8128)"
      ]
     },
     "execution_count": 2,
     "metadata": {},
     "output_type": "execute_result"
    }
   ],
   "source": [
    "# Generate some data and save it in ASCII and binary format\n",
    "\n",
    "x = np.linspace(1, 1000, 1000)\n",
    "y = np.sin(x)\n",
    "\n",
    "np.savetxt('file.txt', y, fmt='%e') \n",
    "\n",
    "np.save('file.bin', y)\n",
    "\n",
    "# See the sizes of these two files with os.path.getsize(), which returns the size in bytes\n",
    "os.path.getsize('file.txt'), os.path.getsize('file.bin.npy')"
   ]
  },
  {
   "cell_type": "markdown",
   "metadata": {},
   "source": [
    "The file size of the ASCII file is about $1000 \\times 12$ bytes, as each number consists of about 12 ASCII characters. The filesize of the binary file is about $1000 \\times 8$ bytes, as this is double precision. "
   ]
  },
  {
   "cell_type": "markdown",
   "metadata": {},
   "source": [
    "### FITS format\n",
    "\n",
    "FITS stands for Flexible Image Transport System, a data storage format that was first standardized in 1981. FITS is the most common data format used in astronomy, and is a very effective way to store image data such as 1-D spectra, 2-D images, and 3-D data cubes, as well as tables of data. \n",
    "\n",
    "The basic idea behind FITS is that there is a human-readable header in ASCII formation combined with data in binary format. Each fits file will contain one or more headers, and the headers (except perhaps the first) will each have an associated data block. \n",
    "\n",
    "The headers consist of a list of \"cards\" with a maximum length of 80 characters. Each of these cards consists of a keyword, a value for the keyword, and often a comment that describes the keyword. The 80 character length dates from when 80 characters was the maximum for an old punched card. Many of the keywords are standardized, such as to encode information about the coordinate system of an image (often called the World Coordinate System or WCS), the length of an exposure, date and time information about when data were obtained, etc. \n",
    "\n",
    "Details about the FITS standard are maintained at: https://fits.gsfc.nasa.gov/\n",
    "\n",
    "There are numerous packages available that can read and write fits files in a variety of programming languages. Two modules in python are fitsio and astropy.io.fits. "
   ]
  },
  {
   "cell_type": "markdown",
   "metadata": {},
   "source": [
    "### astropy.io.fits\n",
    "\n",
    "This example shows how to use fits.open() to open a test fits file that comes with astropy. The function fits.open() returns an HDUList object that lists all of the extensions in the fits file:"
   ]
  },
  {
   "cell_type": "code",
   "execution_count": 3,
   "metadata": {},
   "outputs": [
    {
     "name": "stdout",
     "output_type": "stream",
     "text": [
      "Filename: /Users/martini.10/anaconda3/lib/python3.8/site-packages/astropy/io/fits/tests/data/test0.fits\n",
      "No.    Name      Ver    Type      Cards   Dimensions   Format\n",
      "  0  PRIMARY       1 PrimaryHDU     138   ()      \n",
      "  1  SCI           1 ImageHDU        61   (40, 40)   int16   \n",
      "  2  SCI           2 ImageHDU        61   (40, 40)   int16   \n",
      "  3  SCI           3 ImageHDU        61   (40, 40)   int16   \n",
      "  4  SCI           4 ImageHDU        61   (40, 40)   int16   \n"
     ]
    }
   ],
   "source": [
    "from astropy.io import fits\n",
    "fits_image_filename = fits.util.get_testdata_filepath('test0.fits')\n",
    "hdul = fits.open(fits_image_filename)\n",
    "hdul.info()"
   ]
  },
  {
   "cell_type": "markdown",
   "metadata": {},
   "source": [
    "Note that hdul.info() prints five headers or \"Header Data Units.\" This shows there is a primary header with 138 cards and four additional headers, each with 61 cards, and each with a 40x40 array of 16-bit integrers. First let's look at the first header:"
   ]
  },
  {
   "cell_type": "code",
   "execution_count": 4,
   "metadata": {},
   "outputs": [
    {
     "data": {
      "text/plain": [
       "SIMPLE  =                    T / file does conform to FITS standard             \n",
       "BITPIX  =                   16 / number of bits per data pixel                  \n",
       "NAXIS   =                    0 / number of data axes                            \n",
       "EXTEND  =                    T / FITS dataset may contain extensions            \n",
       "GROUPS  =                    F / data has groups                                \n",
       "NEXTEND =                    4 / Number of standard extensions                  \n",
       "BSCALE  =           1.000000E0 / REAL = TAPE*BSCALE + BZERO                     \n",
       "BZERO   =           3.276800E4 /                                                \n",
       "ORIGIN  = 'NOAO-IRAF FITS Image Kernel Aug 1 1997' / FITS file originator       \n",
       "DATE    = '01/04/99  '         / Date FITS file was generated                   \n",
       "IRAF-TLM= 'xxx     '              / Time of last modification                   \n",
       "                                                                                \n",
       "              / GROUP PARAMETERS: OSS                                           \n",
       "                                                                                \n",
       "              / GROUP PARAMETERS: PODPS                                         \n",
       "                                                                                \n",
       "              / GROUP PARAMETERS: DATA QUALITY FILE SUMMARY                     \n",
       "                                                                                \n",
       "              / GROUP PARAMETERS: PHOTOMETRY                                    \n",
       "                                                                                \n",
       "              / GROUP PARAMETERS: IMAGE STATISTICS                              \n",
       "                                                                                \n",
       "              / WFPC-II DATA DESCRIPTOR KEYWORDS                                \n",
       "INSTRUME= 'WFPC2             ' / identifier for instrument used to acquire data \n",
       "ROOTNAME= 'U2EQ0201T         ' / rootname of the observation set                \n",
       "FILETYPE= 'SCI               ' / shp, ext, edq, sdq, sci                        \n",
       "                                                                                \n",
       "              / SCIENCE INSTRUMENT CONFIGURATION                                \n",
       "MODE    = 'AREA              ' / instr. mode: FULL (full res.), AREA (area int.)\n",
       "SERIALS = 'OFF               ' / serial clocks: ON, OFF                         \n",
       "                                                                                \n",
       "              / IMAGE TYPE CHARACTERISTICS                                      \n",
       "IMAGETYP= 'EXT               ' / type of exposure identifier                    \n",
       "CDBSFILE= 'NO                ' / GENERIC/BIAS/DARK/PREF/FLAT/MASK/ATOD/NO       \n",
       "PKTFMT  =                   96 / packet format code                             \n",
       "                                                                                \n",
       "              / FILTER CONFIGURATION                                            \n",
       "FILTNAM1= 'F673N             ' / first filter name                              \n",
       "FILTNAM2= '                  ' / 2nd    filter name                             \n",
       "FILTER1 =                   33 / first filter number (0-48)                     \n",
       "FILTER2 =                    0 / second filter number (0-48)                    \n",
       "FILTROT =             0.000000 / partial filter rotation angle (degrees)        \n",
       "LRFWAVE =                  0.0 / linear ramp filter wavelength                  \n",
       "                                                                                \n",
       "              / INSTRUMENT STATUS USED IN DATA PROCESSING                       \n",
       "UCH1CJTM=             -88.3486 / TEC cold junction #1 temperature (Celsius)     \n",
       "UCH2CJTM=             -88.8073 / TEC cold junction #2 temperature (Celsius)     \n",
       "UCH3CJTM=             -88.3945 / TEC cold junction #3 temperature (Celsius)     \n",
       "UCH4CJTM=             -88.9041 / TEC cold junction #4 temperature (Celsius)     \n",
       "UBAY3TMP=              14.5969 / bay 3 A1 temperature (deg C)                   \n",
       "KSPOTS  = 'OFF               ' / Status of Kelsall spot lamps: ON, OFF          \n",
       "SHUTTER = 'B                 ' / Shutter in place at beginning of the exposure  \n",
       "ATODGAIN=                  7.0 / Analog to Digital Gain (Electrons/DN)          \n",
       "                                                                                \n",
       "              / RSDP CONTROL KEYWORDS                                           \n",
       "MASKCORR= 'PERFORM           ' / Do mask correction: PERFORM, OMIT, COMPLETE    \n",
       "ATODCORR= 'PERFORM           ' / Do A-to-D correction: PERFORM, OMIT, COMPLETE  \n",
       "BLEVCORR= 'PERFORM           ' / Do bias level correction                       \n",
       "BIASCORR= 'PERFORM           ' / Do bias correction: PERFORM, OMIT, COMPLETE    \n",
       "DARKCORR= 'OMIT              ' / Do dark correction: PERFORM, OMIT, COMPLETE    \n",
       "FLATCORR= 'PERFORM           ' / Do flat field correction                       \n",
       "SHADCORR= 'PERFORM           ' / Do shaded shutter correction                   \n",
       "DOSATMAP= 'OMIT              ' / Output saturated pixel map                     \n",
       "DOPHOTOM= 'PERFORM           ' / Fill photometry keywords                       \n",
       "DOHISTOS= 'OMIT              ' / Make histograms: PERFORM, OMIT, COMPLETE       \n",
       "OUTDTYPE= 'REAL              ' / Output image datatype: REAL, LONG, SHORT       \n",
       "                                                                                \n",
       "              / CALIBRATION REFERENCE FILES                                     \n",
       "MASKFILE= 'uref$fan15478u.r0h' / name of the input DQF of known bad pixels      \n",
       "ATODFILE= 'uref$e1b09594u.r1h' / name of the A-to-D conversion file             \n",
       "BLEVFILE= 'ucal$u2eq0201t.x0h' / Engineering file with extended register data   \n",
       "BLEVDFIL= 'ucal$u2eq0201t.q1h' / Engineering file DQF                           \n",
       "BIASFILE= 'uref$e6o0937du.r2h' / name of the bias frame reference file          \n",
       "BIASDFIL= 'uref$e6o0937du.b2h' / name of the bias frame reference DQF           \n",
       "DARKFILE= 'uref$e6o09384u.r3h' / name of the dark reference file                \n",
       "DARKDFIL= 'uref$e6o09384u.b3h' / name of the dark reference DQF                 \n",
       "FLATFILE= 'uref$e1c1404ju.r4h' / name of the flat field reference file          \n",
       "FLATDFIL= 'uref$e1c1404ju.b4h' / name of the flat field reference DQF           \n",
       "SHADFILE= 'uref$e6o09405u.r5h' / name of the reference file for shutter shading \n",
       "PHOTTAB = '                  ' / name of the photometry calibration table       \n",
       "GRAPHTAB= 'mtab$f7d1401pm.tmg' / the HST graph table                            \n",
       "COMPTAB = 'mtab$f7j1535pm.tmc' / the HST components table                       \n",
       "                                                                                \n",
       "              / DEFAULT KEYWORDS SET BY STSCI                                   \n",
       "SATURATE=                 4095 / Data value at which saturation occurs          \n",
       "USCALE  =                  1.0 / Scale factor for output image                  \n",
       "UZERO   =                  0.0 / Zero point for output image                    \n",
       "                                                                                \n",
       "              / READOUT DURATION INFORMATION                                    \n",
       "READTIME=                  151 / Length of time for CCD readout in clock ticks  \n",
       "                                                                                \n",
       "              / PLANETARY SCIENCE KEYWORDS                                      \n",
       "PA_V3   =        292.387786865 / position angle of v3 of HST (deg)              \n",
       "RA_SUN  =        56.2731208362 / right ascension of the sun (deg)               \n",
       "DEC_SUN =        19.8289107164 / declination of the sun (deg)                   \n",
       "EQNX_SUN=               2000.0 / equinox of the sun                             \n",
       "MTFLAG  =                    T / moving target flag; T if it is a moving target \n",
       "EQRADTRG=                  0.0 / equatorial radius of target (km)               \n",
       "FLATNTRG=                  0.0 / flattening of target                           \n",
       "NPDECTRG=                  0.0 / north pole declination of target (deg)         \n",
       "NPRATRG =                  0.0 / north pole right ascension of target (deg)     \n",
       "ROTRTTRG=                  0.0 / rotation rate of target                        \n",
       "LONGPMER=                  0.0 / longitude of prime meridian (deg)              \n",
       "EPLONGPM=                  0.0 / epoch of longitude of prime meridian (sec)     \n",
       "SURFLATD=                  0.0 / surface feature latitude (deg)                 \n",
       "SURFLONG=                  0.0 / surface feature longitude (deg)                \n",
       "SURFALTD=                  0.0 / surface feature altitude (km)                  \n",
       "                                                                                \n",
       "              / PODPS FILL VALUES                                               \n",
       "PODPSFF =                    F / podps fill present (T/F)                       \n",
       "STDCFFF =                    F / ST DDF fill present (T/F)                      \n",
       "STDCFFP = '0x5569            ' / ST DDF fill pattern (hex)                      \n",
       "RSDPFILL=                 -100 / bad data fill value for calibrated images      \n",
       "                                                                                \n",
       "              / EXPOSURE TIME AND RELATED INFORMATION                           \n",
       "UEXPODUR=                    0 / commanded duration of exposure (sec)           \n",
       "NSHUTA17=                    0 / Number of AP17 shutter B closes                \n",
       "DARKTIME=   2.300000000000E-01 / Dark time (seconds)                            \n",
       "UEXPOTIM=                20272 / Major frame pulse time preceding exposure start\n",
       "PSTRTIME= '1994.139:15:41:39 ' / predicted obs. start time (yyyy.ddd:hh:mm:ss)  \n",
       "PSTPTIME= '1994.139:16:14:39 ' / predicted obs. stop time (yyyy.ddd:hh:mm:ss)   \n",
       "                                                                                \n",
       "                                                                                \n",
       "              / EXPOSURE INFORMATION                                            \n",
       "                                                                                \n",
       "ORIENTAT=              157.076 / position angle of image y axis (deg. e of n)   \n",
       "SUNANGLE=           158.939133 / angle between sun and V1 axis (deg)            \n",
       "MOONANGL=            54.995346 / angle between moon and V1 axis                 \n",
       "SUN_ALT =           -11.552458 / altitude of the sun above Earth's limb         \n",
       "FGSLOCK = 'FINE              ' / commanded FGS lock (FINE,COARSE,GYROS,UNKNOWN) \n",
       "                                                                                \n",
       "DATE-OBS= '19/05/94          ' / UT date of start of observation (dd/mm/yy)     \n",
       "TIME-OBS= '15:41:16          ' / UT time of start of observation (hh:mm:ss)     \n",
       "EXPSTART=   4.949165366175E+04 / exposure start time (Modified Julian Date)     \n",
       "EXPEND  =   4.949165366441E+04 / exposure end time (Modified Julian Date)       \n",
       "EXPTIME =   2.300000000000E-01 / exposure duration (seconds)--calculated        \n",
       "EXPFLAG = 'NORMAL            ' / Exposure interruption indicator                \n",
       "FILENAME= 'vtest3.fits'        / File name                                      "
      ]
     },
     "execution_count": 4,
     "metadata": {},
     "output_type": "execute_result"
    }
   ],
   "source": [
    "hdul[0].header"
   ]
  },
  {
   "cell_type": "code",
   "execution_count": 5,
   "metadata": {},
   "outputs": [
    {
     "data": {
      "text/plain": [
       "138"
      ]
     },
     "execution_count": 5,
     "metadata": {},
     "output_type": "execute_result"
    }
   ],
   "source": [
    "# Check the length of extension '0' \n",
    "len(hdul[0].header)"
   ]
  },
  {
   "cell_type": "code",
   "execution_count": 6,
   "metadata": {},
   "outputs": [
    {
     "data": {
      "text/plain": [
       "0.23"
      ]
     },
     "execution_count": 6,
     "metadata": {},
     "output_type": "execute_result"
    }
   ],
   "source": [
    "# Various keywords are standard, including ones like DATE-OBS, TIME-OBS, EXPTIME. \n",
    "# It is straightforward to access those directly with \n",
    "hdul[0].header['EXPTIME']"
   ]
  },
  {
   "cell_type": "code",
   "execution_count": 7,
   "metadata": {},
   "outputs": [
    {
     "data": {
      "text/plain": [
       "XTENSION= 'IMAGE   '           / IMAGE extension                                \n",
       "BITPIX  =                   16 / number of bits per data pixel                  \n",
       "NAXIS   =                    2 / number of data axes                            \n",
       "NAXIS1  =                   40 / length of data axis 1                          \n",
       "NAXIS2  =                   40 / length of data axis 2                          \n",
       "PCOUNT  =                    0 / required keyword; must = 0                     \n",
       "GCOUNT  =                    1 / required keyword; must = 1                     \n",
       "EXTNAME = 'SCI     '           / extension name                                 \n",
       "EXTVER  =                    1 / extension version number                       \n",
       "INHERIT =                    T / inherit the primary header                     \n",
       "ROOTNAME= 'U2EQ0201T'          / rootname of the observation set                \n",
       "EXPNAME = 'U2EQ0201T'          / 9 character exposure identifier                \n",
       "CRVAL1  =        215.597167517 / right ascension of reference pixel (deg)       \n",
       "CRVAL2  =       -12.7376058132 / declination of reference pixel (deg)           \n",
       "CRPIX1  =               210.25 / x-coordinate of reference pixel                \n",
       "CRPIX2  =                212.5 / y-coordinate of reference pixel                \n",
       "CD1_1   =          2.33019E-05 / partial of the right ascension w.r.t. x        \n",
       "CD1_2   =          9.85029E-06 / partial of the right ascension w.r.t. y        \n",
       "CD2_1   =          9.85462E-06 / partial of the declination w.r.t. x            \n",
       "CD2_2   =         -2.32916E-05 / partial of the declination w.r.t. y            \n",
       "DATAMIN =                   0. / minimum value of the data                      \n",
       "DATAMAX =                   0. / maximum value of the data                      \n",
       "MIR_REVR=                    T / is the image mirror reversed?                  \n",
       "ORIENTAT=              157.076 / orientation of the image (deg)                 \n",
       "FILLCNT =                    0 / number of segments containing fill             \n",
       "ERRCNT  =                    0 / number of segments containing errors           \n",
       "FPKTTIME=         49491.654167 / time of the first packet (Modified Julian Date)\n",
       "LPKTTIME=          49491.65422 / time of the last packet (Modified Julian Date) \n",
       "CTYPE1  = 'UNITLESS'           / first coordinate type                          \n",
       "CTYPE2  = 'LINE    '           / second coordinate type                         \n",
       "DETECTOR=                    1 / CCD detector: PC 1, WFC 2-4                    \n",
       "DEZERO  =                   0. / mean bias level from EED extended register     \n",
       "BIASEVEN=                   0. / bias level for even-numbered columns           \n",
       "BIASODD =                   0. / bias level for odd-numbered columns            \n",
       "GOODMIN =                   0. / minimum value of the \"good\" pixels             \n",
       "GOODMAX =                   0. / maximum value of the \"good\" pixels             \n",
       "DATAMEAN=                   0. / mean value of the \"good\" pixels                \n",
       "GPIXELS =                    0 / number of \"good\" pixels (DQF = 0)              \n",
       "SOFTERRS=                    0 / number of \"soft error\" pixels (DQF = 1)        \n",
       "CALIBDEF=                    0 / number of \"calibration defect\" pixels (DQF = 2)\n",
       "STATICD =                    0 / number of \"static defect\" pixels (DQF = 4)     \n",
       "ATODSAT =                    0 / number of \"AtoD saturated\" pixels (DQF = 8)    \n",
       "DATALOST=                    0 / number of \"data lost\" pixels (DQF = 16)        \n",
       "BADPIXEL=                    0 / number of \"generic bad\" pixels (DQF = 32)      \n",
       "OVERLAP =                    0 / number of \"image overlap\" pixels (DQF = 64)    \n",
       "PHOTMODE= '        '           / Photometry mode                                \n",
       "PHOTFLAM=                   0. / Inverse Sensitivity                            \n",
       "PHOTZPT =                   0. / Zero point                                     \n",
       "PHOTPLAM=                   0. / Pivot wavelength                               \n",
       "PHOTBW  =                   0. / RMS bandwidth of the filter                    \n",
       "MEDIAN  =                 312. / middle data value when good qual pixels sorted \n",
       "MEDSHADO=                 314. / median pixel value in shadow of pyramid edge   \n",
       "HISTWIDE=                   1. / width of the histogram                         \n",
       "SKEWNESS=            -0.003205 / skewness of the histogram                      \n",
       "MEANC10 =               313.16 / mean of a 10x10 region at center of chip       \n",
       "MEANC25 =             313.2493 / mean of a 25x25 region at center of chip       \n",
       "MEANC50 =             313.5349 / mean of a 50x50 region at center of chip       \n",
       "MEANC100=             313.4404 / mean of a 100x100 region at center of chip     \n",
       "MEANC200=             313.3406 / mean of a 200x200 region at center of chip     \n",
       "MEANC300=             313.3636 / mean of a 300x300 region at center of chip     \n",
       "BACKGRND=                 316. / estimated background level                     "
      ]
     },
     "execution_count": 7,
     "metadata": {},
     "output_type": "execute_result"
    }
   ],
   "source": [
    "# Now look at one of the extensions:\n",
    "hdul['SCI'].header"
   ]
  },
  {
   "cell_type": "code",
   "execution_count": 8,
   "metadata": {},
   "outputs": [
    {
     "data": {
      "text/plain": [
       "array([[313, 312, 313, ..., 312, 313, 313],\n",
       "       [315, 315, 313, ..., 312, 314, 313],\n",
       "       [313, 313, 312, ..., 314, 312, 313],\n",
       "       ...,\n",
       "       [314, 313, 312, ..., 312, 313, 311],\n",
       "       [313, 315, 312, ..., 313, 313, 312],\n",
       "       [312, 314, 314, ..., 314, 311, 314]], dtype=int16)"
      ]
     },
     "execution_count": 8,
     "metadata": {},
     "output_type": "execute_result"
    }
   ],
   "source": [
    "hdul[1].data"
   ]
  },
  {
   "cell_type": "code",
   "execution_count": 9,
   "metadata": {},
   "outputs": [
    {
     "data": {
      "text/plain": [
       "<matplotlib.image.AxesImage at 0x7fa60b188730>"
      ]
     },
     "execution_count": 9,
     "metadata": {},
     "output_type": "execute_result"
    },
    {
     "data": {
      "image/png": "[encoded data removed]",
      "text/plain": [
       "<Figure size 576x576 with 1 Axes>"
      ]
     },
     "metadata": {
      "needs_background": "light"
     },
     "output_type": "display_data"
    }
   ],
   "source": [
    "# Show this image:\n",
    "plt.figure(figsize=(8,8))\n",
    "plt.imshow(hdul[1].data, cmap='gray_r')"
   ]
  },
  {
   "cell_type": "markdown",
   "metadata": {},
   "source": [
    "### Modify a fits file\n",
    "\n",
    "We can change header keywords and/or the data if we wish, and then write a new file. Here are examples of how to change and add keywords, and change the data:"
   ]
  },
  {
   "cell_type": "code",
   "execution_count": 10,
   "metadata": {},
   "outputs": [
    {
     "data": {
      "text/plain": [
       "'SCI'"
      ]
     },
     "execution_count": 10,
     "metadata": {},
     "output_type": "execute_result"
    }
   ],
   "source": [
    "hdul[1].header['EXTNAME']"
   ]
  },
  {
   "cell_type": "code",
   "execution_count": 11,
   "metadata": {},
   "outputs": [],
   "source": [
    "hdul[1].header['EXTNAME']  = 'PC'"
   ]
  },
  {
   "cell_type": "code",
   "execution_count": 12,
   "metadata": {},
   "outputs": [
    {
     "data": {
      "text/plain": [
       "'PC'"
      ]
     },
     "execution_count": 12,
     "metadata": {},
     "output_type": "execute_result"
    }
   ],
   "source": [
    "hdul[1].header['EXTNAME']"
   ]
  },
  {
   "cell_type": "code",
   "execution_count": 13,
   "metadata": {},
   "outputs": [
    {
     "name": "stdout",
     "output_type": "stream",
     "text": [
      "Filename: /Users/martini.10/anaconda3/lib/python3.8/site-packages/astropy/io/fits/tests/data/test0.fits\n",
      "No.    Name      Ver    Type      Cards   Dimensions   Format\n",
      "  0  PRIMARY       1 PrimaryHDU     138   ()      \n",
      "  1  PC            1 ImageHDU        61   (40, 40)   int16   \n",
      "  2  SCI           2 ImageHDU        61   (40, 40)   int16   \n",
      "  3  SCI           3 ImageHDU        61   (40, 40)   int16   \n",
      "  4  SCI           4 ImageHDU        61   (40, 40)   int16   \n"
     ]
    }
   ],
   "source": [
    "hdul.info()"
   ]
  },
  {
   "cell_type": "code",
   "execution_count": 14,
   "metadata": {},
   "outputs": [
    {
     "data": {
      "text/plain": [
       "XTENSION= 'IMAGE   '           / IMAGE extension                                \n",
       "BITPIX  =                   16 / number of bits per data pixel                  \n",
       "NAXIS   =                    2 / number of data axes                            \n",
       "NAXIS1  =                   40 / length of data axis 1                          \n",
       "NAXIS2  =                   40 / length of data axis 2                          \n",
       "PCOUNT  =                    0 / required keyword; must = 0                     \n",
       "GCOUNT  =                    1 / required keyword; must = 1                     \n",
       "EXTNAME = 'PC      '           / extension name                                 \n",
       "EXTVER  =                    1 / extension version number                       \n",
       "INHERIT =                    T / inherit the primary header                     \n",
       "ROOTNAME= 'U2EQ0201T'          / rootname of the observation set                \n",
       "EXPNAME = 'U2EQ0201T'          / 9 character exposure identifier                \n",
       "CRVAL1  =        215.597167517 / right ascension of reference pixel (deg)       \n",
       "CRVAL2  =       -12.7376058132 / declination of reference pixel (deg)           \n",
       "CRPIX1  =               210.25 / x-coordinate of reference pixel                \n",
       "CRPIX2  =                212.5 / y-coordinate of reference pixel                \n",
       "CD1_1   =          2.33019E-05 / partial of the right ascension w.r.t. x        \n",
       "CD1_2   =          9.85029E-06 / partial of the right ascension w.r.t. y        \n",
       "CD2_1   =          9.85462E-06 / partial of the declination w.r.t. x            \n",
       "CD2_2   =         -2.32916E-05 / partial of the declination w.r.t. y            \n",
       "DATAMIN =                   0. / minimum value of the data                      \n",
       "DATAMAX =                   0. / maximum value of the data                      \n",
       "MIR_REVR=                    T / is the image mirror reversed?                  \n",
       "ORIENTAT=              157.076 / orientation of the image (deg)                 \n",
       "FILLCNT =                    0 / number of segments containing fill             \n",
       "ERRCNT  =                    0 / number of segments containing errors           \n",
       "FPKTTIME=         49491.654167 / time of the first packet (Modified Julian Date)\n",
       "LPKTTIME=          49491.65422 / time of the last packet (Modified Julian Date) \n",
       "CTYPE1  = 'UNITLESS'           / first coordinate type                          \n",
       "CTYPE2  = 'LINE    '           / second coordinate type                         \n",
       "DETECTOR=                    1 / CCD detector: PC 1, WFC 2-4                    \n",
       "DEZERO  =                   0. / mean bias level from EED extended register     \n",
       "BIASEVEN=                   0. / bias level for even-numbered columns           \n",
       "BIASODD =                   0. / bias level for odd-numbered columns            \n",
       "GOODMIN =                   0. / minimum value of the \"good\" pixels             \n",
       "GOODMAX =                   0. / maximum value of the \"good\" pixels             \n",
       "DATAMEAN=                   0. / mean value of the \"good\" pixels                \n",
       "GPIXELS =                    0 / number of \"good\" pixels (DQF = 0)              \n",
       "SOFTERRS=                    0 / number of \"soft error\" pixels (DQF = 1)        \n",
       "CALIBDEF=                    0 / number of \"calibration defect\" pixels (DQF = 2)\n",
       "STATICD =                    0 / number of \"static defect\" pixels (DQF = 4)     \n",
       "ATODSAT =                    0 / number of \"AtoD saturated\" pixels (DQF = 8)    \n",
       "DATALOST=                    0 / number of \"data lost\" pixels (DQF = 16)        \n",
       "BADPIXEL=                    0 / number of \"generic bad\" pixels (DQF = 32)      \n",
       "OVERLAP =                    0 / number of \"image overlap\" pixels (DQF = 64)    \n",
       "PHOTMODE= '        '           / Photometry mode                                \n",
       "PHOTFLAM=                   0. / Inverse Sensitivity                            \n",
       "PHOTZPT =                   0. / Zero point                                     \n",
       "PHOTPLAM=                   0. / Pivot wavelength                               \n",
       "PHOTBW  =                   0. / RMS bandwidth of the filter                    \n",
       "MEDIAN  =                 312. / middle data value when good qual pixels sorted \n",
       "MEDSHADO=                 314. / median pixel value in shadow of pyramid edge   \n",
       "HISTWIDE=                   1. / width of the histogram                         \n",
       "SKEWNESS=            -0.003205 / skewness of the histogram                      \n",
       "MEANC10 =               313.16 / mean of a 10x10 region at center of chip       \n",
       "MEANC25 =             313.2493 / mean of a 25x25 region at center of chip       \n",
       "MEANC50 =             313.5349 / mean of a 50x50 region at center of chip       \n",
       "MEANC100=             313.4404 / mean of a 100x100 region at center of chip     \n",
       "MEANC200=             313.3406 / mean of a 200x200 region at center of chip     \n",
       "MEANC300=             313.3636 / mean of a 300x300 region at center of chip     \n",
       "BACKGRND=                 316. / estimated background level                     \n",
       "COMMENT A comment                                                               \n",
       "HISTORY Last updated 10 October 2021                                            "
      ]
     },
     "execution_count": 14,
     "metadata": {},
     "output_type": "execute_result"
    }
   ],
   "source": [
    "hdul[1].header['comment'] = 'A comment'\n",
    "hdul[1].header['history'] =  'Last updated 10 October 2021'\n",
    "hdul[1].header"
   ]
  },
  {
   "cell_type": "code",
   "execution_count": 15,
   "metadata": {},
   "outputs": [],
   "source": [
    "# Save these changes:\n",
    "hdul.writeto('newfile.fits', overwrite=True)"
   ]
  },
  {
   "cell_type": "markdown",
   "metadata": {},
   "source": [
    "### Table Data"
   ]
  },
  {
   "cell_type": "code",
   "execution_count": 16,
   "metadata": {},
   "outputs": [
    {
     "name": "stdout",
     "output_type": "stream",
     "text": [
      "Filename: /Users/martini.10/anaconda3/lib/python3.8/site-packages/astropy/io/fits/tests/data/tb.fits\n",
      "No.    Name      Ver    Type      Cards   Dimensions   Format\n",
      "  0  PRIMARY       1 PrimaryHDU      11   ()      \n",
      "  1                1 BinTableHDU     24   2R x 4C   [1J, 3A, 1E, 1L]   \n",
      "[(1, 'abc', 3.70000007,  0) (2, 'xy', 6.69999971,  1)]\n"
     ]
    }
   ],
   "source": [
    "fits_table_filename = fits.util.get_testdata_filepath('tb.fits')\n",
    "hdul = fits.open(fits_table_filename)\n",
    "hdul.info()\n",
    "data = hdul[1].data #  the first extension is a table / BinTableHDU\n",
    "print(data)"
   ]
  },
  {
   "cell_type": "code",
   "execution_count": 17,
   "metadata": {},
   "outputs": [
    {
     "name": "stdout",
     "output_type": "stream",
     "text": [
      "(numpy.record, [('c1', '>i4'), ('c2', 'S3'), ('c3', '>f4'), ('c4', 'i1')])\n",
      "Row 0:  (1, 'abc', 3.7000000715255736, False)\n",
      "Columnn 'c3': [3.70000007 6.69999971]\n",
      "Column information:  ColDefs(\n",
      "    name = 'c1'; format = '1J'; null = -2147483647; disp = 'I11'\n",
      "    name = 'c2'; format = '3A'; disp = 'A3'\n",
      "    name = 'c3'; format = '1E'; bscale = 3; bzero = 0.4; disp = 'G15.7'\n",
      "    name = 'c4'; format = '1L'; disp = 'L6'\n",
      ")\n",
      "Column names only: ['c1', 'c2', 'c3', 'c4']\n"
     ]
    }
   ],
   "source": [
    "# The table array is basically a numpy record array: \n",
    "print(data.dtype)\n",
    "# Note this provides a name and the format for each column\n",
    "\n",
    "# Here is the first row:\n",
    "print(\"Row 0: \", data[0])\n",
    "\n",
    "# Here is the third column: \n",
    "print(\"Columnn 'c3':\", data['c3'])\n",
    "\n",
    "# Here is a list of columns and their properties: \n",
    "print(\"Column information: \", hdul[1].columns)\n",
    "\n",
    "# Here is a list of just their names:\n",
    "print(\"Column names only:\", hdul[1].columns.names)"
   ]
  },
  {
   "cell_type": "markdown",
   "metadata": {},
   "source": [
    "### Create a new column "
   ]
  },
  {
   "cell_type": "code",
   "execution_count": 18,
   "metadata": {},
   "outputs": [],
   "source": [
    "names = np.array(['Galaxy1', 'Galaxy2'])\n",
    "col5 = fits.Column(name = 'Name', array=names, format='20A')"
   ]
  },
  {
   "cell_type": "code",
   "execution_count": 19,
   "metadata": {},
   "outputs": [],
   "source": [
    "# original columns \n",
    "col1 = hdul[1].columns['c1']\n",
    "col2 = hdul[1].columns['c2']\n",
    "col3 = hdul[1].columns['c3']\n",
    "col4 = hdul[1].columns['c4']\n",
    "\n",
    "# New column list:\n",
    "cols = fits.ColDefs([col1, col2, col3, col4, col5])"
   ]
  },
  {
   "cell_type": "code",
   "execution_count": 20,
   "metadata": {},
   "outputs": [
    {
     "data": {
      "text/plain": [
       "ColDefs(\n",
       "    name = 'c1'; format = '1J'; null = -2147483647; disp = 'I11'\n",
       "    name = 'c2'; format = '3A'; disp = 'A3'\n",
       "    name = 'c3'; format = '1E'; bscale = 3; bzero = 0.4; disp = 'G15.7'\n",
       "    name = 'c4'; format = '1L'; disp = 'L6'\n",
       "    name = 'Name'; format = '20A'\n",
       ")"
      ]
     },
     "execution_count": 20,
     "metadata": {},
     "output_type": "execute_result"
    }
   ],
   "source": [
    "cols"
   ]
  },
  {
   "cell_type": "code",
   "execution_count": 21,
   "metadata": {},
   "outputs": [],
   "source": [
    "# Define the new table\n",
    "hdul[1] = fits.BinTableHDU.from_columns(cols)\n",
    "# Also change the extension anme\n",
    "hdul[1].header['EXTNAME'] = 'Table'"
   ]
  },
  {
   "cell_type": "code",
   "execution_count": 22,
   "metadata": {},
   "outputs": [
    {
     "name": "stdout",
     "output_type": "stream",
     "text": [
      "Filename: /Users/martini.10/anaconda3/lib/python3.8/site-packages/astropy/io/fits/tests/data/tb.fits\n",
      "No.    Name      Ver    Type      Cards   Dimensions   Format\n",
      "  0  PRIMARY       1 PrimaryHDU      11   ()      \n",
      "  1  Table         1 BinTableHDU     26   2R x 5C   ['1J', '3A', '1E', '1L', '20A']   \n"
     ]
    }
   ],
   "source": [
    "# Look at the extension name change\n",
    "hdul.info()"
   ]
  },
  {
   "cell_type": "code",
   "execution_count": 23,
   "metadata": {},
   "outputs": [
    {
     "data": {
      "text/plain": [
       "chararray(['Galaxy1', 'Galaxy2'], dtype='<U20')"
      ]
     },
     "execution_count": 23,
     "metadata": {},
     "output_type": "execute_result"
    }
   ],
   "source": [
    "# We can use the column name to access the data\n",
    "hdul[1].data['Name']"
   ]
  },
  {
   "cell_type": "code",
   "execution_count": 24,
   "metadata": {},
   "outputs": [],
   "source": [
    "# Write out this file:\n",
    "hdul.writeto(\"testtable.fits\", overwrite=True)"
   ]
  },
  {
   "cell_type": "markdown",
   "metadata": {},
   "source": [
    "### SDSS QSO Catalog"
   ]
  },
  {
   "cell_type": "code",
   "execution_count": 25,
   "metadata": {},
   "outputs": [],
   "source": [
    "# Download an early SDSS QSO catalog, simply because the file size is small\n",
    "import urllib\n",
    "qsocaturl = 'http://classic.sdss.org/dr4/products/value_added/dr1qso.fits'\n",
    "qsofile = 'dr1qso.fits'\n",
    "if not os.path.isfile(qsofile): \n",
    "    urllib.request.urlretrieve(qsocaturl, qsofile)"
   ]
  },
  {
   "cell_type": "code",
   "execution_count": 26,
   "metadata": {},
   "outputs": [
    {
     "name": "stdout",
     "output_type": "stream",
     "text": [
      "Filename: dr1qso.fits\n",
      "No.    Name      Ver    Type      Cards   Dimensions   Format\n",
      "  0  PRIMARY       1 PrimaryHDU       6   ()      \n",
      "  1                1 BinTableHDU    171   16713R x 52C   [18A, D, D, E, E, E, E, E, E, E, E, E, E, E, E, E, E, E, E, E, E, E, E, E, E, E, E, E, E, E, I, I, I, I, I, I, I, I, I, I, I, I, I, I, I, I, I, J, J, I, I, 25A]   \n"
     ]
    }
   ],
   "source": [
    "qhdu = fits.open(qsofile)\n",
    "qhdu.info()"
   ]
  },
  {
   "cell_type": "code",
   "execution_count": 27,
   "metadata": {},
   "outputs": [
    {
     "data": {
      "text/plain": [
       "XTENSION= 'BINTABLE'           / binary table extension                         \n",
       "BITPIX  =                    8 / 8-bit bytes                                    \n",
       "NAXIS   =                    2 / 2-dimensional binary table                     \n",
       "NAXIS1  =                  213 / width of table in bytes                        \n",
       "NAXIS2  =                16713 / number of rows in table                        \n",
       "PCOUNT  =                    0 / size of special data area                      \n",
       "GCOUNT  =                    1 / one data group (required keyword)              \n",
       "TFIELDS =                   52 / number of fields in each row                   \n",
       "TTYPE1  = 'SDSSName'           / label for field   1                            \n",
       "TFORM1  = '18A     '           / data format of field: ASCII Character          \n",
       "TTYPE2  = 'RA      '           / label for field   2                            \n",
       "TFORM2  = 'D       '           / data format of field: 8-byte DOUBLE            \n",
       "TUNIT2  = 'degrees '           / physical unit of field                         \n",
       "TTYPE3  = 'DEC     '           / label for field   3                            \n",
       "TFORM3  = 'D       '           / data format of field: 8-byte DOUBLE            \n",
       "TUNIT3  = 'degrees '           / physical unit of field                         \n",
       "TTYPE4  = 'z       '           / label for field   4                            \n",
       "TFORM4  = 'E       '           / data format of field: 4-byte REAL              \n",
       "TTYPE5  = 'source  '           / label for field   5                            \n",
       "TFORM5  = 'E       '           / data format of field: 4-byte REAL              \n",
       "TTYPE6  = 'psfmag_u'           / label for field   6                            \n",
       "TFORM6  = 'E       '           / data format of field: 4-byte REAL              \n",
       "TUNIT6  = 'asinhmag'           / physical unit of field                         \n",
       "TTYPE7  = 'psfmagerr_u'        / label for field   7                            \n",
       "TFORM7  = 'E       '           / data format of field: 4-byte REAL              \n",
       "TUNIT7  = 'asinhmag'           / physical unit of field                         \n",
       "TTYPE8  = 'psfmag_g'           / label for field   8                            \n",
       "TFORM8  = 'E       '           / data format of field: 4-byte REAL              \n",
       "TUNIT8  = 'asinhmag'           / physical unit of field                         \n",
       "TTYPE9  = 'psfmagerr_g'        / label for field   9                            \n",
       "TFORM9  = 'E       '           / data format of field: 4-byte REAL              \n",
       "TUNIT9  = 'asinhmag'           / physical unit of field                         \n",
       "TTYPE10 = 'psfmag_r'           / label for field  10                            \n",
       "TFORM10 = 'E       '           / data format of field: 4-byte REAL              \n",
       "TUNIT10 = 'asinhmag'           / physical unit of field                         \n",
       "TTYPE11 = 'psfmagerr_r'        / label for field  11                            \n",
       "TFORM11 = 'E       '           / data format of field: 4-byte REAL              \n",
       "TUNIT11 = 'asinhmag'           / physical unit of field                         \n",
       "TTYPE12 = 'psfmag_i'           / label for field  12                            \n",
       "TFORM12 = 'E       '           / data format of field: 4-byte REAL              \n",
       "TUNIT12 = 'asinhmag'           / physical unit of field                         \n",
       "TTYPE13 = 'psfmagerr_i'        / label for field  13                            \n",
       "TFORM13 = 'E       '           / data format of field: 4-byte REAL              \n",
       "TUNIT13 = 'asinhmag'           / physical unit of field                         \n",
       "TTYPE14 = 'psfmag_z'           / label for field  14                            \n",
       "TFORM14 = 'E       '           / data format of field: 4-byte REAL              \n",
       "TUNIT14 = 'asinhmag'           / physical unit of field                         \n",
       "TTYPE15 = 'psfmagerr_z'        / label for field  15                            \n",
       "TFORM15 = 'E       '           / data format of field: 4-byte REAL              \n",
       "TUNIT15 = 'asinhmag'           / physical unit of field                         \n",
       "TTYPE16 = 'A_u     '           / label for field  16                            \n",
       "TFORM16 = 'E       '           / data format of field: 4-byte REAL              \n",
       "TUNIT16 = 'mag     '           / physical unit of field                         \n",
       "TTYPE17 = 'FIRSTmag'           / label for field  17                            \n",
       "TFORM17 = 'E       '           / data format of field: 4-byte REAL              \n",
       "TUNIT17 = 'mag     '           / physical unit of field                         \n",
       "TTYPE18 = 'FIRST_sn'           / label for field  18                            \n",
       "TFORM18 = 'E       '           / data format of field: 4-byte REAL              \n",
       "TTYPE19 = 'FIRST_sep'          / label for field  19                            \n",
       "TFORM19 = 'E       '           / data format of field: 4-byte REAL              \n",
       "TUNIT19 = 'arcsec  '           / physical unit of field                         \n",
       "TTYPE20 = 'lg_RASS_rate'       / label for field  20                            \n",
       "TFORM20 = 'E       '           / data format of field: 4-byte REAL              \n",
       "TUNIT20 = 'lg_cps  '           / physical unit of field                         \n",
       "TTYPE21 = 'RASS_sn '           / label for field  21                            \n",
       "TFORM21 = 'E       '           / data format of field: 4-byte REAL              \n",
       "TTYPE22 = 'RASS_sep'           / label for field  22                            \n",
       "TFORM22 = 'E       '           / data format of field: 4-byte REAL              \n",
       "TUNIT22 = 'arcsec  '           / physical unit of field                         \n",
       "TTYPE23 = 'TWOMASSmag_J'       / label for field  23                            \n",
       "TFORM23 = 'E       '           / data format of field: 4-byte REAL              \n",
       "TUNIT23 = 'mag     '           / physical unit of field                         \n",
       "TTYPE24 = 'TWOMASSmagerr_J'    / label for field  24                            \n",
       "TFORM24 = 'E       '           / data format of field: 4-byte REAL              \n",
       "TUNIT24 = 'mag     '           / physical unit of field                         \n",
       "TTYPE25 = 'TWOMASSmag_H'       / label for field  25                            \n",
       "TFORM25 = 'E       '           / data format of field: 4-byte REAL              \n",
       "TUNIT25 = 'mag     '           / physical unit of field                         \n",
       "TTYPE26 = 'TWOMASSmagerr_H'    / label for field  26                            \n",
       "TFORM26 = 'E       '           / data format of field: 4-byte REAL              \n",
       "TUNIT26 = 'mag     '           / physical unit of field                         \n",
       "TTYPE27 = 'TWOMASSmag_K'       / label for field  27                            \n",
       "TFORM27 = 'E       '           / data format of field: 4-byte REAL              \n",
       "TUNIT27 = 'mag     '           / physical unit of field                         \n",
       "TTYPE28 = 'TWOMASSmagerr_K'    / label for field  28                            \n",
       "TFORM28 = 'E       '           / data format of field: 4-byte REAL              \n",
       "TUNIT28 = 'mag     '           / physical unit of field                         \n",
       "TTYPE29 = 'TWOMASS_sep'        / label for field  29                            \n",
       "TFORM29 = 'E       '           / data format of field: 4-byte REAL              \n",
       "TUNIT29 = 'arcsec  '           / physical unit of field                         \n",
       "TTYPE30 = 'M_i     '           / label for field  30                            \n",
       "TFORM30 = 'E       '           / data format of field: 4-byte REAL              \n",
       "TUNIT30 = 'mag     '           / physical unit of field                         \n",
       "TTYPE31 = 'morphology'         / label for field  31                            \n",
       "TFORM31 = 'I       '           / data format of field: 2-byte INTEGER           \n",
       "TTYPE32 = 'ts_ver  '           / label for field  32                            \n",
       "TFORM32 = 'I       '           / data format of field: 2-byte INTEGER           \n",
       "TTYPE33 = 'ts_t_qso'           / label for field  33                            \n",
       "TFORM33 = 'I       '           / data format of field: 2-byte INTEGER           \n",
       "TTYPE34 = 'ts_t_hiz'           / label for field  34                            \n",
       "TFORM34 = 'I       '           / data format of field: 2-byte INTEGER           \n",
       "TTYPE35 = 'ts_t_FIRST'         / label for field  35                            \n",
       "TFORM35 = 'I       '           / data format of field: 2-byte INTEGER           \n",
       "TTYPE36 = 'ts_t_ROSAT'         / label for field  36                            \n",
       "TFORM36 = 'I       '           / data format of field: 2-byte INTEGER           \n",
       "TTYPE37 = 'ts_t_serendip'      / label for field  37                            \n",
       "TFORM37 = 'I       '           / data format of field: 2-byte INTEGER           \n",
       "TTYPE38 = 'ts_t_star'          / label for field  38                            \n",
       "TFORM38 = 'I       '           / data format of field: 2-byte INTEGER           \n",
       "TTYPE39 = 'ts_t_gal'           / label for field  39                            \n",
       "TFORM39 = 'I       '           / data format of field: 2-byte INTEGER           \n",
       "TTYPE40 = 'ts_b_qso'           / label for field  40                            \n",
       "TFORM40 = 'I       '           / data format of field: 2-byte INTEGER           \n",
       "TTYPE41 = 'ts_b_hiz'           / label for field  41                            \n",
       "TFORM41 = 'I       '           / data format of field: 2-byte INTEGER           \n",
       "TTYPE42 = 'ts_b_FIRST'         / label for field  42                            \n",
       "TFORM42 = 'I       '           / data format of field: 2-byte INTEGER           \n",
       "TTYPE43 = 'ts_b_ROSAT'         / label for field  43                            \n",
       "TFORM43 = 'I       '           / data format of field: 2-byte INTEGER           \n",
       "TTYPE44 = 'ts_b_serendip'      / label for field  44                            \n",
       "TFORM44 = 'I       '           / data format of field: 2-byte INTEGER           \n",
       "TTYPE45 = 'ts_b_star'          / label for field  45                            \n",
       "TFORM45 = 'I       '           / data format of field: 2-byte INTEGER           \n",
       "TTYPE46 = 'ts_b_gal'           / label for field  46                            \n",
       "TFORM46 = 'I       '           / data format of field: 2-byte INTEGER           \n",
       "TTYPE47 = 'run_best'           / label for field  47                            \n",
       "TFORM47 = 'I       '           / data format of field: 2-byte INTEGER           \n",
       "TTYPE48 = 'MJD_best'           / label for field  48                            \n",
       "TFORM48 = 'J       '           / data format of field: 4-byte INTEGER           \n",
       "TUNIT48 = 'd       '           / physical unit of field                         \n",
       "TTYPE49 = 'MJD_spec'           / label for field  49                            \n",
       "TFORM49 = 'J       '           / data format of field: 4-byte INTEGER           \n",
       "TUNIT49 = 'd       '           / physical unit of field                         \n",
       "TTYPE50 = 'plate   '           / label for field  50                            \n",
       "TFORM50 = 'I       '           / data format of field: 2-byte INTEGER           \n",
       "TTYPE51 = 'fiberid '           / label for field  51                            \n",
       "TFORM51 = 'I       '           / data format of field: 2-byte INTEGER           \n",
       "TTYPE52 = 'object_name'        / label for field  52                            \n",
       "TFORM52 = '25A     '           / data format of field: ASCII Character          \n",
       "COMMENT SDSSName        DR1 Object Name                                         \n",
       "COMMENT                 hhmmss.ss+ddmmss.s  (J2000; truncated coordinates)      \n",
       "COMMENT                 see http://www.sdss.org/DR1/coverage/IAU.html           \n",
       "COMMENT RA,DEC          J2000 coordinates                                       \n",
       "COMMENT z               Redshift                                                \n",
       "COMMENT source          0 = DR1 Standard Quasar    1 = Unusual Object Search    \n",
       "COMMENT PSFmag          asinhmag: Lupton, Gunn, and Szalay 1999, AJ, 118, 1406  \n",
       "COMMENT                 SDSS photometry is on AB to better than 10%             \n",
       "COMMENT                 AB: Oke and Gunn 1983, ApJ, 266, 713                    \n",
       "COMMENT                 see http://www.sdss.org/DR1/algorithms/fluxcal.html     \n",
       "COMMENT A_u             Galactic absorption in u band (magnitudes)              \n",
       "COMMENT                 A_g, A_r, A_i, A_z = 0.736, 0.534, 0.405, 0.287 x A_u   \n",
       "COMMENT FIRSTmag        FIRST Peak flux density (AB mag) at 20 cm               \n",
       "COMMENT                 AB mag = -2.5 log_10(f_nu / 3631 Jy)                    \n",
       "COMMENT                 0 ==> no detection    -1 ==> not in FIRST survey area   \n",
       "COMMENT lg_RASS_rate    log_10 BSC/FSC full band count rate; 0 ==> no detection \n",
       "COMMENT                 ROSAT All Sky Survey Bright and Faint source catalogs   \n",
       "COMMENT TWOMASS         2MASS All-Sky Point Source Catalog 2003 March 25        \n",
       "COMMENT                 Note that 2MASS magnitues are Vega-based, not AB        \n",
       "COMMENT M_i             Uses Ho=70 Omega_M=0.300 Omega_L= 0.700 alpha_Q=-0.50   \n",
       "COMMENT morphology      0 = point source  1 = extended                          \n",
       "COMMENT ts_ver          Target selection version used in plate drilling  1=2.2  \n",
       "COMMENT                 2=2.5  3=2.7 4=2.9  5=2.11  6=2.13.4  7=2.13.1 8=2.13.4b\n",
       "COMMENT                 9=2.13.5  10=2.13.6  11=2.13.7  12=2.13.8  13=3.1.0     \n",
       "COMMENT ts_t_qso etc.   Target selection flags. ts_t columns are for \"TARGET\"   \n",
       "COMMENT ts_b_qso etc.   (data used to select targets). ts_v are for \"BEST\"      \n",
       "COMMENT                 (latest photometry and final target selection version). \n",
       "COMMENT run_best        SDSS Imaging run number for \"BEST\" data                 \n",
       "COMMENT MJD_best        Modified Julian Date of BEST imaging observation        \n",
       "COMMENT MJD_spec        Modified Julian Date of spectroscopic observation       \n",
       "COMMENT object_name     Object Name if previously published                     \n",
       "COMMENT                 \"SDSS\" if previously published SDSS discovery           "
      ]
     },
     "execution_count": 27,
     "metadata": {},
     "output_type": "execute_result"
    }
   ],
   "source": [
    "qhdu[1].header"
   ]
  },
  {
   "cell_type": "code",
   "execution_count": 28,
   "metadata": {},
   "outputs": [
    {
     "data": {
      "text/plain": [
       "Text(0, 0.5, 'Number')"
      ]
     },
     "execution_count": 28,
     "metadata": {},
     "output_type": "execute_result"
    },
    {
     "data": {
      "image/png": "[encoded data removed]",
      "text/plain": [
       "<Figure size 576x432 with 1 Axes>"
      ]
     },
     "metadata": {
      "needs_background": "light"
     },
     "output_type": "display_data"
    }
   ],
   "source": [
    "plt.figure(figsize=(8, 6))\n",
    "num, vals, _ = plt.hist(qhdu[1].data['Z'], bins=20)\n",
    "plt.xlabel(\"Redshift\")\n",
    "plt.ylabel(\"Number\")"
   ]
  },
  {
   "cell_type": "code",
   "execution_count": 29,
   "metadata": {},
   "outputs": [
    {
     "data": {
      "text/plain": [
       "Text(0, 0.5, 'r - i')"
      ]
     },
     "execution_count": 29,
     "metadata": {},
     "output_type": "execute_result"
    },
    {
     "data": {
      "image/png": "[encoded data removed]",
      "text/plain": [
       "<Figure size 576x432 with 1 Axes>"
      ]
     },
     "metadata": {
      "needs_background": "light"
     },
     "output_type": "display_data"
    }
   ],
   "source": [
    "plt.figure(figsize=(8, 6))\n",
    "pmask = qhdu[1].data['psfmagerr_u'] < 0.3\n",
    "pmask = pmask*(qhdu[1].data['psfmagerr_g'] < 0.3)\n",
    "plt.plot( qhdu[1].data['psfmag_u'] - qhdu[1].data['psfmag_g'], \n",
    "         qhdu[1].data['psfmag_r'] - qhdu[1].data['psfmag_i'], '.')\n",
    "plt.xlabel('u - g')\n",
    "plt.ylabel('r - i')"
   ]
  },
  {
   "cell_type": "markdown",
   "metadata": {},
   "source": [
    "### astropy Table\n",
    "\n",
    "The table module in astropy provides a convenient way to access tabular data stored in a variety of formats, including fits, ascii, and several others. This format is great for many applications that range from creating new tables by adding rows and/or columns, to manipulating multi-dimensional data, to sophisticated operations like database joins and concatenation. "
   ]
  },
  {
   "cell_type": "code",
   "execution_count": 30,
   "metadata": {},
   "outputs": [],
   "source": [
    "### Table data\n",
    "from astropy.table import Table"
   ]
  },
  {
   "cell_type": "code",
   "execution_count": 31,
   "metadata": {},
   "outputs": [],
   "source": [
    "tab = Table.read(qsofile)"
   ]
  },
  {
   "cell_type": "code",
   "execution_count": 32,
   "metadata": {},
   "outputs": [
    {
     "data": {
      "text/html": [
       "<i>Table length=16713</i>\n",
       "<table id=\"table140351152279408\" class=\"table-striped table-bordered table-condensed\">\n",
       "<thead><tr><th>SDSSName</th><th>RA</th><th>DEC</th><th>z</th><th>source</th><th>psfmag_u</th><th>psfmagerr_u</th><th>psfmag_g</th><th>psfmagerr_g</th><th>psfmag_r</th><th>psfmagerr_r</th><th>psfmag_i</th><th>psfmagerr_i</th><th>psfmag_z</th><th>psfmagerr_z</th><th>A_u</th><th>FIRSTmag</th><th>FIRST_sn</th><th>FIRST_sep</th><th>lg_RASS_rate</th><th>RASS_sn</th><th>RASS_sep</th><th>TWOMASSmag_J</th><th>TWOMASSmagerr_J</th><th>TWOMASSmag_H</th><th>TWOMASSmagerr_H</th><th>TWOMASSmag_K</th><th>TWOMASSmagerr_K</th><th>TWOMASS_sep</th><th>M_i</th><th>morphology</th><th>ts_ver</th><th>ts_t_qso</th><th>ts_t_hiz</th><th>ts_t_FIRST</th><th>ts_t_ROSAT</th><th>ts_t_serendip</th><th>ts_t_star</th><th>ts_t_gal</th><th>ts_b_qso</th><th>ts_b_hiz</th><th>ts_b_FIRST</th><th>ts_b_ROSAT</th><th>ts_b_serendip</th><th>ts_b_star</th><th>ts_b_gal</th><th>run_best</th><th>MJD_best</th><th>MJD_spec</th><th>plate</th><th>fiberid</th><th>object_name</th></tr></thead>\n",
       "<thead><tr><th></th><th>degrees</th><th>degrees</th><th></th><th></th><th>asinhmag</th><th>asinhmag</th><th>asinhmag</th><th>asinhmag</th><th>asinhmag</th><th>asinhmag</th><th>asinhmag</th><th>asinhmag</th><th>asinhmag</th><th>asinhmag</th><th>mag</th><th>mag</th><th></th><th>arcsec</th><th>lg_cps</th><th></th><th>arcsec</th><th>mag</th><th>mag</th><th>mag</th><th>mag</th><th>mag</th><th>mag</th><th>arcsec</th><th>mag</th><th></th><th></th><th></th><th></th><th></th><th></th><th></th><th></th><th></th><th></th><th></th><th></th><th></th><th></th><th></th><th></th><th></th><th>d</th><th>d</th><th></th><th></th><th></th></tr></thead>\n",
       "<thead><tr><th>bytes18</th><th>float64</th><th>float64</th><th>float32</th><th>float32</th><th>float32</th><th>float32</th><th>float32</th><th>float32</th><th>float32</th><th>float32</th><th>float32</th><th>float32</th><th>float32</th><th>float32</th><th>float32</th><th>float32</th><th>float32</th><th>float32</th><th>float32</th><th>float32</th><th>float32</th><th>float32</th><th>float32</th><th>float32</th><th>float32</th><th>float32</th><th>float32</th><th>float32</th><th>float32</th><th>int16</th><th>int16</th><th>int16</th><th>int16</th><th>int16</th><th>int16</th><th>int16</th><th>int16</th><th>int16</th><th>int16</th><th>int16</th><th>int16</th><th>int16</th><th>int16</th><th>int16</th><th>int16</th><th>int16</th><th>int32</th><th>int32</th><th>int16</th><th>int16</th><th>bytes25</th></tr></thead>\n",
       "<tr><td>000009.42-102751.9</td><td>0.039273</td><td>-10.464431</td><td>1.8446</td><td>0.0</td><td>19.234</td><td>0.034</td><td>19.034</td><td>0.026</td><td>18.982</td><td>0.021</td><td>18.792</td><td>0.018</td><td>18.746</td><td>0.047</td><td>0.187</td><td>0.0</td><td>0.0</td><td>0.0</td><td>0.0</td><td>0.0</td><td>0.0</td><td>0.0</td><td>0.0</td><td>0.0</td><td>0.0</td><td>0.0</td><td>0.0</td><td>0.0</td><td>-26.458</td><td>0</td><td>12</td><td>1</td><td>0</td><td>0</td><td>0</td><td>1</td><td>0</td><td>0</td><td>1</td><td>0</td><td>0</td><td>0</td><td>1</td><td>0</td><td>0</td><td>1740</td><td>51814</td><td>52143</td><td>650</td><td>199</td><td></td></tr>\n",
       "<tr><td>000011.96+000225.3</td><td>0.049843</td><td>0.040368</td><td>0.4793</td><td>0.0</td><td>18.248</td><td>0.021</td><td>17.97</td><td>0.02</td><td>18.026</td><td>0.019</td><td>17.957</td><td>0.019</td><td>17.908</td><td>0.033</td><td>0.161</td><td>0.0</td><td>0.0</td><td>0.0</td><td>-1.66</td><td>0.0</td><td>2.061</td><td>16.651</td><td>0.136</td><td>15.82</td><td>0.149</td><td>14.821</td><td>0.111</td><td>0.193</td><td>-24.047</td><td>0</td><td>3</td><td>1</td><td>0</td><td>0</td><td>1</td><td>0</td><td>0</td><td>0</td><td>1</td><td>0</td><td>0</td><td>1</td><td>0</td><td>0</td><td>0</td><td>3325</td><td>52522</td><td>51791</td><td>387</td><td>200</td><td>LBQS 2357-0014</td></tr>\n",
       "<tr><td>000017.38-085123.7</td><td>0.072429</td><td>-8.856609</td><td>1.2502</td><td>0.0</td><td>19.18</td><td>0.035</td><td>18.731</td><td>0.028</td><td>18.28</td><td>0.016</td><td>18.281</td><td>0.022</td><td>18.269</td><td>0.036</td><td>0.194</td><td>13.966</td><td>62.73</td><td>0.547</td><td>0.0</td><td>0.0</td><td>0.0</td><td>0.0</td><td>0.0</td><td>0.0</td><td>0.0</td><td>0.0</td><td>0.0</td><td>0.0</td><td>-26.057</td><td>0</td><td>12</td><td>1</td><td>0</td><td>1</td><td>0</td><td>1</td><td>0</td><td>0</td><td>1</td><td>0</td><td>1</td><td>0</td><td>1</td><td>0</td><td>0</td><td>1740</td><td>51814</td><td>52143</td><td>650</td><td>459</td><td>FBQS J0000-0851</td></tr>\n",
       "<tr><td>000028.82-102755.8</td><td>0.120089</td><td>-10.4655</td><td>1.139</td><td>0.0</td><td>20.448</td><td>0.085</td><td>19.702</td><td>0.027</td><td>19.175</td><td>0.016</td><td>19.14</td><td>0.024</td><td>19.1</td><td>0.061</td><td>0.198</td><td>15.45</td><td>16.9</td><td>0.422</td><td>0.0</td><td>0.0</td><td>0.0</td><td>0.0</td><td>0.0</td><td>0.0</td><td>0.0</td><td>0.0</td><td>0.0</td><td>0.0</td><td>-24.977</td><td>0</td><td>12</td><td>0</td><td>0</td><td>1</td><td>0</td><td>1</td><td>0</td><td>0</td><td>0</td><td>0</td><td>1</td><td>0</td><td>1</td><td>0</td><td>0</td><td>1740</td><td>51814</td><td>52143</td><td>650</td><td>169</td><td></td></tr>\n",
       "<tr><td>000035.75-103305.3</td><td>0.148969</td><td>-10.5515</td><td>1.2182</td><td>0.0</td><td>19.422</td><td>0.039</td><td>19.464</td><td>0.026</td><td>19.043</td><td>0.016</td><td>19.003</td><td>0.024</td><td>19.181</td><td>0.066</td><td>0.181</td><td>0.0</td><td>0.0</td><td>0.0</td><td>0.0</td><td>0.0</td><td>0.0</td><td>0.0</td><td>0.0</td><td>0.0</td><td>0.0</td><td>0.0</td><td>0.0</td><td>0.0</td><td>-25.268</td><td>0</td><td>12</td><td>1</td><td>0</td><td>0</td><td>0</td><td>0</td><td>0</td><td>0</td><td>1</td><td>0</td><td>0</td><td>0</td><td>0</td><td>0</td><td>0</td><td>1740</td><td>51814</td><td>52143</td><td>650</td><td>170</td><td></td></tr>\n",
       "<tr><td>000039.00-001803.9</td><td>0.162503</td><td>-0.301103</td><td>2.1219</td><td>0.0</td><td>19.258</td><td>0.035</td><td>19.078</td><td>0.018</td><td>18.89</td><td>0.016</td><td>18.889</td><td>0.02</td><td>18.802</td><td>0.044</td><td>0.173</td><td>0.0</td><td>0.0</td><td>0.0</td><td>0.0</td><td>0.0</td><td>0.0</td><td>0.0</td><td>0.0</td><td>0.0</td><td>0.0</td><td>0.0</td><td>0.0</td><td>0.0</td><td>-26.677</td><td>0</td><td>3</td><td>1</td><td>0</td><td>0</td><td>0</td><td>1</td><td>1</td><td>0</td><td>1</td><td>0</td><td>0</td><td>0</td><td>1</td><td>0</td><td>0</td><td>3325</td><td>52522</td><td>51791</td><td>387</td><td>167</td><td>SDSS J000039.00-001804.0</td></tr>\n",
       "<tr><td>000042.89+005539.5</td><td>0.178749</td><td>0.927659</td><td>0.9513</td><td>0.0</td><td>18.307</td><td>0.039</td><td>18.158</td><td>0.013</td><td>17.942</td><td>0.011</td><td>17.903</td><td>0.024</td><td>17.8</td><td>0.03</td><td>0.145</td><td>0.0</td><td>0.0</td><td>0.0</td><td>0.0</td><td>0.0</td><td>0.0</td><td>0.0</td><td>0.0</td><td>0.0</td><td>0.0</td><td>0.0</td><td>0.0</td><td>0.0</td><td>-25.759</td><td>0</td><td>3</td><td>1</td><td>0</td><td>0</td><td>0</td><td>1</td><td>1</td><td>0</td><td>1</td><td>0</td><td>0</td><td>0</td><td>1</td><td>0</td><td>0</td><td>3325</td><td>52522</td><td>51791</td><td>387</td><td>531</td><td>LBQS 2358+0038</td></tr>\n",
       "<tr><td>000043.97-091134.8</td><td>0.183226</td><td>-9.193026</td><td>0.4396</td><td>0.0</td><td>19.086</td><td>0.034</td><td>18.719</td><td>0.034</td><td>18.578</td><td>0.018</td><td>18.366</td><td>0.027</td><td>18.143</td><td>0.029</td><td>0.189</td><td>0.0</td><td>0.0</td><td>0.0</td><td>0.0</td><td>0.0</td><td>0.0</td><td>17.076</td><td>0.16</td><td>16.324</td><td>0.196</td><td>15.122</td><td>0.128</td><td>0.464</td><td>-23.44</td><td>0</td><td>12</td><td>1</td><td>0</td><td>0</td><td>0</td><td>1</td><td>0</td><td>0</td><td>1</td><td>0</td><td>0</td><td>0</td><td>1</td><td>0</td><td>0</td><td>1740</td><td>51814</td><td>52143</td><td>650</td><td>538</td><td></td></tr>\n",
       "<tr><td>000049.46-100043.8</td><td>0.206111</td><td>-10.012182</td><td>1.1375</td><td>0.0</td><td>21.694</td><td>0.196</td><td>21.127</td><td>0.05</td><td>20.489</td><td>0.031</td><td>20.354</td><td>0.043</td><td>19.796</td><td>0.115</td><td>0.183</td><td>0.0</td><td>0.0</td><td>0.0</td><td>0.0</td><td>0.0</td><td>0.0</td><td>0.0</td><td>0.0</td><td>0.0</td><td>0.0</td><td>0.0</td><td>0.0</td><td>0.0</td><td>-23.754</td><td>0</td><td>12</td><td>0</td><td>1</td><td>0</td><td>0</td><td>0</td><td>0</td><td>0</td><td>0</td><td>0</td><td>0</td><td>0</td><td>0</td><td>0</td><td>0</td><td>1740</td><td>51814</td><td>52143</td><td>650</td><td>172</td><td></td></tr>\n",
       "<tr><td>...</td><td>...</td><td>...</td><td>...</td><td>...</td><td>...</td><td>...</td><td>...</td><td>...</td><td>...</td><td>...</td><td>...</td><td>...</td><td>...</td><td>...</td><td>...</td><td>...</td><td>...</td><td>...</td><td>...</td><td>...</td><td>...</td><td>...</td><td>...</td><td>...</td><td>...</td><td>...</td><td>...</td><td>...</td><td>...</td><td>...</td><td>...</td><td>...</td><td>...</td><td>...</td><td>...</td><td>...</td><td>...</td><td>...</td><td>...</td><td>...</td><td>...</td><td>...</td><td>...</td><td>...</td><td>...</td><td>...</td><td>...</td><td>...</td><td>...</td><td>...</td><td>...</td></tr>\n",
       "<tr><td>235917.02-011029.0</td><td>359.820953</td><td>-1.174729</td><td>1.1163</td><td>0.0</td><td>18.522</td><td>0.022</td><td>18.387</td><td>0.025</td><td>18.085</td><td>0.021</td><td>18.09</td><td>0.023</td><td>18.089</td><td>0.027</td><td>0.214</td><td>0.0</td><td>0.0</td><td>0.0</td><td>0.0</td><td>0.0</td><td>0.0</td><td>0.0</td><td>0.0</td><td>0.0</td><td>0.0</td><td>0.0</td><td>0.0</td><td>0.0</td><td>-25.985</td><td>0</td><td>3</td><td>1</td><td>0</td><td>0</td><td>0</td><td>1</td><td>1</td><td>0</td><td>1</td><td>0</td><td>0</td><td>0</td><td>1</td><td>0</td><td>0</td><td>3325</td><td>52522</td><td>51791</td><td>387</td><td>124</td><td>LBQS 2356-0127</td></tr>\n",
       "<tr><td>235925.46+002854.6</td><td>359.856108</td><td>0.481853</td><td>2.0356</td><td>0.0</td><td>18.5</td><td>0.024</td><td>18.32</td><td>0.025</td><td>18.242</td><td>0.019</td><td>18.093</td><td>0.017</td><td>17.886</td><td>0.027</td><td>0.138</td><td>0.0</td><td>0.0</td><td>0.0</td><td>0.0</td><td>0.0</td><td>0.0</td><td>0.0</td><td>0.0</td><td>0.0</td><td>0.0</td><td>0.0</td><td>0.0</td><td>0.0</td><td>-27.364</td><td>0</td><td>3</td><td>1</td><td>0</td><td>0</td><td>0</td><td>0</td><td>0</td><td>0</td><td>1</td><td>0</td><td>0</td><td>0</td><td>0</td><td>0</td><td>0</td><td>3325</td><td>52522</td><td>51791</td><td>387</td><td>472</td><td>SDSS J235925.46+002854.6</td></tr>\n",
       "<tr><td>235930.42+003733.5</td><td>359.876765</td><td>0.625992</td><td>0.8636</td><td>0.0</td><td>19.375</td><td>0.034</td><td>19.084</td><td>0.026</td><td>18.874</td><td>0.02</td><td>18.974</td><td>0.022</td><td>18.832</td><td>0.046</td><td>0.145</td><td>0.0</td><td>0.0</td><td>0.0</td><td>0.0</td><td>0.0</td><td>0.0</td><td>0.0</td><td>0.0</td><td>0.0</td><td>0.0</td><td>0.0</td><td>0.0</td><td>0.0</td><td>-24.454</td><td>0</td><td>3</td><td>1</td><td>0</td><td>0</td><td>0</td><td>1</td><td>1</td><td>0</td><td>1</td><td>0</td><td>0</td><td>0</td><td>1</td><td>0</td><td>0</td><td>3325</td><td>52522</td><td>51791</td><td>387</td><td>467</td><td>SDSS J235930.42+003733.5</td></tr>\n",
       "<tr><td>235938.40-003448.4</td><td>359.910016</td><td>-0.580139</td><td>1.2097</td><td>0.0</td><td>18.503</td><td>0.022</td><td>18.342</td><td>0.028</td><td>18.004</td><td>0.017</td><td>17.877</td><td>0.017</td><td>17.959</td><td>0.023</td><td>0.2</td><td>0.0</td><td>0.0</td><td>0.0</td><td>0.0</td><td>0.0</td><td>0.0</td><td>0.0</td><td>0.0</td><td>0.0</td><td>0.0</td><td>0.0</td><td>0.0</td><td>0.0</td><td>-26.385</td><td>0</td><td>3</td><td>1</td><td>0</td><td>0</td><td>0</td><td>1</td><td>1</td><td>0</td><td>1</td><td>0</td><td>0</td><td>0</td><td>1</td><td>0</td><td>0</td><td>2662</td><td>52197</td><td>51791</td><td>387</td><td>188</td><td>SDSS J235938.40-003448.5</td></tr>\n",
       "<tr><td>235940.55-090942.9</td><td>359.918994</td><td>-9.161919</td><td>0.5701</td><td>0.0</td><td>19.351</td><td>0.031</td><td>18.978</td><td>0.029</td><td>19.001</td><td>0.025</td><td>18.835</td><td>0.025</td><td>18.86</td><td>0.049</td><td>0.23</td><td>0.0</td><td>0.0</td><td>0.0</td><td>0.0</td><td>0.0</td><td>0.0</td><td>17.047</td><td>0.185</td><td>16.589</td><td>0.238</td><td>15.569</td><td>0.209</td><td>1.16</td><td>-23.618</td><td>0</td><td>12</td><td>1</td><td>0</td><td>0</td><td>0</td><td>1</td><td>0</td><td>0</td><td>1</td><td>0</td><td>0</td><td>0</td><td>1</td><td>0</td><td>0</td><td>1740</td><td>51814</td><td>52143</td><td>650</td><td>418</td><td></td></tr>\n",
       "<tr><td>235944.13-005738.2</td><td>359.933906</td><td>-0.96063</td><td>1.7848</td><td>0.0</td><td>19.607</td><td>0.039</td><td>19.436</td><td>0.02</td><td>19.313</td><td>0.018</td><td>18.983</td><td>0.021</td><td>18.972</td><td>0.048</td><td>0.23</td><td>0.0</td><td>0.0</td><td>0.0</td><td>0.0</td><td>0.0</td><td>0.0</td><td>0.0</td><td>0.0</td><td>0.0</td><td>0.0</td><td>0.0</td><td>0.0</td><td>0.0</td><td>-26.208</td><td>0</td><td>3</td><td>1</td><td>0</td><td>0</td><td>0</td><td>1</td><td>1</td><td>0</td><td>1</td><td>1</td><td>0</td><td>0</td><td>1</td><td>0</td><td>0</td><td>2662</td><td>52197</td><td>51791</td><td>387</td><td>134</td><td>SDSS J235944.13-005738.2</td></tr>\n",
       "<tr><td>235948.53-103938.5</td><td>359.952211</td><td>-10.660707</td><td>0.8293</td><td>0.0</td><td>18.089</td><td>0.016</td><td>17.882</td><td>0.018</td><td>17.787</td><td>0.016</td><td>17.795</td><td>0.017</td><td>17.704</td><td>0.025</td><td>0.17</td><td>0.0</td><td>0.0</td><td>0.0</td><td>0.0</td><td>0.0</td><td>0.0</td><td>16.719</td><td>0.14</td><td>16.205</td><td>0.1</td><td>15.383</td><td>0.222</td><td>0.511</td><td>-25.545</td><td>0</td><td>12</td><td>1</td><td>0</td><td>0</td><td>0</td><td>0</td><td>0</td><td>0</td><td>1</td><td>0</td><td>0</td><td>0</td><td>0</td><td>0</td><td>0</td><td>1729</td><td>51813</td><td>52143</td><td>650</td><td>220</td><td></td></tr>\n",
       "<tr><td>235953.44-093655.6</td><td>359.972676</td><td>-9.615457</td><td>0.3584</td><td>0.0</td><td>19.476</td><td>0.043</td><td>19.279</td><td>0.021</td><td>18.898</td><td>0.017</td><td>18.73</td><td>0.017</td><td>18.289</td><td>0.04</td><td>0.175</td><td>0.0</td><td>0.0</td><td>0.0</td><td>0.0</td><td>0.0</td><td>0.0</td><td>16.976</td><td>0.173</td><td>16.188</td><td>0.164</td><td>15.502</td><td>0.238</td><td>0.149</td><td>-22.579</td><td>1</td><td>12</td><td>1</td><td>0</td><td>0</td><td>0</td><td>0</td><td>0</td><td>0</td><td>1</td><td>0</td><td>0</td><td>0</td><td>0</td><td>0</td><td>0</td><td>1740</td><td>51814</td><td>52143</td><td>650</td><td>469</td><td></td></tr>\n",
       "<tr><td>235958.21+005139.8</td><td>359.992549</td><td>0.861058</td><td>2.0385</td><td>0.0</td><td>19.252</td><td>0.037</td><td>19.01</td><td>0.022</td><td>18.805</td><td>0.018</td><td>18.646</td><td>0.021</td><td>18.441</td><td>0.037</td><td>0.131</td><td>0.0</td><td>0.0</td><td>0.0</td><td>0.0</td><td>0.0</td><td>0.0</td><td>0.0</td><td>0.0</td><td>0.0</td><td>0.0</td><td>0.0</td><td>0.0</td><td>0.0</td><td>-26.812</td><td>0</td><td>3</td><td>1</td><td>0</td><td>0</td><td>0</td><td>0</td><td>0</td><td>0</td><td>1</td><td>0</td><td>0</td><td>0</td><td>1</td><td>0</td><td>0</td><td>3325</td><td>52522</td><td>51791</td><td>387</td><td>458</td><td>SDSS J235958.21+005139.7</td></tr>\n",
       "<tr><td>235959.08-090943.9</td><td>359.996179</td><td>-9.162221</td><td>1.2826</td><td>0.0</td><td>18.44</td><td>0.027</td><td>18.356</td><td>0.015</td><td>18.144</td><td>0.02</td><td>18.113</td><td>0.023</td><td>18.072</td><td>0.035</td><td>0.223</td><td>0.0</td><td>0.0</td><td>0.0</td><td>0.0</td><td>0.0</td><td>0.0</td><td>0.0</td><td>0.0</td><td>0.0</td><td>0.0</td><td>0.0</td><td>0.0</td><td>0.0</td><td>-26.298</td><td>0</td><td>12</td><td>1</td><td>0</td><td>0</td><td>0</td><td>0</td><td>0</td><td>0</td><td>1</td><td>0</td><td>0</td><td>0</td><td>0</td><td>0</td><td>0</td><td>1740</td><td>51814</td><td>52143</td><td>650</td><td>448</td><td></td></tr>\n",
       "</table>"
      ],
      "text/plain": [
       "<Table length=16713>\n",
       "     SDSSName          RA        DEC     ... fiberid        object_name       \n",
       "                    degrees    degrees   ...                                  \n",
       "     bytes18        float64    float64   ...  int16           bytes25         \n",
       "------------------ ---------- ---------- ... ------- -------------------------\n",
       "000009.42-102751.9   0.039273 -10.464431 ...     199                          \n",
       "000011.96+000225.3   0.049843   0.040368 ...     200 LBQS 2357-0014           \n",
       "000017.38-085123.7   0.072429  -8.856609 ...     459 FBQS J0000-0851          \n",
       "000028.82-102755.8   0.120089   -10.4655 ...     169                          \n",
       "000035.75-103305.3   0.148969   -10.5515 ...     170                          \n",
       "000039.00-001803.9   0.162503  -0.301103 ...     167 SDSS J000039.00-001804.0 \n",
       "000042.89+005539.5   0.178749   0.927659 ...     531 LBQS 2358+0038           \n",
       "000043.97-091134.8   0.183226  -9.193026 ...     538                          \n",
       "000049.46-100043.8   0.206111 -10.012182 ...     172                          \n",
       "               ...        ...        ... ...     ...                       ...\n",
       "235917.02-011029.0 359.820953  -1.174729 ...     124 LBQS 2356-0127           \n",
       "235925.46+002854.6 359.856108   0.481853 ...     472 SDSS J235925.46+002854.6 \n",
       "235930.42+003733.5 359.876765   0.625992 ...     467 SDSS J235930.42+003733.5 \n",
       "235938.40-003448.4 359.910016  -0.580139 ...     188 SDSS J235938.40-003448.5 \n",
       "235940.55-090942.9 359.918994  -9.161919 ...     418                          \n",
       "235944.13-005738.2 359.933906   -0.96063 ...     134 SDSS J235944.13-005738.2 \n",
       "235948.53-103938.5 359.952211 -10.660707 ...     220                          \n",
       "235953.44-093655.6 359.972676  -9.615457 ...     469                          \n",
       "235958.21+005139.8 359.992549   0.861058 ...     458 SDSS J235958.21+005139.7 \n",
       "235959.08-090943.9 359.996179  -9.162221 ...     448                          "
      ]
     },
     "execution_count": 32,
     "metadata": {},
     "output_type": "execute_result"
    }
   ],
   "source": [
    "# This format also displays the data in a much more read-friendly format\n",
    "tab"
   ]
  },
  {
   "cell_type": "code",
   "execution_count": 33,
   "metadata": {},
   "outputs": [
    {
     "data": {
      "text/plain": [
       "dtype([('SDSSName', 'S18'), ('RA', '>f8'), ('DEC', '>f8'), ('z', '>f4'), ('source', '>f4'), ('psfmag_u', '>f4'), ('psfmagerr_u', '>f4'), ('psfmag_g', '>f4'), ('psfmagerr_g', '>f4'), ('psfmag_r', '>f4'), ('psfmagerr_r', '>f4'), ('psfmag_i', '>f4'), ('psfmagerr_i', '>f4'), ('psfmag_z', '>f4'), ('psfmagerr_z', '>f4'), ('A_u', '>f4'), ('FIRSTmag', '>f4'), ('FIRST_sn', '>f4'), ('FIRST_sep', '>f4'), ('lg_RASS_rate', '>f4'), ('RASS_sn', '>f4'), ('RASS_sep', '>f4'), ('TWOMASSmag_J', '>f4'), ('TWOMASSmagerr_J', '>f4'), ('TWOMASSmag_H', '>f4'), ('TWOMASSmagerr_H', '>f4'), ('TWOMASSmag_K', '>f4'), ('TWOMASSmagerr_K', '>f4'), ('TWOMASS_sep', '>f4'), ('M_i', '>f4'), ('morphology', '>i2'), ('ts_ver', '>i2'), ('ts_t_qso', '>i2'), ('ts_t_hiz', '>i2'), ('ts_t_FIRST', '>i2'), ('ts_t_ROSAT', '>i2'), ('ts_t_serendip', '>i2'), ('ts_t_star', '>i2'), ('ts_t_gal', '>i2'), ('ts_b_qso', '>i2'), ('ts_b_hiz', '>i2'), ('ts_b_FIRST', '>i2'), ('ts_b_ROSAT', '>i2'), ('ts_b_serendip', '>i2'), ('ts_b_star', '>i2'), ('ts_b_gal', '>i2'), ('run_best', '>i2'), ('MJD_best', '>i4'), ('MJD_spec', '>i4'), ('plate', '>i2'), ('fiberid', '>i2'), ('object_name', 'S25')])"
      ]
     },
     "execution_count": 33,
     "metadata": {},
     "output_type": "execute_result"
    }
   ],
   "source": [
    "tab.dtype"
   ]
  },
  {
   "cell_type": "code",
   "execution_count": 34,
   "metadata": {},
   "outputs": [
    {
     "data": {
      "text/plain": [
       "<TableColumns names=('SDSSName','RA','DEC','z','source','psfmag_u','psfmagerr_u','psfmag_g','psfmagerr_g','psfmag_r','psfmagerr_r','psfmag_i','psfmagerr_i','psfmag_z','psfmagerr_z','A_u','FIRSTmag','FIRST_sn','FIRST_sep','lg_RASS_rate','RASS_sn','RASS_sep','TWOMASSmag_J','TWOMASSmagerr_J','TWOMASSmag_H','TWOMASSmagerr_H','TWOMASSmag_K','TWOMASSmagerr_K','TWOMASS_sep','M_i','morphology','ts_ver','ts_t_qso','ts_t_hiz','ts_t_FIRST','ts_t_ROSAT','ts_t_serendip','ts_t_star','ts_t_gal','ts_b_qso','ts_b_hiz','ts_b_FIRST','ts_b_ROSAT','ts_b_serendip','ts_b_star','ts_b_gal','run_best','MJD_best','MJD_spec','plate','fiberid','object_name')>"
      ]
     },
     "execution_count": 34,
     "metadata": {},
     "output_type": "execute_result"
    }
   ],
   "source": [
    "tab.columns"
   ]
  },
  {
   "cell_type": "code",
   "execution_count": 35,
   "metadata": {},
   "outputs": [],
   "source": [
    "# Here is an example of reading a table directly from an external site. This is a VizieR catalog in CDS format:\n",
    "t = Table.read(\"ftp://cdsarc.u-strasbg.fr/pub/cats/VII/253/snrs.dat\",\n",
    "    readme=\"ftp://cdsarc.u-strasbg.fr/pub/cats/VII/253/ReadMe\",\n",
    "    format=\"ascii.cds\")"
   ]
  },
  {
   "cell_type": "code",
   "execution_count": 36,
   "metadata": {},
   "outputs": [
    {
     "data": {
      "text/html": [
       "<i>Table length=274</i>\n",
       "<table id=\"table140351152145696\" class=\"table-striped table-bordered table-condensed\">\n",
       "<thead><tr><th>SNR</th><th>RAh</th><th>RAm</th><th>RAs</th><th>DE-</th><th>DEd</th><th>DEm</th><th>MajDiam</th><th>---</th><th>MinDiam</th><th>u_MinDiam</th><th>type</th><th>l_S(1GHz)</th><th>S(1GHz)</th><th>u_S(1GHz)</th><th>Sp-Index</th><th>u_Sp-Index</th><th>Names</th></tr></thead>\n",
       "<thead><tr><th></th><th>h</th><th>min</th><th>s</th><th></th><th>deg</th><th>arcmin</th><th>arcmin</th><th></th><th>arcmin</th><th></th><th></th><th></th><th>Jy</th><th></th><th></th><th></th><th></th></tr></thead>\n",
       "<thead><tr><th>str11</th><th>int64</th><th>int64</th><th>int64</th><th>str1</th><th>int64</th><th>int64</th><th>float64</th><th>str1</th><th>float64</th><th>str1</th><th>str2</th><th>str1</th><th>float64</th><th>str1</th><th>float64</th><th>str1</th><th>str26</th></tr></thead>\n",
       "<tr><td>G000.0+00.0</td><td>17</td><td>45</td><td>44</td><td>-</td><td>29</td><td>0</td><td>3.5</td><td>x</td><td>2.5</td><td>--</td><td>S</td><td>--</td><td>100.0</td><td>?</td><td>0.8</td><td>?</td><td>Sgr A East</td></tr>\n",
       "<tr><td>G000.3+00.0</td><td>17</td><td>46</td><td>15</td><td>-</td><td>28</td><td>38</td><td>15.0</td><td>x</td><td>8.0</td><td>--</td><td>S</td><td>--</td><td>22.0</td><td>--</td><td>0.6</td><td>--</td><td>--</td></tr>\n",
       "<tr><td>G000.9+00.1</td><td>17</td><td>47</td><td>21</td><td>-</td><td>28</td><td>9</td><td>8.0</td><td>--</td><td>--</td><td>--</td><td>C</td><td>--</td><td>18.0</td><td>?</td><td>--</td><td>v</td><td>--</td></tr>\n",
       "<tr><td>G001.0-00.1</td><td>17</td><td>48</td><td>30</td><td>-</td><td>28</td><td>9</td><td>8.0</td><td>--</td><td>--</td><td>--</td><td>S</td><td>--</td><td>15.0</td><td>--</td><td>0.6</td><td>?</td><td>--</td></tr>\n",
       "<tr><td>G001.4-00.1</td><td>17</td><td>49</td><td>39</td><td>-</td><td>27</td><td>46</td><td>10.0</td><td>--</td><td>--</td><td>--</td><td>S</td><td>--</td><td>2.0</td><td>?</td><td>--</td><td>?</td><td>--</td></tr>\n",
       "<tr><td>G001.9+00.3</td><td>17</td><td>48</td><td>45</td><td>-</td><td>27</td><td>10</td><td>1.5</td><td>--</td><td>--</td><td>--</td><td>S</td><td>--</td><td>0.6</td><td>--</td><td>0.6</td><td>--</td><td>--</td></tr>\n",
       "<tr><td>G003.7-00.2</td><td>17</td><td>55</td><td>26</td><td>-</td><td>25</td><td>50</td><td>14.0</td><td>x</td><td>11.0</td><td>--</td><td>S</td><td>--</td><td>2.3</td><td>--</td><td>0.65</td><td>--</td><td>--</td></tr>\n",
       "<tr><td>G003.8+00.3</td><td>17</td><td>52</td><td>55</td><td>-</td><td>25</td><td>28</td><td>18.0</td><td>--</td><td>--</td><td>--</td><td>S?</td><td>--</td><td>3.0</td><td>?</td><td>0.6</td><td>--</td><td>--</td></tr>\n",
       "<tr><td>G004.2-03.5</td><td>18</td><td>8</td><td>55</td><td>-</td><td>27</td><td>3</td><td>28.0</td><td>--</td><td>--</td><td>--</td><td>S</td><td>--</td><td>3.2</td><td>?</td><td>0.6</td><td>?</td><td>--</td></tr>\n",
       "<tr><td>...</td><td>...</td><td>...</td><td>...</td><td>...</td><td>...</td><td>...</td><td>...</td><td>...</td><td>...</td><td>...</td><td>...</td><td>...</td><td>...</td><td>...</td><td>...</td><td>...</td><td>...</td></tr>\n",
       "<tr><td>G356.3-00.3</td><td>17</td><td>37</td><td>56</td><td>-</td><td>32</td><td>16</td><td>11.0</td><td>x</td><td>7.0</td><td>--</td><td>S</td><td>--</td><td>3.0</td><td>?</td><td>--</td><td>?</td><td>--</td></tr>\n",
       "<tr><td>G356.3-01.5</td><td>17</td><td>42</td><td>35</td><td>-</td><td>32</td><td>52</td><td>20.0</td><td>x</td><td>15.0</td><td>--</td><td>S</td><td>--</td><td>3.0</td><td>?</td><td>--</td><td>?</td><td>--</td></tr>\n",
       "<tr><td>G357.7-00.1</td><td>17</td><td>40</td><td>29</td><td>-</td><td>30</td><td>58</td><td>8.0</td><td>x</td><td>3.0</td><td>?</td><td>?</td><td>--</td><td>37.0</td><td>--</td><td>0.4</td><td>--</td><td>MSH 17-39</td></tr>\n",
       "<tr><td>G357.7+00.3</td><td>17</td><td>38</td><td>35</td><td>-</td><td>30</td><td>44</td><td>24.0</td><td>--</td><td>--</td><td>--</td><td>S</td><td>--</td><td>10.0</td><td>--</td><td>0.4</td><td>?</td><td>--</td></tr>\n",
       "<tr><td>G358.0+03.8</td><td>17</td><td>26</td><td>0</td><td>-</td><td>28</td><td>36</td><td>38.0</td><td>--</td><td>--</td><td>--</td><td>S</td><td>--</td><td>1.5</td><td>?</td><td>--</td><td>?</td><td>--</td></tr>\n",
       "<tr><td>G358.1+00.1</td><td>17</td><td>37</td><td>0</td><td>-</td><td>29</td><td>59</td><td>20.0</td><td>--</td><td>--</td><td>--</td><td>S</td><td>--</td><td>2.0</td><td>?</td><td>--</td><td>?</td><td>--</td></tr>\n",
       "<tr><td>G358.5-00.9</td><td>17</td><td>46</td><td>10</td><td>-</td><td>30</td><td>40</td><td>17.0</td><td>--</td><td>--</td><td>--</td><td>S</td><td>--</td><td>4.0</td><td>?</td><td>--</td><td>?</td><td>--</td></tr>\n",
       "<tr><td>G359.0-00.9</td><td>17</td><td>46</td><td>50</td><td>-</td><td>30</td><td>16</td><td>23.0</td><td>--</td><td>--</td><td>--</td><td>S</td><td>--</td><td>23.0</td><td>--</td><td>0.5</td><td>--</td><td>--</td></tr>\n",
       "<tr><td>G359.1-00.5</td><td>17</td><td>45</td><td>30</td><td>-</td><td>29</td><td>57</td><td>24.0</td><td>--</td><td>--</td><td>--</td><td>S</td><td>--</td><td>14.0</td><td>--</td><td>0.4</td><td>?</td><td>--</td></tr>\n",
       "<tr><td>G359.1+00.9</td><td>17</td><td>39</td><td>36</td><td>-</td><td>29</td><td>11</td><td>12.0</td><td>x</td><td>11.0</td><td>--</td><td>S</td><td>--</td><td>2.0</td><td>?</td><td>--</td><td>?</td><td>--</td></tr>\n",
       "</table>"
      ],
      "text/plain": [
       "<Table length=274>\n",
       "    SNR      RAh   RAm   RAs  DE-  ... u_S(1GHz) Sp-Index u_Sp-Index   Names   \n",
       "              h    min    s        ...                                         \n",
       "   str11    int64 int64 int64 str1 ...    str1   float64     str1      str26   \n",
       "----------- ----- ----- ----- ---- ... --------- -------- ---------- ----------\n",
       "G000.0+00.0    17    45    44    - ...         ?      0.8          ? Sgr A East\n",
       "G000.3+00.0    17    46    15    - ...        --      0.6         --         --\n",
       "G000.9+00.1    17    47    21    - ...         ?       --          v         --\n",
       "G001.0-00.1    17    48    30    - ...        --      0.6          ?         --\n",
       "G001.4-00.1    17    49    39    - ...         ?       --          ?         --\n",
       "G001.9+00.3    17    48    45    - ...        --      0.6         --         --\n",
       "G003.7-00.2    17    55    26    - ...        --     0.65         --         --\n",
       "G003.8+00.3    17    52    55    - ...         ?      0.6         --         --\n",
       "G004.2-03.5    18     8    55    - ...         ?      0.6          ?         --\n",
       "        ...   ...   ...   ...  ... ...       ...      ...        ...        ...\n",
       "G356.3-00.3    17    37    56    - ...         ?       --          ?         --\n",
       "G356.3-01.5    17    42    35    - ...         ?       --          ?         --\n",
       "G357.7-00.1    17    40    29    - ...        --      0.4         --  MSH 17-39\n",
       "G357.7+00.3    17    38    35    - ...        --      0.4          ?         --\n",
       "G358.0+03.8    17    26     0    - ...         ?       --          ?         --\n",
       "G358.1+00.1    17    37     0    - ...         ?       --          ?         --\n",
       "G358.5-00.9    17    46    10    - ...         ?       --          ?         --\n",
       "G359.0-00.9    17    46    50    - ...        --      0.5         --         --\n",
       "G359.1-00.5    17    45    30    - ...        --      0.4          ?         --\n",
       "G359.1+00.9    17    39    36    - ...         ?       --          ?         --"
      ]
     },
     "execution_count": 36,
     "metadata": {},
     "output_type": "execute_result"
    }
   ],
   "source": [
    "t"
   ]
  },
  {
   "cell_type": "code",
   "execution_count": 37,
   "metadata": {},
   "outputs": [],
   "source": [
    "qtab = Table.read(qsofile)"
   ]
  },
  {
   "cell_type": "code",
   "execution_count": 38,
   "metadata": {},
   "outputs": [
    {
     "data": {
      "text/html": [
       "<i>Table length=16713</i>\n",
       "<table id=\"table140351159069184\" class=\"table-striped table-bordered table-condensed\">\n",
       "<thead><tr><th>SDSSName</th><th>RA</th><th>DEC</th><th>z</th><th>source</th><th>psfmag_u</th><th>psfmagerr_u</th><th>psfmag_g</th><th>psfmagerr_g</th><th>psfmag_r</th><th>psfmagerr_r</th><th>psfmag_i</th><th>psfmagerr_i</th><th>psfmag_z</th><th>psfmagerr_z</th><th>A_u</th><th>FIRSTmag</th><th>FIRST_sn</th><th>FIRST_sep</th><th>lg_RASS_rate</th><th>RASS_sn</th><th>RASS_sep</th><th>TWOMASSmag_J</th><th>TWOMASSmagerr_J</th><th>TWOMASSmag_H</th><th>TWOMASSmagerr_H</th><th>TWOMASSmag_K</th><th>TWOMASSmagerr_K</th><th>TWOMASS_sep</th><th>M_i</th><th>morphology</th><th>ts_ver</th><th>ts_t_qso</th><th>ts_t_hiz</th><th>ts_t_FIRST</th><th>ts_t_ROSAT</th><th>ts_t_serendip</th><th>ts_t_star</th><th>ts_t_gal</th><th>ts_b_qso</th><th>ts_b_hiz</th><th>ts_b_FIRST</th><th>ts_b_ROSAT</th><th>ts_b_serendip</th><th>ts_b_star</th><th>ts_b_gal</th><th>run_best</th><th>MJD_best</th><th>MJD_spec</th><th>plate</th><th>fiberid</th><th>object_name</th></tr></thead>\n",
       "<thead><tr><th></th><th>degrees</th><th>degrees</th><th></th><th></th><th>asinhmag</th><th>asinhmag</th><th>asinhmag</th><th>asinhmag</th><th>asinhmag</th><th>asinhmag</th><th>asinhmag</th><th>asinhmag</th><th>asinhmag</th><th>asinhmag</th><th>mag</th><th>mag</th><th></th><th>arcsec</th><th>lg_cps</th><th></th><th>arcsec</th><th>mag</th><th>mag</th><th>mag</th><th>mag</th><th>mag</th><th>mag</th><th>arcsec</th><th>mag</th><th></th><th></th><th></th><th></th><th></th><th></th><th></th><th></th><th></th><th></th><th></th><th></th><th></th><th></th><th></th><th></th><th></th><th>d</th><th>d</th><th></th><th></th><th></th></tr></thead>\n",
       "<thead><tr><th>bytes18</th><th>float64</th><th>float64</th><th>float32</th><th>float32</th><th>float32</th><th>float32</th><th>float32</th><th>float32</th><th>float32</th><th>float32</th><th>float32</th><th>float32</th><th>float32</th><th>float32</th><th>float32</th><th>float32</th><th>float32</th><th>float32</th><th>float32</th><th>float32</th><th>float32</th><th>float32</th><th>float32</th><th>float32</th><th>float32</th><th>float32</th><th>float32</th><th>float32</th><th>float32</th><th>int16</th><th>int16</th><th>int16</th><th>int16</th><th>int16</th><th>int16</th><th>int16</th><th>int16</th><th>int16</th><th>int16</th><th>int16</th><th>int16</th><th>int16</th><th>int16</th><th>int16</th><th>int16</th><th>int16</th><th>int32</th><th>int32</th><th>int16</th><th>int16</th><th>bytes25</th></tr></thead>\n",
       "<tr><td>000009.42-102751.9</td><td>0.039273</td><td>-10.464431</td><td>1.8446</td><td>0.0</td><td>19.234</td><td>0.034</td><td>19.034</td><td>0.026</td><td>18.982</td><td>0.021</td><td>18.792</td><td>0.018</td><td>18.746</td><td>0.047</td><td>0.187</td><td>0.0</td><td>0.0</td><td>0.0</td><td>0.0</td><td>0.0</td><td>0.0</td><td>0.0</td><td>0.0</td><td>0.0</td><td>0.0</td><td>0.0</td><td>0.0</td><td>0.0</td><td>-26.458</td><td>0</td><td>12</td><td>1</td><td>0</td><td>0</td><td>0</td><td>1</td><td>0</td><td>0</td><td>1</td><td>0</td><td>0</td><td>0</td><td>1</td><td>0</td><td>0</td><td>1740</td><td>51814</td><td>52143</td><td>650</td><td>199</td><td></td></tr>\n",
       "<tr><td>000011.96+000225.3</td><td>0.049843</td><td>0.040368</td><td>0.4793</td><td>0.0</td><td>18.248</td><td>0.021</td><td>17.97</td><td>0.02</td><td>18.026</td><td>0.019</td><td>17.957</td><td>0.019</td><td>17.908</td><td>0.033</td><td>0.161</td><td>0.0</td><td>0.0</td><td>0.0</td><td>-1.66</td><td>0.0</td><td>2.061</td><td>16.651</td><td>0.136</td><td>15.82</td><td>0.149</td><td>14.821</td><td>0.111</td><td>0.193</td><td>-24.047</td><td>0</td><td>3</td><td>1</td><td>0</td><td>0</td><td>1</td><td>0</td><td>0</td><td>0</td><td>1</td><td>0</td><td>0</td><td>1</td><td>0</td><td>0</td><td>0</td><td>3325</td><td>52522</td><td>51791</td><td>387</td><td>200</td><td>LBQS 2357-0014</td></tr>\n",
       "<tr><td>000017.38-085123.7</td><td>0.072429</td><td>-8.856609</td><td>1.2502</td><td>0.0</td><td>19.18</td><td>0.035</td><td>18.731</td><td>0.028</td><td>18.28</td><td>0.016</td><td>18.281</td><td>0.022</td><td>18.269</td><td>0.036</td><td>0.194</td><td>13.966</td><td>62.73</td><td>0.547</td><td>0.0</td><td>0.0</td><td>0.0</td><td>0.0</td><td>0.0</td><td>0.0</td><td>0.0</td><td>0.0</td><td>0.0</td><td>0.0</td><td>-26.057</td><td>0</td><td>12</td><td>1</td><td>0</td><td>1</td><td>0</td><td>1</td><td>0</td><td>0</td><td>1</td><td>0</td><td>1</td><td>0</td><td>1</td><td>0</td><td>0</td><td>1740</td><td>51814</td><td>52143</td><td>650</td><td>459</td><td>FBQS J0000-0851</td></tr>\n",
       "<tr><td>000028.82-102755.8</td><td>0.120089</td><td>-10.4655</td><td>1.139</td><td>0.0</td><td>20.448</td><td>0.085</td><td>19.702</td><td>0.027</td><td>19.175</td><td>0.016</td><td>19.14</td><td>0.024</td><td>19.1</td><td>0.061</td><td>0.198</td><td>15.45</td><td>16.9</td><td>0.422</td><td>0.0</td><td>0.0</td><td>0.0</td><td>0.0</td><td>0.0</td><td>0.0</td><td>0.0</td><td>0.0</td><td>0.0</td><td>0.0</td><td>-24.977</td><td>0</td><td>12</td><td>0</td><td>0</td><td>1</td><td>0</td><td>1</td><td>0</td><td>0</td><td>0</td><td>0</td><td>1</td><td>0</td><td>1</td><td>0</td><td>0</td><td>1740</td><td>51814</td><td>52143</td><td>650</td><td>169</td><td></td></tr>\n",
       "<tr><td>000035.75-103305.3</td><td>0.148969</td><td>-10.5515</td><td>1.2182</td><td>0.0</td><td>19.422</td><td>0.039</td><td>19.464</td><td>0.026</td><td>19.043</td><td>0.016</td><td>19.003</td><td>0.024</td><td>19.181</td><td>0.066</td><td>0.181</td><td>0.0</td><td>0.0</td><td>0.0</td><td>0.0</td><td>0.0</td><td>0.0</td><td>0.0</td><td>0.0</td><td>0.0</td><td>0.0</td><td>0.0</td><td>0.0</td><td>0.0</td><td>-25.268</td><td>0</td><td>12</td><td>1</td><td>0</td><td>0</td><td>0</td><td>0</td><td>0</td><td>0</td><td>1</td><td>0</td><td>0</td><td>0</td><td>0</td><td>0</td><td>0</td><td>1740</td><td>51814</td><td>52143</td><td>650</td><td>170</td><td></td></tr>\n",
       "<tr><td>000039.00-001803.9</td><td>0.162503</td><td>-0.301103</td><td>2.1219</td><td>0.0</td><td>19.258</td><td>0.035</td><td>19.078</td><td>0.018</td><td>18.89</td><td>0.016</td><td>18.889</td><td>0.02</td><td>18.802</td><td>0.044</td><td>0.173</td><td>0.0</td><td>0.0</td><td>0.0</td><td>0.0</td><td>0.0</td><td>0.0</td><td>0.0</td><td>0.0</td><td>0.0</td><td>0.0</td><td>0.0</td><td>0.0</td><td>0.0</td><td>-26.677</td><td>0</td><td>3</td><td>1</td><td>0</td><td>0</td><td>0</td><td>1</td><td>1</td><td>0</td><td>1</td><td>0</td><td>0</td><td>0</td><td>1</td><td>0</td><td>0</td><td>3325</td><td>52522</td><td>51791</td><td>387</td><td>167</td><td>SDSS J000039.00-001804.0</td></tr>\n",
       "<tr><td>000042.89+005539.5</td><td>0.178749</td><td>0.927659</td><td>0.9513</td><td>0.0</td><td>18.307</td><td>0.039</td><td>18.158</td><td>0.013</td><td>17.942</td><td>0.011</td><td>17.903</td><td>0.024</td><td>17.8</td><td>0.03</td><td>0.145</td><td>0.0</td><td>0.0</td><td>0.0</td><td>0.0</td><td>0.0</td><td>0.0</td><td>0.0</td><td>0.0</td><td>0.0</td><td>0.0</td><td>0.0</td><td>0.0</td><td>0.0</td><td>-25.759</td><td>0</td><td>3</td><td>1</td><td>0</td><td>0</td><td>0</td><td>1</td><td>1</td><td>0</td><td>1</td><td>0</td><td>0</td><td>0</td><td>1</td><td>0</td><td>0</td><td>3325</td><td>52522</td><td>51791</td><td>387</td><td>531</td><td>LBQS 2358+0038</td></tr>\n",
       "<tr><td>000043.97-091134.8</td><td>0.183226</td><td>-9.193026</td><td>0.4396</td><td>0.0</td><td>19.086</td><td>0.034</td><td>18.719</td><td>0.034</td><td>18.578</td><td>0.018</td><td>18.366</td><td>0.027</td><td>18.143</td><td>0.029</td><td>0.189</td><td>0.0</td><td>0.0</td><td>0.0</td><td>0.0</td><td>0.0</td><td>0.0</td><td>17.076</td><td>0.16</td><td>16.324</td><td>0.196</td><td>15.122</td><td>0.128</td><td>0.464</td><td>-23.44</td><td>0</td><td>12</td><td>1</td><td>0</td><td>0</td><td>0</td><td>1</td><td>0</td><td>0</td><td>1</td><td>0</td><td>0</td><td>0</td><td>1</td><td>0</td><td>0</td><td>1740</td><td>51814</td><td>52143</td><td>650</td><td>538</td><td></td></tr>\n",
       "<tr><td>000049.46-100043.8</td><td>0.206111</td><td>-10.012182</td><td>1.1375</td><td>0.0</td><td>21.694</td><td>0.196</td><td>21.127</td><td>0.05</td><td>20.489</td><td>0.031</td><td>20.354</td><td>0.043</td><td>19.796</td><td>0.115</td><td>0.183</td><td>0.0</td><td>0.0</td><td>0.0</td><td>0.0</td><td>0.0</td><td>0.0</td><td>0.0</td><td>0.0</td><td>0.0</td><td>0.0</td><td>0.0</td><td>0.0</td><td>0.0</td><td>-23.754</td><td>0</td><td>12</td><td>0</td><td>1</td><td>0</td><td>0</td><td>0</td><td>0</td><td>0</td><td>0</td><td>0</td><td>0</td><td>0</td><td>0</td><td>0</td><td>0</td><td>1740</td><td>51814</td><td>52143</td><td>650</td><td>172</td><td></td></tr>\n",
       "<tr><td>...</td><td>...</td><td>...</td><td>...</td><td>...</td><td>...</td><td>...</td><td>...</td><td>...</td><td>...</td><td>...</td><td>...</td><td>...</td><td>...</td><td>...</td><td>...</td><td>...</td><td>...</td><td>...</td><td>...</td><td>...</td><td>...</td><td>...</td><td>...</td><td>...</td><td>...</td><td>...</td><td>...</td><td>...</td><td>...</td><td>...</td><td>...</td><td>...</td><td>...</td><td>...</td><td>...</td><td>...</td><td>...</td><td>...</td><td>...</td><td>...</td><td>...</td><td>...</td><td>...</td><td>...</td><td>...</td><td>...</td><td>...</td><td>...</td><td>...</td><td>...</td><td>...</td></tr>\n",
       "<tr><td>235917.02-011029.0</td><td>359.820953</td><td>-1.174729</td><td>1.1163</td><td>0.0</td><td>18.522</td><td>0.022</td><td>18.387</td><td>0.025</td><td>18.085</td><td>0.021</td><td>18.09</td><td>0.023</td><td>18.089</td><td>0.027</td><td>0.214</td><td>0.0</td><td>0.0</td><td>0.0</td><td>0.0</td><td>0.0</td><td>0.0</td><td>0.0</td><td>0.0</td><td>0.0</td><td>0.0</td><td>0.0</td><td>0.0</td><td>0.0</td><td>-25.985</td><td>0</td><td>3</td><td>1</td><td>0</td><td>0</td><td>0</td><td>1</td><td>1</td><td>0</td><td>1</td><td>0</td><td>0</td><td>0</td><td>1</td><td>0</td><td>0</td><td>3325</td><td>52522</td><td>51791</td><td>387</td><td>124</td><td>LBQS 2356-0127</td></tr>\n",
       "<tr><td>235925.46+002854.6</td><td>359.856108</td><td>0.481853</td><td>2.0356</td><td>0.0</td><td>18.5</td><td>0.024</td><td>18.32</td><td>0.025</td><td>18.242</td><td>0.019</td><td>18.093</td><td>0.017</td><td>17.886</td><td>0.027</td><td>0.138</td><td>0.0</td><td>0.0</td><td>0.0</td><td>0.0</td><td>0.0</td><td>0.0</td><td>0.0</td><td>0.0</td><td>0.0</td><td>0.0</td><td>0.0</td><td>0.0</td><td>0.0</td><td>-27.364</td><td>0</td><td>3</td><td>1</td><td>0</td><td>0</td><td>0</td><td>0</td><td>0</td><td>0</td><td>1</td><td>0</td><td>0</td><td>0</td><td>0</td><td>0</td><td>0</td><td>3325</td><td>52522</td><td>51791</td><td>387</td><td>472</td><td>SDSS J235925.46+002854.6</td></tr>\n",
       "<tr><td>235930.42+003733.5</td><td>359.876765</td><td>0.625992</td><td>0.8636</td><td>0.0</td><td>19.375</td><td>0.034</td><td>19.084</td><td>0.026</td><td>18.874</td><td>0.02</td><td>18.974</td><td>0.022</td><td>18.832</td><td>0.046</td><td>0.145</td><td>0.0</td><td>0.0</td><td>0.0</td><td>0.0</td><td>0.0</td><td>0.0</td><td>0.0</td><td>0.0</td><td>0.0</td><td>0.0</td><td>0.0</td><td>0.0</td><td>0.0</td><td>-24.454</td><td>0</td><td>3</td><td>1</td><td>0</td><td>0</td><td>0</td><td>1</td><td>1</td><td>0</td><td>1</td><td>0</td><td>0</td><td>0</td><td>1</td><td>0</td><td>0</td><td>3325</td><td>52522</td><td>51791</td><td>387</td><td>467</td><td>SDSS J235930.42+003733.5</td></tr>\n",
       "<tr><td>235938.40-003448.4</td><td>359.910016</td><td>-0.580139</td><td>1.2097</td><td>0.0</td><td>18.503</td><td>0.022</td><td>18.342</td><td>0.028</td><td>18.004</td><td>0.017</td><td>17.877</td><td>0.017</td><td>17.959</td><td>0.023</td><td>0.2</td><td>0.0</td><td>0.0</td><td>0.0</td><td>0.0</td><td>0.0</td><td>0.0</td><td>0.0</td><td>0.0</td><td>0.0</td><td>0.0</td><td>0.0</td><td>0.0</td><td>0.0</td><td>-26.385</td><td>0</td><td>3</td><td>1</td><td>0</td><td>0</td><td>0</td><td>1</td><td>1</td><td>0</td><td>1</td><td>0</td><td>0</td><td>0</td><td>1</td><td>0</td><td>0</td><td>2662</td><td>52197</td><td>51791</td><td>387</td><td>188</td><td>SDSS J235938.40-003448.5</td></tr>\n",
       "<tr><td>235940.55-090942.9</td><td>359.918994</td><td>-9.161919</td><td>0.5701</td><td>0.0</td><td>19.351</td><td>0.031</td><td>18.978</td><td>0.029</td><td>19.001</td><td>0.025</td><td>18.835</td><td>0.025</td><td>18.86</td><td>0.049</td><td>0.23</td><td>0.0</td><td>0.0</td><td>0.0</td><td>0.0</td><td>0.0</td><td>0.0</td><td>17.047</td><td>0.185</td><td>16.589</td><td>0.238</td><td>15.569</td><td>0.209</td><td>1.16</td><td>-23.618</td><td>0</td><td>12</td><td>1</td><td>0</td><td>0</td><td>0</td><td>1</td><td>0</td><td>0</td><td>1</td><td>0</td><td>0</td><td>0</td><td>1</td><td>0</td><td>0</td><td>1740</td><td>51814</td><td>52143</td><td>650</td><td>418</td><td></td></tr>\n",
       "<tr><td>235944.13-005738.2</td><td>359.933906</td><td>-0.96063</td><td>1.7848</td><td>0.0</td><td>19.607</td><td>0.039</td><td>19.436</td><td>0.02</td><td>19.313</td><td>0.018</td><td>18.983</td><td>0.021</td><td>18.972</td><td>0.048</td><td>0.23</td><td>0.0</td><td>0.0</td><td>0.0</td><td>0.0</td><td>0.0</td><td>0.0</td><td>0.0</td><td>0.0</td><td>0.0</td><td>0.0</td><td>0.0</td><td>0.0</td><td>0.0</td><td>-26.208</td><td>0</td><td>3</td><td>1</td><td>0</td><td>0</td><td>0</td><td>1</td><td>1</td><td>0</td><td>1</td><td>1</td><td>0</td><td>0</td><td>1</td><td>0</td><td>0</td><td>2662</td><td>52197</td><td>51791</td><td>387</td><td>134</td><td>SDSS J235944.13-005738.2</td></tr>\n",
       "<tr><td>235948.53-103938.5</td><td>359.952211</td><td>-10.660707</td><td>0.8293</td><td>0.0</td><td>18.089</td><td>0.016</td><td>17.882</td><td>0.018</td><td>17.787</td><td>0.016</td><td>17.795</td><td>0.017</td><td>17.704</td><td>0.025</td><td>0.17</td><td>0.0</td><td>0.0</td><td>0.0</td><td>0.0</td><td>0.0</td><td>0.0</td><td>16.719</td><td>0.14</td><td>16.205</td><td>0.1</td><td>15.383</td><td>0.222</td><td>0.511</td><td>-25.545</td><td>0</td><td>12</td><td>1</td><td>0</td><td>0</td><td>0</td><td>0</td><td>0</td><td>0</td><td>1</td><td>0</td><td>0</td><td>0</td><td>0</td><td>0</td><td>0</td><td>1729</td><td>51813</td><td>52143</td><td>650</td><td>220</td><td></td></tr>\n",
       "<tr><td>235953.44-093655.6</td><td>359.972676</td><td>-9.615457</td><td>0.3584</td><td>0.0</td><td>19.476</td><td>0.043</td><td>19.279</td><td>0.021</td><td>18.898</td><td>0.017</td><td>18.73</td><td>0.017</td><td>18.289</td><td>0.04</td><td>0.175</td><td>0.0</td><td>0.0</td><td>0.0</td><td>0.0</td><td>0.0</td><td>0.0</td><td>16.976</td><td>0.173</td><td>16.188</td><td>0.164</td><td>15.502</td><td>0.238</td><td>0.149</td><td>-22.579</td><td>1</td><td>12</td><td>1</td><td>0</td><td>0</td><td>0</td><td>0</td><td>0</td><td>0</td><td>1</td><td>0</td><td>0</td><td>0</td><td>0</td><td>0</td><td>0</td><td>1740</td><td>51814</td><td>52143</td><td>650</td><td>469</td><td></td></tr>\n",
       "<tr><td>235958.21+005139.8</td><td>359.992549</td><td>0.861058</td><td>2.0385</td><td>0.0</td><td>19.252</td><td>0.037</td><td>19.01</td><td>0.022</td><td>18.805</td><td>0.018</td><td>18.646</td><td>0.021</td><td>18.441</td><td>0.037</td><td>0.131</td><td>0.0</td><td>0.0</td><td>0.0</td><td>0.0</td><td>0.0</td><td>0.0</td><td>0.0</td><td>0.0</td><td>0.0</td><td>0.0</td><td>0.0</td><td>0.0</td><td>0.0</td><td>-26.812</td><td>0</td><td>3</td><td>1</td><td>0</td><td>0</td><td>0</td><td>0</td><td>0</td><td>0</td><td>1</td><td>0</td><td>0</td><td>0</td><td>1</td><td>0</td><td>0</td><td>3325</td><td>52522</td><td>51791</td><td>387</td><td>458</td><td>SDSS J235958.21+005139.7</td></tr>\n",
       "<tr><td>235959.08-090943.9</td><td>359.996179</td><td>-9.162221</td><td>1.2826</td><td>0.0</td><td>18.44</td><td>0.027</td><td>18.356</td><td>0.015</td><td>18.144</td><td>0.02</td><td>18.113</td><td>0.023</td><td>18.072</td><td>0.035</td><td>0.223</td><td>0.0</td><td>0.0</td><td>0.0</td><td>0.0</td><td>0.0</td><td>0.0</td><td>0.0</td><td>0.0</td><td>0.0</td><td>0.0</td><td>0.0</td><td>0.0</td><td>0.0</td><td>-26.298</td><td>0</td><td>12</td><td>1</td><td>0</td><td>0</td><td>0</td><td>0</td><td>0</td><td>0</td><td>1</td><td>0</td><td>0</td><td>0</td><td>0</td><td>0</td><td>0</td><td>1740</td><td>51814</td><td>52143</td><td>650</td><td>448</td><td></td></tr>\n",
       "</table>"
      ],
      "text/plain": [
       "<Table length=16713>\n",
       "     SDSSName          RA        DEC     ... fiberid        object_name       \n",
       "                    degrees    degrees   ...                                  \n",
       "     bytes18        float64    float64   ...  int16           bytes25         \n",
       "------------------ ---------- ---------- ... ------- -------------------------\n",
       "000009.42-102751.9   0.039273 -10.464431 ...     199                          \n",
       "000011.96+000225.3   0.049843   0.040368 ...     200 LBQS 2357-0014           \n",
       "000017.38-085123.7   0.072429  -8.856609 ...     459 FBQS J0000-0851          \n",
       "000028.82-102755.8   0.120089   -10.4655 ...     169                          \n",
       "000035.75-103305.3   0.148969   -10.5515 ...     170                          \n",
       "000039.00-001803.9   0.162503  -0.301103 ...     167 SDSS J000039.00-001804.0 \n",
       "000042.89+005539.5   0.178749   0.927659 ...     531 LBQS 2358+0038           \n",
       "000043.97-091134.8   0.183226  -9.193026 ...     538                          \n",
       "000049.46-100043.8   0.206111 -10.012182 ...     172                          \n",
       "               ...        ...        ... ...     ...                       ...\n",
       "235917.02-011029.0 359.820953  -1.174729 ...     124 LBQS 2356-0127           \n",
       "235925.46+002854.6 359.856108   0.481853 ...     472 SDSS J235925.46+002854.6 \n",
       "235930.42+003733.5 359.876765   0.625992 ...     467 SDSS J235930.42+003733.5 \n",
       "235938.40-003448.4 359.910016  -0.580139 ...     188 SDSS J235938.40-003448.5 \n",
       "235940.55-090942.9 359.918994  -9.161919 ...     418                          \n",
       "235944.13-005738.2 359.933906   -0.96063 ...     134 SDSS J235944.13-005738.2 \n",
       "235948.53-103938.5 359.952211 -10.660707 ...     220                          \n",
       "235953.44-093655.6 359.972676  -9.615457 ...     469                          \n",
       "235958.21+005139.8 359.992549   0.861058 ...     458 SDSS J235958.21+005139.7 \n",
       "235959.08-090943.9 359.996179  -9.162221 ...     448                          "
      ]
     },
     "execution_count": 38,
     "metadata": {},
     "output_type": "execute_result"
    }
   ],
   "source": [
    "qtab"
   ]
  },
  {
   "cell_type": "code",
   "execution_count": 39,
   "metadata": {},
   "outputs": [],
   "source": [
    "import fitsio"
   ]
  },
  {
   "cell_type": "code",
   "execution_count": 40,
   "metadata": {},
   "outputs": [],
   "source": [
    "fdata = fitsio.read(qsofile)"
   ]
  },
  {
   "cell_type": "code",
   "execution_count": 41,
   "metadata": {},
   "outputs": [
    {
     "data": {
      "text/plain": [
       "array([('000009.42-102751.9', 3.92730000e-02, -10.464431, 1.8446, 0., 19.234, 0.034, 19.034, 0.026, 18.982, 0.021, 18.792, 0.018, 18.746, 0.047, 0.187,  0.   ,  0.  , 0.   ,  0.  , 0., 0.   ,  0.   , 0.   ,  0.   , 0.   ,  0.   , 0.   , 0.   , -26.458, 0, 12, 1, 0, 0, 0, 1, 0, 0, 1, 0, 0, 0, 1, 0, 0, 1740, 51814, 52143, 650, 199, '                         '),\n",
       "       ('000011.96+000225.3', 4.98430000e-02,   0.040368, 0.4793, 0., 18.248, 0.021, 17.97 , 0.02 , 18.026, 0.019, 17.957, 0.019, 17.908, 0.033, 0.161,  0.   ,  0.  , 0.   , -1.66, 0., 2.061, 16.651, 0.136, 15.82 , 0.149, 14.821, 0.111, 0.193, -24.047, 0,  3, 1, 0, 0, 1, 0, 0, 0, 1, 0, 0, 1, 0, 0, 0, 3325, 52522, 51791, 387, 200, 'LBQS 2357-0014           '),\n",
       "       ('000017.38-085123.7', 7.24290000e-02,  -8.856609, 1.2502, 0., 19.18 , 0.035, 18.731, 0.028, 18.28 , 0.016, 18.281, 0.022, 18.269, 0.036, 0.194, 13.966, 62.73, 0.547,  0.  , 0., 0.   ,  0.   , 0.   ,  0.   , 0.   ,  0.   , 0.   , 0.   , -26.057, 0, 12, 1, 0, 1, 0, 1, 0, 0, 1, 0, 1, 0, 1, 0, 0, 1740, 51814, 52143, 650, 459, 'FBQS J0000-0851          '),\n",
       "       ...,\n",
       "       ('235953.44-093655.6', 3.59972676e+02,  -9.615457, 0.3584, 0., 19.476, 0.043, 19.279, 0.021, 18.898, 0.017, 18.73 , 0.017, 18.289, 0.04 , 0.175,  0.   ,  0.  , 0.   ,  0.  , 0., 0.   , 16.976, 0.173, 16.188, 0.164, 15.502, 0.238, 0.149, -22.579, 1, 12, 1, 0, 0, 0, 0, 0, 0, 1, 0, 0, 0, 0, 0, 0, 1740, 51814, 52143, 650, 469, '                         '),\n",
       "       ('235958.21+005139.8', 3.59992549e+02,   0.861058, 2.0385, 0., 19.252, 0.037, 19.01 , 0.022, 18.805, 0.018, 18.646, 0.021, 18.441, 0.037, 0.131,  0.   ,  0.  , 0.   ,  0.  , 0., 0.   ,  0.   , 0.   ,  0.   , 0.   ,  0.   , 0.   , 0.   , -26.812, 0,  3, 1, 0, 0, 0, 0, 0, 0, 1, 0, 0, 0, 1, 0, 0, 3325, 52522, 51791, 387, 458, 'SDSS J235958.21+005139.7 '),\n",
       "       ('235959.08-090943.9', 3.59996179e+02,  -9.162221, 1.2826, 0., 18.44 , 0.027, 18.356, 0.015, 18.144, 0.02 , 18.113, 0.023, 18.072, 0.035, 0.223,  0.   ,  0.  , 0.   ,  0.  , 0., 0.   ,  0.   , 0.   ,  0.   , 0.   ,  0.   , 0.   , 0.   , -26.298, 0, 12, 1, 0, 0, 0, 0, 0, 0, 1, 0, 0, 0, 0, 0, 0, 1740, 51814, 52143, 650, 448, '                         ')],\n",
       "      dtype=[('SDSSName', '<U18'), ('RA', '>f8'), ('DEC', '>f8'), ('z', '>f4'), ('source', '>f4'), ('psfmag_u', '>f4'), ('psfmagerr_u', '>f4'), ('psfmag_g', '>f4'), ('psfmagerr_g', '>f4'), ('psfmag_r', '>f4'), ('psfmagerr_r', '>f4'), ('psfmag_i', '>f4'), ('psfmagerr_i', '>f4'), ('psfmag_z', '>f4'), ('psfmagerr_z', '>f4'), ('A_u', '>f4'), ('FIRSTmag', '>f4'), ('FIRST_sn', '>f4'), ('FIRST_sep', '>f4'), ('lg_RASS_rate', '>f4'), ('RASS_sn', '>f4'), ('RASS_sep', '>f4'), ('TWOMASSmag_J', '>f4'), ('TWOMASSmagerr_J', '>f4'), ('TWOMASSmag_H', '>f4'), ('TWOMASSmagerr_H', '>f4'), ('TWOMASSmag_K', '>f4'), ('TWOMASSmagerr_K', '>f4'), ('TWOMASS_sep', '>f4'), ('M_i', '>f4'), ('morphology', '>i2'), ('ts_ver', '>i2'), ('ts_t_qso', '>i2'), ('ts_t_hiz', '>i2'), ('ts_t_FIRST', '>i2'), ('ts_t_ROSAT', '>i2'), ('ts_t_serendip', '>i2'), ('ts_t_star', '>i2'), ('ts_t_gal', '>i2'), ('ts_b_qso', '>i2'), ('ts_b_hiz', '>i2'), ('ts_b_FIRST', '>i2'), ('ts_b_ROSAT', '>i2'), ('ts_b_serendip', '>i2'), ('ts_b_star', '>i2'), ('ts_b_gal', '>i2'), ('run_best', '>i2'), ('MJD_best', '>i4'), ('MJD_spec', '>i4'), ('plate', '>i2'), ('fiberid', '>i2'), ('object_name', '<U25')])"
      ]
     },
     "execution_count": 41,
     "metadata": {},
     "output_type": "execute_result"
    }
   ],
   "source": [
    "fdata"
   ]
  },
  {
   "cell_type": "markdown",
   "metadata": {},
   "source": [
    "### Timing comparison\n",
    "\n",
    "https://docs.astropy.org/en/stable/io/fits/appendix/faq.html#id19"
   ]
  },
  {
   "cell_type": "code",
   "execution_count": 42,
   "metadata": {},
   "outputs": [
    {
     "name": "stdout",
     "output_type": "stream",
     "text": [
      "10.1 ms ± 240 µs per loop (mean ± std. dev. of 7 runs, 100 loops each)\n"
     ]
    }
   ],
   "source": [
    "%timeit fdata = fitsio.read(qsofile)"
   ]
  },
  {
   "cell_type": "code",
   "execution_count": 43,
   "metadata": {},
   "outputs": [
    {
     "name": "stdout",
     "output_type": "stream",
     "text": [
      "428 µs ± 13 µs per loop (mean ± std. dev. of 7 runs, 1000 loops each)\n"
     ]
    }
   ],
   "source": [
    "%timeit hdu=fits.open(qsofile)"
   ]
  },
  {
   "cell_type": "code",
   "execution_count": 44,
   "metadata": {},
   "outputs": [
    {
     "name": "stdout",
     "output_type": "stream",
     "text": [
      "40.2 ms ± 483 µs per loop (mean ± std. dev. of 7 runs, 10 loops each)\n"
     ]
    }
   ],
   "source": [
    "%timeit qtab = Table.read(qsofile)"
   ]
  },
  {
   "cell_type": "markdown",
   "metadata": {},
   "source": [
    "### WCS Solution"
   ]
  },
  {
   "cell_type": "code",
   "execution_count": 45,
   "metadata": {},
   "outputs": [],
   "source": [
    "### http://tdc-www.harvard.edu/wcstools/wcstools.wcs.html"
   ]
  },
  {
   "cell_type": "code",
   "execution_count": 46,
   "metadata": {},
   "outputs": [
    {
     "data": {
      "image/png": "[encoded data removed]",
      "text/plain": [
       "<Figure size 432x288 with 1 Axes>"
      ]
     },
     "metadata": {
      "needs_background": "light"
     },
     "output_type": "display_data"
    }
   ],
   "source": [
    "# https://docs.astropy.org/en/stable/wcs/wcstools.html#matplotlib-plots-with-correct-wcs-projection\n",
    "\n",
    "from matplotlib import pyplot as plt\n",
    "from astropy.io import fits\n",
    "from astropy.wcs import WCS\n",
    "from astropy.utils.data import get_pkg_data_filename\n",
    "\n",
    "filename = get_pkg_data_filename('tutorials/FITS-images/HorseHead.fits')\n",
    "\n",
    "hdu = fits.open(filename)[0]\n",
    "wcs = WCS(hdu.header)\n",
    "\n",
    "fig = plt.figure()\n",
    "fig.add_subplot(111, projection=wcs)\n",
    "plt.imshow(hdu.data, origin='lower', cmap=plt.cm.viridis)\n",
    "plt.xlabel('RA')\n",
    "plt.ylabel('Dec')\n"
   ]
  },
  {
   "cell_type": "code",
   "execution_count": 47,
   "metadata": {},
   "outputs": [
    {
     "data": {
      "text/plain": [
       "array([[ 7201,  6642,  6642, ...,  9498,  9498, 10057],\n",
       "       [ 6642,  6363,  6642, ..., 10057, 10616, 10616],\n",
       "       [ 6922,  6642,  6922, ..., 10337, 11175, 10616],\n",
       "       ...,\n",
       "       [ 5412,  5132,  5412, ..., 13000, 12580, 12021],\n",
       "       [ 5796,  5517,  5796, ..., 12546, 12546, 11987],\n",
       "       [ 5796,  5796,  6076, ..., 11987, 12546, 12546]], dtype=int16)"
      ]
     },
     "execution_count": 47,
     "metadata": {},
     "output_type": "execute_result"
    }
   ],
   "source": [
    "hdu.data"
   ]
  },
  {
   "cell_type": "code",
   "execution_count": 48,
   "metadata": {},
   "outputs": [
    {
     "data": {
      "text/plain": [
       "SIMPLE  =                    T /FITS: Compliance                                \n",
       "BITPIX  =                   16 /FITS: I*2 Data                                  \n",
       "NAXIS   =                    2 /FITS: 2-D Image Data                            \n",
       "NAXIS1  =                  891 /FITS: X Dimension                               \n",
       "NAXIS2  =                  893 /FITS: Y Dimension                               \n",
       "EXTEND  =                    T /FITS: File can contain extensions               \n",
       "DATE    = '2014-01-09        '  /FITS: Creation Date                            \n",
       "ORIGIN  = 'STScI/MAST'         /GSSS: STScI Digitized Sky Survey                \n",
       "SURVEY  = 'SERC-ER '           /GSSS: Sky Survey                                \n",
       "REGION  = 'ER768   '           /GSSS: Region Name                               \n",
       "PLATEID = 'A0JP    '           /GSSS: Plate ID                                  \n",
       "SCANNUM = '01      '           /GSSS: Scan Number                               \n",
       "DSCNDNUM= '00      '           /GSSS: Descendant Number                         \n",
       "TELESCID=                    4 /GSSS: Telescope ID                              \n",
       "BANDPASS=                   36 /GSSS: Bandpass Code                             \n",
       "COPYRGHT= 'AAO/ROE '           /GSSS: Copyright Holder                          \n",
       "SITELAT =              -31.277 /Observatory: Latitude                           \n",
       "SITELONG=              210.934 /Observatory: Longitude                          \n",
       "TELESCOP= 'UK Schmidt - Doubl' /Observatory: Telescope                          \n",
       "INSTRUME= 'Photographic Plate' /Detector: Photographic Plate                    \n",
       "EMULSION= 'IIIaF   '           /Detector: Emulsion                              \n",
       "FILTER  = 'OG590   '           /Detector: Filter                                \n",
       "PLTSCALE=                67.20 /Detector: Plate Scale arcsec per mm             \n",
       "PLTSIZEX=              355.000 /Detector: Plate X Dimension mm                  \n",
       "PLTSIZEY=              355.000 /Detector: Plate Y Dimension mm                  \n",
       "PLATERA =        85.5994550000 /Observation: Field centre RA degrees            \n",
       "PLATEDEC=       -4.94660910000 /Observation: Field centre Dec degrees           \n",
       "PLTLABEL= 'OR14052 '           /Observation: Plate Label                        \n",
       "DATE-OBS= '1990-12-22T13:49:00' /Observation: Date/Time                         \n",
       "EXPOSURE=                 65.0 /Observation: Exposure Minutes                   \n",
       "PLTGRADE= 'AD2     '           /Observation: Plate Grade                        \n",
       "OBSHA   =             0.158333 /Observation: Hour Angle                         \n",
       "OBSZD   =              26.3715 /Observation: Zenith Distance                    \n",
       "AIRMASS =              1.11587 /Observation: Airmass                            \n",
       "REFBETA =        66.3196420000 /Observation: Refraction Coeff                   \n",
       "REFBETAP=     -0.0820000000000 /Observation: Refraction Coeff                   \n",
       "REFK1   =        6423.52290000 /Observation: Refraction Coeff                   \n",
       "REFK2   =       -102122.550000 /Observation: Refraction Coeff                   \n",
       "CNPIX1  =                12237 /Scan: X Corner                                  \n",
       "CNPIX2  =                19965 /Scan: Y Corner                                  \n",
       "XPIXELS =                23040 /Scan: X Dimension                               \n",
       "YPIXELS =                23040 /Scan: Y Dimension                               \n",
       "XPIXELSZ=              15.0295 /Scan: Pixel Size microns                        \n",
       "YPIXELSZ=              15.0000 /Scan: Pixel Size microns                        \n",
       "PPO1    =       -3069417.00000 /Scan: Orientation Coeff                         \n",
       "PPO2    =       0.000000000000 /Scan: Orientation Coeff                         \n",
       "PPO3    =        177500.000000 /Scan: Orientation Coeff                         \n",
       "PPO4    =       0.000000000000 /Scan: Orientation Coeff                         \n",
       "PPO5    =        3069417.00000 /Scan: Orientation Coeff                         \n",
       "PPO6    =        177500.000000 /Scan: Orientation Coeff                         \n",
       "PLTRAH  =                    5 /Astrometry: Plate Centre H                      \n",
       "PLTRAM  =                   42 /Astrometry: Plate Centre M                      \n",
       "PLTRAS  =                23.86 /Astrometry: Plate Centre S                      \n",
       "PLTDECSN= '-       '           /Astrometry: Plate Centre +/-                    \n",
       "PLTDECD =                    4 /Astrometry: Plate Centre D                      \n",
       "PLTDECM =                   56 /Astrometry: Plate Centre M                      \n",
       "PLTDECS =                 47.9 /Astrometry: Plate Centre S                      \n",
       "EQUINOX =               2000.0 /Astrometry: Equinox                             \n",
       "AMDX1   =        67.1550859799 /Astrometry: GSC1 Coeff                          \n",
       "AMDX2   =      0.0431478884485 /Astrometry: GSC1 Coeff                          \n",
       "AMDX3   =       -292.435619180 /Astrometry: GSC1 Coeff                          \n",
       "AMDX4   =  -2.68934864702E-005 /Astrometry: GSC1 Coeff                          \n",
       "AMDX5   =   1.99133423290E-005 /Astrometry: GSC1 Coeff                          \n",
       "AMDX6   =  -2.37011931379E-006 /Astrometry: GSC1 Coeff                          \n",
       "AMDX7   =       0.000000000000 /Astrometry: GSC1 Coeff                          \n",
       "AMDX8   =   2.21426387429E-006 /Astrometry: GSC1 Coeff                          \n",
       "AMDX9   =  -8.12841581455E-008 /Astrometry: GSC1 Coeff                          \n",
       "AMDX10  =   2.48169090021E-006 /Astrometry: GSC1 Coeff                          \n",
       "AMDX11  =   2.77618933926E-008 /Astrometry: GSC1 Coeff                          \n",
       "AMDX12  =       0.000000000000 /Astrometry: GSC1 Coeff                          \n",
       "AMDX13  =       0.000000000000 /Astrometry: GSC1 Coeff                          \n",
       "AMDX14  =       0.000000000000 /Astrometry: GSC1 Coeff                          \n",
       "AMDX15  =       0.000000000000 /Astrometry: GSC1 Coeff                          \n",
       "AMDX16  =       0.000000000000 /Astrometry: GSC1 Coeff                          \n",
       "AMDX17  =       0.000000000000 /Astrometry: GSC1 Coeff                          \n",
       "AMDX18  =       0.000000000000 /Astrometry: GSC1 Coeff                          \n",
       "AMDX19  =       0.000000000000 /Astrometry: GSC1 Coeff                          \n",
       "AMDX20  =       0.000000000000 /Astrometry: GSC1 Coeff                          \n",
       "AMDY1   =        67.1593591466 /Astrometry: GSC1 Coeff                          \n",
       "AMDY2   =     -0.0471363749174 /Astrometry: GSC1 Coeff                          \n",
       "AMDY3   =        316.004963520 /Astrometry: GSC1 Coeff                          \n",
       "AMDY4   =   2.86798151430E-005 /Astrometry: GSC1 Coeff                          \n",
       "AMDY5   =  -2.00968236347E-005 /Astrometry: GSC1 Coeff                          \n",
       "AMDY6   =   2.27840393227E-005 /Astrometry: GSC1 Coeff                          \n",
       "AMDY7   =       0.000000000000 /Astrometry: GSC1 Coeff                          \n",
       "AMDY8   =   2.23885090381E-006 /Astrometry: GSC1 Coeff                          \n",
       "AMDY9   =  -2.28360163464E-008 /Astrometry: GSC1 Coeff                          \n",
       "AMDY10  =   2.44828851495E-006 /Astrometry: GSC1 Coeff                          \n",
       "AMDY11  =  -5.76717487998E-008 /Astrometry: GSC1 Coeff                          \n",
       "AMDY12  =       0.000000000000 /Astrometry: GSC1 Coeff                          \n",
       "AMDY13  =       0.000000000000 /Astrometry: GSC1 Coeff                          \n",
       "AMDY14  =       0.000000000000 /Astrometry: GSC1 Coeff                          \n",
       "AMDY15  =       0.000000000000 /Astrometry: GSC1 Coeff                          \n",
       "AMDY16  =       0.000000000000 /Astrometry: GSC1 Coeff                          \n",
       "AMDY17  =       0.000000000000 /Astrometry: GSC1 Coeff                          \n",
       "AMDY18  =       0.000000000000 /Astrometry: GSC1 Coeff                          \n",
       "AMDY19  =       0.000000000000 /Astrometry: GSC1 Coeff                          \n",
       "AMDY20  =       0.000000000000 /Astrometry: GSC1 Coeff                          \n",
       "AMDREX1 =        67.1532034737 /Astrometry: GSC2 Coeff                          \n",
       "AMDREX2 =      0.0434354199559 /Astrometry: GSC2 Coeff                          \n",
       "AMDREX3 =       -292.435438892 /Astrometry: GSC2 Coeff                          \n",
       "AMDREX4 =   4.60919247070E-006 /Astrometry: GSC2 Coeff                          \n",
       "AMDREX5 =  -3.21138058537E-006 /Astrometry: GSC2 Coeff                          \n",
       "AMDREX6 =   7.23651736725E-006 /Astrometry: GSC2 Coeff                          \n",
       "AMDREX7 =       0.000000000000 /Astrometry: GSC2 Coeff                          \n",
       "AMDREX8 =       0.000000000000 /Astrometry: GSC2 Coeff                          \n",
       "AMDREX9 =       0.000000000000 /Astrometry: GSC2 Coeff                          \n",
       "AMDREX10=       0.000000000000 /Astrometry: GSC2 Coeff                          \n",
       "AMDREX11=       0.000000000000 /Astrometry: GSC2 Coeff                          \n",
       "AMDREX12=       0.000000000000 /Astrometry: GSC2 Coeff                          \n",
       "AMDREX13=       0.000000000000 /Astrometry: GSC2 Coeff                          \n",
       "AMDREX14=       0.000000000000 /Astrometry: GSC2 Coeff                          \n",
       "AMDREX15=       0.000000000000 /Astrometry: GSC2 Coeff                          \n",
       "AMDREX16=       0.000000000000 /Astrometry: GSC2 Coeff                          \n",
       "AMDREX17=       0.000000000000 /Astrometry: GSC2 Coeff                          \n",
       "AMDREX18=       0.000000000000 /Astrometry: GSC2 Coeff                          \n",
       "AMDREX19=       0.000000000000 /Astrometry: GSC2 Coeff                          \n",
       "AMDREX20=       0.000000000000 /Astrometry: GSC2 Coeff                          \n",
       "AMDREY1 =        67.1522589487 /Astrometry: GSC2 Coeff                          \n",
       "AMDREY2 =     -0.0481758265285 /Astrometry: GSC2 Coeff                          \n",
       "AMDREY3 =        315.995683716 /Astrometry: GSC2 Coeff                          \n",
       "AMDREY4 =  -7.47397531230E-006 /Astrometry: GSC2 Coeff                          \n",
       "AMDREY5 =   9.55221105409E-007 /Astrometry: GSC2 Coeff                          \n",
       "AMDREY6 =   7.60954485251E-006 /Astrometry: GSC2 Coeff                          \n",
       "AMDREY7 =       0.000000000000 /Astrometry: GSC2 Coeff                          \n",
       "AMDREY8 =       0.000000000000 /Astrometry: GSC2 Coeff                          \n",
       "AMDREY9 =       0.000000000000 /Astrometry: GSC2 Coeff                          \n",
       "AMDREY10=       0.000000000000 /Astrometry: GSC2 Coeff                          \n",
       "AMDREY11=       0.000000000000 /Astrometry: GSC2 Coeff                          \n",
       "AMDREY12=       0.000000000000 /Astrometry: GSC2 Coeff                          \n",
       "AMDREY13=       0.000000000000 /Astrometry: GSC2 Coeff                          \n",
       "AMDREY14=       0.000000000000 /Astrometry: GSC2 Coeff                          \n",
       "AMDREY15=       0.000000000000 /Astrometry: GSC2 Coeff                          \n",
       "AMDREY16=       0.000000000000 /Astrometry: GSC2 Coeff                          \n",
       "AMDREY17=       0.000000000000 /Astrometry: GSC2 Coeff                          \n",
       "AMDREY18=       0.000000000000 /Astrometry: GSC2 Coeff                          \n",
       "AMDREY19=       0.000000000000 /Astrometry: GSC2 Coeff                          \n",
       "AMDREY20=       0.000000000000 /Astrometry: GSC2 Coeff                          \n",
       "ASTRMASK= 'er.mask '           /Astrometry: GSC2 Mask                           \n",
       "WCSAXES =                    2 /GetImage: Number WCS axes                       \n",
       "WCSNAME = 'DSS               ' /GetImage: Local WCS approximation from full plat\n",
       "RADESYS = 'ICRS              ' /GetImage: GSC-II calibration using ICRS system  \n",
       "CTYPE1  = 'RA---TAN          ' /GetImage: RA-Gnomic projection                  \n",
       "CRPIX1  =           446.000000 /GetImage: X reference pixel                     \n",
       "CRVAL1  =            85.274970 /GetImage: RA of reference pixel                 \n",
       "CUNIT1  = 'deg               ' /GetImage: degrees                               \n",
       "CTYPE2  = 'DEC--TAN          ' /GetImage: Dec-Gnomic projection                 \n",
       "CRPIX2  =           447.000000 /GetImage: Y reference pixel                     \n",
       "CRVAL2  =            -2.458265 /GetImage: Dec of reference pixel                \n",
       "CUNIT2  = 'deg               ' /Getimage: degrees                               \n",
       "CD1_1   =        -0.0002802651 /GetImage: rotation matrix coefficient           \n",
       "CD1_2   =         0.0000003159 /GetImage: rotation matrix coefficient           \n",
       "CD2_1   =         0.0000002767 /GetImage: rotation matrix coefficient           \n",
       "CD2_2   =         0.0002798187 /GetImage: rotation matrix coefficient           \n",
       "OBJECT  = 'data              ' /GetImage: Requested Object Name                 \n",
       "DATAMIN =                 3759 /GetImage: Minimum returned pixel value          \n",
       "DATAMAX =                22918 /GetImage: Maximum returned pixel value          \n",
       "OBJCTRA = '05 41 06.000      ' /GetImage: Requested Right Ascension (J2000)     \n",
       "OBJCTDEC= '-02 27 30.00      ' /GetImage: Requested Declination (J2000)         \n",
       "OBJCTX  =             12682.48 /GetImage: Requested X on plate (pixels)         \n",
       "OBJCTY  =             20411.37 /GetImage: Requested Y on plate (pixels)         "
      ]
     },
     "execution_count": 48,
     "metadata": {},
     "output_type": "execute_result"
    }
   ],
   "source": [
    "hdu.header"
   ]
  },
  {
   "cell_type": "markdown",
   "metadata": {},
   "source": []
  }
 ],
 "metadata": {
  "kernelspec": {
   "display_name": "Python 3",
   "language": "python",
   "name": "python3"
  },
  "language_info": {
   "codemirror_mode": {
    "name": "ipython",
    "version": 3
   },
   "file_extension": ".py",
   "mimetype": "text/x-python",
   "name": "python",
   "nbconvert_exporter": "python",
   "pygments_lexer": "ipython3",
   "version": "3.8.3"
  }
 },
 "nbformat": 4,
 "nbformat_minor": 5
}
