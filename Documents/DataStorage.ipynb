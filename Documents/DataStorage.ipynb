{
 "cells": [
  {
   "cell_type": "markdown",
   "metadata": {},
   "source": [
    "# Astronomy 8824 - Numerical and Statistical Methods in Astrophysics\n",
    "\n",
    "## Introduction to Data Storage\n",
    "\n",
    "These notes are for the course Astronomy 8824: Numerical and Statistical Methods in Astrophysics. \n"
   ]
  },
  {
   "cell_type": "code",
   "execution_count": 1,
   "metadata": {},
   "outputs": [],
   "source": [
    "import math\n",
    "import numpy as np\n",
    "%matplotlib inline\n",
    "import matplotlib.pyplot as plt\n",
    "import astropy\n",
    "import sys, os\n",
    "\n",
    "# matplotlib settings \n",
    "SMALL_SIZE = 14\n",
    "MEDIUM_SIZE = 16\n",
    "BIGGER_SIZE = 18\n",
    "\n",
    "plt.rc('font', size=SMALL_SIZE)          # controls default text sizes\n",
    "plt.rc('axes', titlesize=SMALL_SIZE)     # fontsize of the axes title\n",
    "plt.rc('axes', labelsize=BIGGER_SIZE)    # fontsize of the x and y labels\n",
    "plt.rc('lines', linewidth=2)\n",
    "plt.rc('axes', linewidth=2)\n",
    "plt.rc('xtick', labelsize=MEDIUM_SIZE)    # fontsize of the tick labels\n",
    "plt.rc('ytick', labelsize=MEDIUM_SIZE)    # fontsize of the tick labels\n",
    "plt.rc('legend', fontsize=MEDIUM_SIZE)    # legend fontsize\n",
    "plt.rc('figure', titlesize=BIGGER_SIZE)   # fontsize of the figure title"
   ]
  },
  {
   "cell_type": "markdown",
   "metadata": {},
   "source": [
    "### ASCII vs. Binary\n",
    "\n",
    "*ASCII* (American Standard Code for Information Interchange) is a set of 128 7-bit characters that originated with telegraph data and was first published as a standard in 1963. As one byte is 8 bins, the ASCII encoding uses 7/8 of each byte. \n",
    "\n",
    "Common ways to read and write ASCII files in python are with file.open() and with np.savetxt(). \n",
    "\n",
    "The advantage of files stored in ASCII format (e.g. those with a .txt extension) is that they are human readable with a text editor. \n",
    "\n",
    "The disadvantage of ASCII files is that they do not store data very efficiently. For example, to store the number \"3.1415926535\" in ASCII requires 12 bytes, one per character. In contrast, this number can be stored as a single-precision floating point number, which requires only four bytes. \n",
    "\n",
    "*Binary* format stores information in terms of ones and zeros. It is commonly used for larger quantities of numerical data where total storage space is a factor, and where there is no requirement to have an immediately human-readable file. Binary files are typically organized in groups of eight bits, or bytes. There are standard numbers of bytes used to represent numbers width different amounts of precision. For example, \n",
    "\n",
    "- Single precision: This uses 32 bits or 4 bytes. Two bits for the base, one for the sign, 8 for the exponent, and 23+1 for the significand. \n",
    "- Double precision: This uses 64 bits or 8 bytes. Two bits for the base, one for the sign, 11 for the exponent, and 52+1 for the significand. \n",
    "- Signed integer: 32-bit data in the range -2147483648 to 2147483647\n",
    "- Unsigned integer: 32 bin data in the range 0 to 4294967295\n",
    "\n",
    "One common question that arises with data stored in binary format is whether the convention is *big-endian* or *little-endian.* The difference is that in little-endian format the least significant bytes  (littlest) are stored before the most significant bytes (biggest), and for big-endiant this is reversed. "
   ]
  },
  {
   "cell_type": "code",
   "execution_count": 2,
   "metadata": {},
   "outputs": [
    {
     "data": {
      "text/plain": [
       "(13500, 8128)"
      ]
     },
     "execution_count": 2,
     "metadata": {},
     "output_type": "execute_result"
    }
   ],
   "source": [
    "# Generate some data and save it in ASCII and binary format\n",
    "\n",
    "x = np.linspace(1, 1000, 1000)\n",
    "y = np.sin(x)\n",
    "\n",
    "np.savetxt('file.txt', y, fmt='%e') \n",
    "\n",
    "np.save('file.bin', y)\n",
    "\n",
    "# See the sizes of these two files with os.path.getsize(), which returns the size in bytes\n",
    "os.path.getsize('file.txt'), os.path.getsize('file.bin.npy')"
   ]
  },
  {
   "cell_type": "markdown",
   "metadata": {},
   "source": [
    "The file size of the ASCII file is about 1000 * 12 bytes, as each number consists of about 12 ASCII characters. The filesize of the binary file is about 1000 * 8 bytes, as this is double precision. "
   ]
  },
  {
   "cell_type": "markdown",
   "metadata": {},
   "source": [
    "### FITS format\n",
    "\n",
    "FITS stands for Flexible Image Transport System, a data storage format that was first standardized in 1981. FITS is the most common data format used in astronomy, and is a very effective way to store both image data (e.g. 1-D spectra, 2-D images, 3-D data cubes) and tables. \n",
    "\n",
    "The basic idea behind FITS is that there is a human-readable header in ASCII formation combined with data in binary format. Each fits file will contain one or more headers, and the headers (except perhaps the first) will each have an associated data block. \n",
    "\n",
    "The headers consist of a list of \"cards\" with a maximum length of 80 characters. Each of these cards consists of a keyword, a value for the keyword, and often a comment that describes the keyword. The 80 character length dates from when 80 characters was the maximum for an old punched card. Many of the keywords are standardized, such as to encode information about the coordinate system of an image (often called the World Coordinate System or WCS), the length of an exposure, date and time information about when data were obtained, etc. \n",
    "\n",
    "Details about the FITS standard are maintained at: https://fits.gsfc.nasa.gov/\n",
    "\n",
    "There are numerous packages available that can read and write fits files in a variety of programming languages. Two modules in python are fitsio and astropy.io.fits. "
   ]
  },
  {
   "cell_type": "markdown",
   "metadata": {},
   "source": [
    "### astropy.io.fits\n",
    "\n",
    "This example shows how to use fits.open() to open a test fits file that comes with astropy. The function fits.open() returns an HDUList object that lists all of the extensions in the fits file:"
   ]
  },
  {
   "cell_type": "code",
   "execution_count": 3,
   "metadata": {},
   "outputs": [
    {
     "name": "stdout",
     "output_type": "stream",
     "text": [
      "Filename: /Users/martini.10/anaconda3/lib/python3.8/site-packages/astropy/io/fits/tests/data/test0.fits\n",
      "No.    Name      Ver    Type      Cards   Dimensions   Format\n",
      "  0  PRIMARY       1 PrimaryHDU     138   ()      \n",
      "  1  SCI           1 ImageHDU        61   (40, 40)   int16   \n",
      "  2  SCI           2 ImageHDU        61   (40, 40)   int16   \n",
      "  3  SCI           3 ImageHDU        61   (40, 40)   int16   \n",
      "  4  SCI           4 ImageHDU        61   (40, 40)   int16   \n"
     ]
    }
   ],
   "source": [
    "from astropy.io import fits\n",
    "fits_image_filename = fits.util.get_testdata_filepath('test0.fits')\n",
    "hdul = fits.open(fits_image_filename)\n",
    "hdul.info()"
   ]
  },
  {
   "cell_type": "markdown",
   "metadata": {},
   "source": [
    "Note that hdul.info() prints five headers or \"Header Data Units.\" This shows there is a primary header with 138 cards and four additional headers, each with 61 cards, and each with a 40x40 array of 16-bit integrers. First let's look at the first header:"
   ]
  },
  {
   "cell_type": "code",
   "execution_count": 4,
   "metadata": {},
   "outputs": [
    {
     "data": {
      "text/plain": [
       "SIMPLE  =                    T / file does conform to FITS standard             \n",
       "BITPIX  =                   16 / number of bits per data pixel                  \n",
       "NAXIS   =                    0 / number of data axes                            \n",
       "EXTEND  =                    T / FITS dataset may contain extensions            \n",
       "GROUPS  =                    F / data has groups                                \n",
       "NEXTEND =                    4 / Number of standard extensions                  \n",
       "BSCALE  =           1.000000E0 / REAL = TAPE*BSCALE + BZERO                     \n",
       "BZERO   =           3.276800E4 /                                                \n",
       "ORIGIN  = 'NOAO-IRAF FITS Image Kernel Aug 1 1997' / FITS file originator       \n",
       "DATE    = '01/04/99  '         / Date FITS file was generated                   \n",
       "IRAF-TLM= 'xxx     '              / Time of last modification                   \n",
       "                                                                                \n",
       "              / GROUP PARAMETERS: OSS                                           \n",
       "                                                                                \n",
       "              / GROUP PARAMETERS: PODPS                                         \n",
       "                                                                                \n",
       "              / GROUP PARAMETERS: DATA QUALITY FILE SUMMARY                     \n",
       "                                                                                \n",
       "              / GROUP PARAMETERS: PHOTOMETRY                                    \n",
       "                                                                                \n",
       "              / GROUP PARAMETERS: IMAGE STATISTICS                              \n",
       "                                                                                \n",
       "              / WFPC-II DATA DESCRIPTOR KEYWORDS                                \n",
       "INSTRUME= 'WFPC2             ' / identifier for instrument used to acquire data \n",
       "ROOTNAME= 'U2EQ0201T         ' / rootname of the observation set                \n",
       "FILETYPE= 'SCI               ' / shp, ext, edq, sdq, sci                        \n",
       "                                                                                \n",
       "              / SCIENCE INSTRUMENT CONFIGURATION                                \n",
       "MODE    = 'AREA              ' / instr. mode: FULL (full res.), AREA (area int.)\n",
       "SERIALS = 'OFF               ' / serial clocks: ON, OFF                         \n",
       "                                                                                \n",
       "              / IMAGE TYPE CHARACTERISTICS                                      \n",
       "IMAGETYP= 'EXT               ' / type of exposure identifier                    \n",
       "CDBSFILE= 'NO                ' / GENERIC/BIAS/DARK/PREF/FLAT/MASK/ATOD/NO       \n",
       "PKTFMT  =                   96 / packet format code                             \n",
       "                                                                                \n",
       "              / FILTER CONFIGURATION                                            \n",
       "FILTNAM1= 'F673N             ' / first filter name                              \n",
       "FILTNAM2= '                  ' / 2nd    filter name                             \n",
       "FILTER1 =                   33 / first filter number (0-48)                     \n",
       "FILTER2 =                    0 / second filter number (0-48)                    \n",
       "FILTROT =             0.000000 / partial filter rotation angle (degrees)        \n",
       "LRFWAVE =                  0.0 / linear ramp filter wavelength                  \n",
       "                                                                                \n",
       "              / INSTRUMENT STATUS USED IN DATA PROCESSING                       \n",
       "UCH1CJTM=             -88.3486 / TEC cold junction #1 temperature (Celsius)     \n",
       "UCH2CJTM=             -88.8073 / TEC cold junction #2 temperature (Celsius)     \n",
       "UCH3CJTM=             -88.3945 / TEC cold junction #3 temperature (Celsius)     \n",
       "UCH4CJTM=             -88.9041 / TEC cold junction #4 temperature (Celsius)     \n",
       "UBAY3TMP=              14.5969 / bay 3 A1 temperature (deg C)                   \n",
       "KSPOTS  = 'OFF               ' / Status of Kelsall spot lamps: ON, OFF          \n",
       "SHUTTER = 'B                 ' / Shutter in place at beginning of the exposure  \n",
       "ATODGAIN=                  7.0 / Analog to Digital Gain (Electrons/DN)          \n",
       "                                                                                \n",
       "              / RSDP CONTROL KEYWORDS                                           \n",
       "MASKCORR= 'PERFORM           ' / Do mask correction: PERFORM, OMIT, COMPLETE    \n",
       "ATODCORR= 'PERFORM           ' / Do A-to-D correction: PERFORM, OMIT, COMPLETE  \n",
       "BLEVCORR= 'PERFORM           ' / Do bias level correction                       \n",
       "BIASCORR= 'PERFORM           ' / Do bias correction: PERFORM, OMIT, COMPLETE    \n",
       "DARKCORR= 'OMIT              ' / Do dark correction: PERFORM, OMIT, COMPLETE    \n",
       "FLATCORR= 'PERFORM           ' / Do flat field correction                       \n",
       "SHADCORR= 'PERFORM           ' / Do shaded shutter correction                   \n",
       "DOSATMAP= 'OMIT              ' / Output saturated pixel map                     \n",
       "DOPHOTOM= 'PERFORM           ' / Fill photometry keywords                       \n",
       "DOHISTOS= 'OMIT              ' / Make histograms: PERFORM, OMIT, COMPLETE       \n",
       "OUTDTYPE= 'REAL              ' / Output image datatype: REAL, LONG, SHORT       \n",
       "                                                                                \n",
       "              / CALIBRATION REFERENCE FILES                                     \n",
       "MASKFILE= 'uref$fan15478u.r0h' / name of the input DQF of known bad pixels      \n",
       "ATODFILE= 'uref$e1b09594u.r1h' / name of the A-to-D conversion file             \n",
       "BLEVFILE= 'ucal$u2eq0201t.x0h' / Engineering file with extended register data   \n",
       "BLEVDFIL= 'ucal$u2eq0201t.q1h' / Engineering file DQF                           \n",
       "BIASFILE= 'uref$e6o0937du.r2h' / name of the bias frame reference file          \n",
       "BIASDFIL= 'uref$e6o0937du.b2h' / name of the bias frame reference DQF           \n",
       "DARKFILE= 'uref$e6o09384u.r3h' / name of the dark reference file                \n",
       "DARKDFIL= 'uref$e6o09384u.b3h' / name of the dark reference DQF                 \n",
       "FLATFILE= 'uref$e1c1404ju.r4h' / name of the flat field reference file          \n",
       "FLATDFIL= 'uref$e1c1404ju.b4h' / name of the flat field reference DQF           \n",
       "SHADFILE= 'uref$e6o09405u.r5h' / name of the reference file for shutter shading \n",
       "PHOTTAB = '                  ' / name of the photometry calibration table       \n",
       "GRAPHTAB= 'mtab$f7d1401pm.tmg' / the HST graph table                            \n",
       "COMPTAB = 'mtab$f7j1535pm.tmc' / the HST components table                       \n",
       "                                                                                \n",
       "              / DEFAULT KEYWORDS SET BY STSCI                                   \n",
       "SATURATE=                 4095 / Data value at which saturation occurs          \n",
       "USCALE  =                  1.0 / Scale factor for output image                  \n",
       "UZERO   =                  0.0 / Zero point for output image                    \n",
       "                                                                                \n",
       "              / READOUT DURATION INFORMATION                                    \n",
       "READTIME=                  151 / Length of time for CCD readout in clock ticks  \n",
       "                                                                                \n",
       "              / PLANETARY SCIENCE KEYWORDS                                      \n",
       "PA_V3   =        292.387786865 / position angle of v3 of HST (deg)              \n",
       "RA_SUN  =        56.2731208362 / right ascension of the sun (deg)               \n",
       "DEC_SUN =        19.8289107164 / declination of the sun (deg)                   \n",
       "EQNX_SUN=               2000.0 / equinox of the sun                             \n",
       "MTFLAG  =                    T / moving target flag; T if it is a moving target \n",
       "EQRADTRG=                  0.0 / equatorial radius of target (km)               \n",
       "FLATNTRG=                  0.0 / flattening of target                           \n",
       "NPDECTRG=                  0.0 / north pole declination of target (deg)         \n",
       "NPRATRG =                  0.0 / north pole right ascension of target (deg)     \n",
       "ROTRTTRG=                  0.0 / rotation rate of target                        \n",
       "LONGPMER=                  0.0 / longitude of prime meridian (deg)              \n",
       "EPLONGPM=                  0.0 / epoch of longitude of prime meridian (sec)     \n",
       "SURFLATD=                  0.0 / surface feature latitude (deg)                 \n",
       "SURFLONG=                  0.0 / surface feature longitude (deg)                \n",
       "SURFALTD=                  0.0 / surface feature altitude (km)                  \n",
       "                                                                                \n",
       "              / PODPS FILL VALUES                                               \n",
       "PODPSFF =                    F / podps fill present (T/F)                       \n",
       "STDCFFF =                    F / ST DDF fill present (T/F)                      \n",
       "STDCFFP = '0x5569            ' / ST DDF fill pattern (hex)                      \n",
       "RSDPFILL=                 -100 / bad data fill value for calibrated images      \n",
       "                                                                                \n",
       "              / EXPOSURE TIME AND RELATED INFORMATION                           \n",
       "UEXPODUR=                    0 / commanded duration of exposure (sec)           \n",
       "NSHUTA17=                    0 / Number of AP17 shutter B closes                \n",
       "DARKTIME=   2.300000000000E-01 / Dark time (seconds)                            \n",
       "UEXPOTIM=                20272 / Major frame pulse time preceding exposure start\n",
       "PSTRTIME= '1994.139:15:41:39 ' / predicted obs. start time (yyyy.ddd:hh:mm:ss)  \n",
       "PSTPTIME= '1994.139:16:14:39 ' / predicted obs. stop time (yyyy.ddd:hh:mm:ss)   \n",
       "                                                                                \n",
       "                                                                                \n",
       "              / EXPOSURE INFORMATION                                            \n",
       "                                                                                \n",
       "ORIENTAT=              157.076 / position angle of image y axis (deg. e of n)   \n",
       "SUNANGLE=           158.939133 / angle between sun and V1 axis (deg)            \n",
       "MOONANGL=            54.995346 / angle between moon and V1 axis                 \n",
       "SUN_ALT =           -11.552458 / altitude of the sun above Earth's limb         \n",
       "FGSLOCK = 'FINE              ' / commanded FGS lock (FINE,COARSE,GYROS,UNKNOWN) \n",
       "                                                                                \n",
       "DATE-OBS= '19/05/94          ' / UT date of start of observation (dd/mm/yy)     \n",
       "TIME-OBS= '15:41:16          ' / UT time of start of observation (hh:mm:ss)     \n",
       "EXPSTART=   4.949165366175E+04 / exposure start time (Modified Julian Date)     \n",
       "EXPEND  =   4.949165366441E+04 / exposure end time (Modified Julian Date)       \n",
       "EXPTIME =   2.300000000000E-01 / exposure duration (seconds)--calculated        \n",
       "EXPFLAG = 'NORMAL            ' / Exposure interruption indicator                \n",
       "FILENAME= 'vtest3.fits'        / File name                                      "
      ]
     },
     "execution_count": 4,
     "metadata": {},
     "output_type": "execute_result"
    }
   ],
   "source": [
    "hdul[0].header"
   ]
  },
  {
   "cell_type": "code",
   "execution_count": 5,
   "metadata": {},
   "outputs": [
    {
     "data": {
      "text/plain": [
       "138"
      ]
     },
     "execution_count": 5,
     "metadata": {},
     "output_type": "execute_result"
    }
   ],
   "source": [
    "# Check the length of extension '0' \n",
    "len(hdul[0].header)"
   ]
  },
  {
   "cell_type": "code",
   "execution_count": 6,
   "metadata": {},
   "outputs": [
    {
     "data": {
      "text/plain": [
       "0.23"
      ]
     },
     "execution_count": 6,
     "metadata": {},
     "output_type": "execute_result"
    }
   ],
   "source": [
    "# Various keywords are standard, including ones like DATE-OBS, TIME-OBS, EXPTIME. \n",
    "# It is straightforward to access those directly with \n",
    "hdul[0].header['EXPTIME']"
   ]
  },
  {
   "cell_type": "code",
   "execution_count": 7,
   "metadata": {},
   "outputs": [
    {
     "data": {
      "text/plain": [
       "XTENSION= 'IMAGE   '           / IMAGE extension                                \n",
       "BITPIX  =                   16 / number of bits per data pixel                  \n",
       "NAXIS   =                    2 / number of data axes                            \n",
       "NAXIS1  =                   40 / length of data axis 1                          \n",
       "NAXIS2  =                   40 / length of data axis 2                          \n",
       "PCOUNT  =                    0 / required keyword; must = 0                     \n",
       "GCOUNT  =                    1 / required keyword; must = 1                     \n",
       "EXTNAME = 'SCI     '           / extension name                                 \n",
       "EXTVER  =                    1 / extension version number                       \n",
       "INHERIT =                    T / inherit the primary header                     \n",
       "ROOTNAME= 'U2EQ0201T'          / rootname of the observation set                \n",
       "EXPNAME = 'U2EQ0201T'          / 9 character exposure identifier                \n",
       "CRVAL1  =        215.597167517 / right ascension of reference pixel (deg)       \n",
       "CRVAL2  =       -12.7376058132 / declination of reference pixel (deg)           \n",
       "CRPIX1  =               210.25 / x-coordinate of reference pixel                \n",
       "CRPIX2  =                212.5 / y-coordinate of reference pixel                \n",
       "CD1_1   =          2.33019E-05 / partial of the right ascension w.r.t. x        \n",
       "CD1_2   =          9.85029E-06 / partial of the right ascension w.r.t. y        \n",
       "CD2_1   =          9.85462E-06 / partial of the declination w.r.t. x            \n",
       "CD2_2   =         -2.32916E-05 / partial of the declination w.r.t. y            \n",
       "DATAMIN =                   0. / minimum value of the data                      \n",
       "DATAMAX =                   0. / maximum value of the data                      \n",
       "MIR_REVR=                    T / is the image mirror reversed?                  \n",
       "ORIENTAT=              157.076 / orientation of the image (deg)                 \n",
       "FILLCNT =                    0 / number of segments containing fill             \n",
       "ERRCNT  =                    0 / number of segments containing errors           \n",
       "FPKTTIME=         49491.654167 / time of the first packet (Modified Julian Date)\n",
       "LPKTTIME=          49491.65422 / time of the last packet (Modified Julian Date) \n",
       "CTYPE1  = 'UNITLESS'           / first coordinate type                          \n",
       "CTYPE2  = 'LINE    '           / second coordinate type                         \n",
       "DETECTOR=                    1 / CCD detector: PC 1, WFC 2-4                    \n",
       "DEZERO  =                   0. / mean bias level from EED extended register     \n",
       "BIASEVEN=                   0. / bias level for even-numbered columns           \n",
       "BIASODD =                   0. / bias level for odd-numbered columns            \n",
       "GOODMIN =                   0. / minimum value of the \"good\" pixels             \n",
       "GOODMAX =                   0. / maximum value of the \"good\" pixels             \n",
       "DATAMEAN=                   0. / mean value of the \"good\" pixels                \n",
       "GPIXELS =                    0 / number of \"good\" pixels (DQF = 0)              \n",
       "SOFTERRS=                    0 / number of \"soft error\" pixels (DQF = 1)        \n",
       "CALIBDEF=                    0 / number of \"calibration defect\" pixels (DQF = 2)\n",
       "STATICD =                    0 / number of \"static defect\" pixels (DQF = 4)     \n",
       "ATODSAT =                    0 / number of \"AtoD saturated\" pixels (DQF = 8)    \n",
       "DATALOST=                    0 / number of \"data lost\" pixels (DQF = 16)        \n",
       "BADPIXEL=                    0 / number of \"generic bad\" pixels (DQF = 32)      \n",
       "OVERLAP =                    0 / number of \"image overlap\" pixels (DQF = 64)    \n",
       "PHOTMODE= '        '           / Photometry mode                                \n",
       "PHOTFLAM=                   0. / Inverse Sensitivity                            \n",
       "PHOTZPT =                   0. / Zero point                                     \n",
       "PHOTPLAM=                   0. / Pivot wavelength                               \n",
       "PHOTBW  =                   0. / RMS bandwidth of the filter                    \n",
       "MEDIAN  =                 312. / middle data value when good qual pixels sorted \n",
       "MEDSHADO=                 314. / median pixel value in shadow of pyramid edge   \n",
       "HISTWIDE=                   1. / width of the histogram                         \n",
       "SKEWNESS=            -0.003205 / skewness of the histogram                      \n",
       "MEANC10 =               313.16 / mean of a 10x10 region at center of chip       \n",
       "MEANC25 =             313.2493 / mean of a 25x25 region at center of chip       \n",
       "MEANC50 =             313.5349 / mean of a 50x50 region at center of chip       \n",
       "MEANC100=             313.4404 / mean of a 100x100 region at center of chip     \n",
       "MEANC200=             313.3406 / mean of a 200x200 region at center of chip     \n",
       "MEANC300=             313.3636 / mean of a 300x300 region at center of chip     \n",
       "BACKGRND=                 316. / estimated background level                     "
      ]
     },
     "execution_count": 7,
     "metadata": {},
     "output_type": "execute_result"
    }
   ],
   "source": [
    "# Now look at one of the extensions:\n",
    "hdul['SCI'].header"
   ]
  },
  {
   "cell_type": "code",
   "execution_count": 8,
   "metadata": {},
   "outputs": [
    {
     "data": {
      "text/plain": [
       "array([[313, 312, 313, ..., 312, 313, 313],\n",
       "       [315, 315, 313, ..., 312, 314, 313],\n",
       "       [313, 313, 312, ..., 314, 312, 313],\n",
       "       ...,\n",
       "       [314, 313, 312, ..., 312, 313, 311],\n",
       "       [313, 315, 312, ..., 313, 313, 312],\n",
       "       [312, 314, 314, ..., 314, 311, 314]], dtype=int16)"
      ]
     },
     "execution_count": 8,
     "metadata": {},
     "output_type": "execute_result"
    }
   ],
   "source": [
    "hdul[1].data"
   ]
  },
  {
   "cell_type": "code",
   "execution_count": 9,
   "metadata": {},
   "outputs": [
    {
     "data": {
      "text/plain": [
       "<matplotlib.image.AxesImage at 0x7fdcaa145730>"
      ]
     },
     "execution_count": 9,
     "metadata": {},
     "output_type": "execute_result"
    },
    {
     "data": {
      "image/png": "[encoded data removed]",
      "text/plain": [
       "<Figure size 576x576 with 1 Axes>"
      ]
     },
     "metadata": {
      "needs_background": "light"
     },
     "output_type": "display_data"
    }
   ],
   "source": [
    "# Show this image:\n",
    "plt.figure(figsize=(8,8))\n",
    "plt.imshow(hdul[1].data, cmap='gray_r')"
   ]
  },
  {
   "cell_type": "markdown",
   "metadata": {},
   "source": [
    "### Modify a fits file\n",
    "\n",
    "We can change header keywords and/or the data if we wish, and then write a new file. Here are examples of how to change and add keywords, and change the data:"
   ]
  },
  {
   "cell_type": "code",
   "execution_count": 10,
   "metadata": {},
   "outputs": [
    {
     "data": {
      "text/plain": [
       "'SCI'"
      ]
     },
     "execution_count": 10,
     "metadata": {},
     "output_type": "execute_result"
    }
   ],
   "source": [
    "hdul[1].header['EXTNAME']"
   ]
  },
  {
   "cell_type": "code",
   "execution_count": 11,
   "metadata": {},
   "outputs": [],
   "source": [
    "hdul[1].header['EXTNAME']  = 'PC'"
   ]
  },
  {
   "cell_type": "code",
   "execution_count": 12,
   "metadata": {},
   "outputs": [
    {
     "data": {
      "text/plain": [
       "'PC'"
      ]
     },
     "execution_count": 12,
     "metadata": {},
     "output_type": "execute_result"
    }
   ],
   "source": [
    "hdul[1].header['EXTNAME']"
   ]
  },
  {
   "cell_type": "code",
   "execution_count": 13,
   "metadata": {},
   "outputs": [
    {
     "name": "stdout",
     "output_type": "stream",
     "text": [
      "Filename: /Users/martini.10/anaconda3/lib/python3.8/site-packages/astropy/io/fits/tests/data/test0.fits\n",
      "No.    Name      Ver    Type      Cards   Dimensions   Format\n",
      "  0  PRIMARY       1 PrimaryHDU     138   ()      \n",
      "  1  PC            1 ImageHDU        61   (40, 40)   int16   \n",
      "  2  SCI           2 ImageHDU        61   (40, 40)   int16   \n",
      "  3  SCI           3 ImageHDU        61   (40, 40)   int16   \n",
      "  4  SCI           4 ImageHDU        61   (40, 40)   int16   \n"
     ]
    }
   ],
   "source": [
    "hdul.info()"
   ]
  },
  {
   "cell_type": "code",
   "execution_count": 14,
   "metadata": {},
   "outputs": [
    {
     "data": {
      "text/plain": [
       "XTENSION= 'IMAGE   '           / IMAGE extension                                \n",
       "BITPIX  =                   16 / number of bits per data pixel                  \n",
       "NAXIS   =                    2 / number of data axes                            \n",
       "NAXIS1  =                   40 / length of data axis 1                          \n",
       "NAXIS2  =                   40 / length of data axis 2                          \n",
       "PCOUNT  =                    0 / required keyword; must = 0                     \n",
       "GCOUNT  =                    1 / required keyword; must = 1                     \n",
       "EXTNAME = 'PC      '           / extension name                                 \n",
       "EXTVER  =                    1 / extension version number                       \n",
       "INHERIT =                    T / inherit the primary header                     \n",
       "ROOTNAME= 'U2EQ0201T'          / rootname of the observation set                \n",
       "EXPNAME = 'U2EQ0201T'          / 9 character exposure identifier                \n",
       "CRVAL1  =        215.597167517 / right ascension of reference pixel (deg)       \n",
       "CRVAL2  =       -12.7376058132 / declination of reference pixel (deg)           \n",
       "CRPIX1  =               210.25 / x-coordinate of reference pixel                \n",
       "CRPIX2  =                212.5 / y-coordinate of reference pixel                \n",
       "CD1_1   =          2.33019E-05 / partial of the right ascension w.r.t. x        \n",
       "CD1_2   =          9.85029E-06 / partial of the right ascension w.r.t. y        \n",
       "CD2_1   =          9.85462E-06 / partial of the declination w.r.t. x            \n",
       "CD2_2   =         -2.32916E-05 / partial of the declination w.r.t. y            \n",
       "DATAMIN =                   0. / minimum value of the data                      \n",
       "DATAMAX =                   0. / maximum value of the data                      \n",
       "MIR_REVR=                    T / is the image mirror reversed?                  \n",
       "ORIENTAT=              157.076 / orientation of the image (deg)                 \n",
       "FILLCNT =                    0 / number of segments containing fill             \n",
       "ERRCNT  =                    0 / number of segments containing errors           \n",
       "FPKTTIME=         49491.654167 / time of the first packet (Modified Julian Date)\n",
       "LPKTTIME=          49491.65422 / time of the last packet (Modified Julian Date) \n",
       "CTYPE1  = 'UNITLESS'           / first coordinate type                          \n",
       "CTYPE2  = 'LINE    '           / second coordinate type                         \n",
       "DETECTOR=                    1 / CCD detector: PC 1, WFC 2-4                    \n",
       "DEZERO  =                   0. / mean bias level from EED extended register     \n",
       "BIASEVEN=                   0. / bias level for even-numbered columns           \n",
       "BIASODD =                   0. / bias level for odd-numbered columns            \n",
       "GOODMIN =                   0. / minimum value of the \"good\" pixels             \n",
       "GOODMAX =                   0. / maximum value of the \"good\" pixels             \n",
       "DATAMEAN=                   0. / mean value of the \"good\" pixels                \n",
       "GPIXELS =                    0 / number of \"good\" pixels (DQF = 0)              \n",
       "SOFTERRS=                    0 / number of \"soft error\" pixels (DQF = 1)        \n",
       "CALIBDEF=                    0 / number of \"calibration defect\" pixels (DQF = 2)\n",
       "STATICD =                    0 / number of \"static defect\" pixels (DQF = 4)     \n",
       "ATODSAT =                    0 / number of \"AtoD saturated\" pixels (DQF = 8)    \n",
       "DATALOST=                    0 / number of \"data lost\" pixels (DQF = 16)        \n",
       "BADPIXEL=                    0 / number of \"generic bad\" pixels (DQF = 32)      \n",
       "OVERLAP =                    0 / number of \"image overlap\" pixels (DQF = 64)    \n",
       "PHOTMODE= '        '           / Photometry mode                                \n",
       "PHOTFLAM=                   0. / Inverse Sensitivity                            \n",
       "PHOTZPT =                   0. / Zero point                                     \n",
       "PHOTPLAM=                   0. / Pivot wavelength                               \n",
       "PHOTBW  =                   0. / RMS bandwidth of the filter                    \n",
       "MEDIAN  =                 312. / middle data value when good qual pixels sorted \n",
       "MEDSHADO=                 314. / median pixel value in shadow of pyramid edge   \n",
       "HISTWIDE=                   1. / width of the histogram                         \n",
       "SKEWNESS=            -0.003205 / skewness of the histogram                      \n",
       "MEANC10 =               313.16 / mean of a 10x10 region at center of chip       \n",
       "MEANC25 =             313.2493 / mean of a 25x25 region at center of chip       \n",
       "MEANC50 =             313.5349 / mean of a 50x50 region at center of chip       \n",
       "MEANC100=             313.4404 / mean of a 100x100 region at center of chip     \n",
       "MEANC200=             313.3406 / mean of a 200x200 region at center of chip     \n",
       "MEANC300=             313.3636 / mean of a 300x300 region at center of chip     \n",
       "BACKGRND=                 316. / estimated background level                     \n",
       "COMMENT A comment                                                               \n",
       "HISTORY Last updated 10 October 2021                                            "
      ]
     },
     "execution_count": 14,
     "metadata": {},
     "output_type": "execute_result"
    }
   ],
   "source": [
    "hdul[1].header['comment'] = 'A comment'\n",
    "hdul[1].header['history'] =  'Last updated 10 October 2021'\n",
    "hdul[1].header"
   ]
  },
  {
   "cell_type": "code",
   "execution_count": 15,
   "metadata": {},
   "outputs": [],
   "source": [
    "# Save these changes:\n",
    "hdul.writeto('newfile.fits', overwrite=True)"
   ]
  },
  {
   "cell_type": "markdown",
   "metadata": {},
   "source": [
    "### Table Data"
   ]
  },
  {
   "cell_type": "code",
   "execution_count": 16,
   "metadata": {},
   "outputs": [
    {
     "name": "stdout",
     "output_type": "stream",
     "text": [
      "Filename: /Users/martini.10/anaconda3/lib/python3.8/site-packages/astropy/io/fits/tests/data/tb.fits\n",
      "No.    Name      Ver    Type      Cards   Dimensions   Format\n",
      "  0  PRIMARY       1 PrimaryHDU      11   ()      \n",
      "  1                1 BinTableHDU     24   2R x 4C   [1J, 3A, 1E, 1L]   \n",
      "[(1, 'abc', 3.70000007,  0) (2, 'xy', 6.69999971,  1)]\n"
     ]
    }
   ],
   "source": [
    "fits_table_filename = fits.util.get_testdata_filepath('tb.fits')\n",
    "hdul = fits.open(fits_table_filename)\n",
    "hdul.info()\n",
    "data = hdul[1].data #  the first extension is a table / BinTableHDU\n",
    "print(data)"
   ]
  },
  {
   "cell_type": "code",
   "execution_count": 17,
   "metadata": {},
   "outputs": [
    {
     "name": "stdout",
     "output_type": "stream",
     "text": [
      "(numpy.record, [('c1', '>i4'), ('c2', 'S3'), ('c3', '>f4'), ('c4', 'i1')])\n",
      "Row 0:  (1, 'abc', 3.7000000715255736, False)\n",
      "Columnn 'c3': [3.70000007 6.69999971]\n",
      "Column information:  ColDefs(\n",
      "    name = 'c1'; format = '1J'; null = -2147483647; disp = 'I11'\n",
      "    name = 'c2'; format = '3A'; disp = 'A3'\n",
      "    name = 'c3'; format = '1E'; bscale = 3; bzero = 0.4; disp = 'G15.7'\n",
      "    name = 'c4'; format = '1L'; disp = 'L6'\n",
      ")\n",
      "Column names only: ['c1', 'c2', 'c3', 'c4']\n"
     ]
    }
   ],
   "source": [
    "# The table array is basically a numpy record array: \n",
    "print(data.dtype)\n",
    "# Note this provides a name and the format for each column\n",
    "\n",
    "# Here is the first row:\n",
    "print(\"Row 0: \", data[0])\n",
    "\n",
    "# Here is the third column: \n",
    "print(\"Columnn 'c3':\", data['c3'])\n",
    "\n",
    "# Here is a list of columns and their properties: \n",
    "print(\"Column information: \", hdul[1].columns)\n",
    "\n",
    "# Here is a list of just their names:\n",
    "print(\"Column names only:\", hdul[1].columns.names)"
   ]
  },
  {
   "cell_type": "markdown",
   "metadata": {},
   "source": [
    "### Create a new column "
   ]
  },
  {
   "cell_type": "code",
   "execution_count": 18,
   "metadata": {},
   "outputs": [],
   "source": [
    "names = np.array(['Galaxy1', 'Galaxy2'])\n",
    "col5 = fits.Column(name = 'Name', array=names, format='20A')"
   ]
  },
  {
   "cell_type": "code",
   "execution_count": 19,
   "metadata": {},
   "outputs": [],
   "source": [
    "# original columns \n",
    "col1 = hdul[1].columns['c1']\n",
    "col2 = hdul[1].columns['c2']\n",
    "col3 = hdul[1].columns['c3']\n",
    "col4 = hdul[1].columns['c4']\n",
    "\n",
    "# New column list:\n",
    "cols = fits.ColDefs([col1, col2, col3, col4, col5])"
   ]
  },
  {
   "cell_type": "code",
   "execution_count": 20,
   "metadata": {},
   "outputs": [
    {
     "data": {
      "text/plain": [
       "ColDefs(\n",
       "    name = 'c1'; format = '1J'; null = -2147483647; disp = 'I11'\n",
       "    name = 'c2'; format = '3A'; disp = 'A3'\n",
       "    name = 'c3'; format = '1E'; bscale = 3; bzero = 0.4; disp = 'G15.7'\n",
       "    name = 'c4'; format = '1L'; disp = 'L6'\n",
       "    name = 'Name'; format = '20A'\n",
       ")"
      ]
     },
     "execution_count": 20,
     "metadata": {},
     "output_type": "execute_result"
    }
   ],
   "source": [
    "cols"
   ]
  },
  {
   "cell_type": "code",
   "execution_count": 21,
   "metadata": {},
   "outputs": [],
   "source": [
    "# Define the new table\n",
    "hdul[1] = fits.BinTableHDU.from_columns(cols)\n",
    "# Also change the extension anme\n",
    "hdul[1].header['EXTNAME'] = 'Table'"
   ]
  },
  {
   "cell_type": "code",
   "execution_count": 22,
   "metadata": {},
   "outputs": [
    {
     "name": "stdout",
     "output_type": "stream",
     "text": [
      "Filename: /Users/martini.10/anaconda3/lib/python3.8/site-packages/astropy/io/fits/tests/data/tb.fits\n",
      "No.    Name      Ver    Type      Cards   Dimensions   Format\n",
      "  0  PRIMARY       1 PrimaryHDU      11   ()      \n",
      "  1  Table         1 BinTableHDU     26   2R x 5C   ['1J', '3A', '1E', '1L', '20A']   \n"
     ]
    }
   ],
   "source": [
    "# Look at the extension name change\n",
    "hdul.info()"
   ]
  },
  {
   "cell_type": "code",
   "execution_count": 23,
   "metadata": {},
   "outputs": [
    {
     "data": {
      "text/plain": [
       "chararray(['Galaxy1', 'Galaxy2'], dtype='<U20')"
      ]
     },
     "execution_count": 23,
     "metadata": {},
     "output_type": "execute_result"
    }
   ],
   "source": [
    "# We can use the column name to access the data\n",
    "hdul[1].data['Name']"
   ]
  },
  {
   "cell_type": "code",
   "execution_count": 24,
   "metadata": {},
   "outputs": [],
   "source": [
    "# Write out this file:\n",
    "hdul.writeto(\"testtable.fits\", overwrite=True)"
   ]
  },
  {
   "cell_type": "markdown",
   "metadata": {},
   "source": [
    "### SDSS QSO Catalog"
   ]
  },
  {
   "cell_type": "code",
   "execution_count": 26,
   "metadata": {},
   "outputs": [],
   "source": [
    "# Download an early SDSS QSO catalog, simply because the file size is small\n",
    "import urllib\n",
    "qsocaturl = 'http://classic.sdss.org/dr4/products/value_added/dr1qso.fits'\n",
    "qsofile = 'dr1qso.fits'\n",
    "if not os.path.isfile(qsofile): \n",
    "    urllib.request.urlretrieve(qsocaturl, qsofile)"
   ]
  },
  {
   "cell_type": "code",
   "execution_count": 27,
   "metadata": {},
   "outputs": [
    {
     "name": "stdout",
     "output_type": "stream",
     "text": [
      "Filename: dr1qso.fits\n",
      "No.    Name      Ver    Type      Cards   Dimensions   Format\n",
      "  0  PRIMARY       1 PrimaryHDU       6   ()      \n",
      "  1                1 BinTableHDU    171   16713R x 52C   [18A, D, D, E, E, E, E, E, E, E, E, E, E, E, E, E, E, E, E, E, E, E, E, E, E, E, E, E, E, E, I, I, I, I, I, I, I, I, I, I, I, I, I, I, I, I, I, J, J, I, I, 25A]   \n"
     ]
    }
   ],
   "source": [
    "qhdu = fits.open(qsofile)\n",
    "qhdu.info()"
   ]
  },
  {
   "cell_type": "code",
   "execution_count": 28,
   "metadata": {},
   "outputs": [
    {
     "data": {
      "text/plain": [
       "XTENSION= 'BINTABLE'           / binary table extension                         \n",
       "BITPIX  =                    8 / 8-bit bytes                                    \n",
       "NAXIS   =                    2 / 2-dimensional binary table                     \n",
       "NAXIS1  =                  213 / width of table in bytes                        \n",
       "NAXIS2  =                16713 / number of rows in table                        \n",
       "PCOUNT  =                    0 / size of special data area                      \n",
       "GCOUNT  =                    1 / one data group (required keyword)              \n",
       "TFIELDS =                   52 / number of fields in each row                   \n",
       "TTYPE1  = 'SDSSName'           / label for field   1                            \n",
       "TFORM1  = '18A     '           / data format of field: ASCII Character          \n",
       "TTYPE2  = 'RA      '           / label for field   2                            \n",
       "TFORM2  = 'D       '           / data format of field: 8-byte DOUBLE            \n",
       "TUNIT2  = 'degrees '           / physical unit of field                         \n",
       "TTYPE3  = 'DEC     '           / label for field   3                            \n",
       "TFORM3  = 'D       '           / data format of field: 8-byte DOUBLE            \n",
       "TUNIT3  = 'degrees '           / physical unit of field                         \n",
       "TTYPE4  = 'z       '           / label for field   4                            \n",
       "TFORM4  = 'E       '           / data format of field: 4-byte REAL              \n",
       "TTYPE5  = 'source  '           / label for field   5                            \n",
       "TFORM5  = 'E       '           / data format of field: 4-byte REAL              \n",
       "TTYPE6  = 'psfmag_u'           / label for field   6                            \n",
       "TFORM6  = 'E       '           / data format of field: 4-byte REAL              \n",
       "TUNIT6  = 'asinhmag'           / physical unit of field                         \n",
       "TTYPE7  = 'psfmagerr_u'        / label for field   7                            \n",
       "TFORM7  = 'E       '           / data format of field: 4-byte REAL              \n",
       "TUNIT7  = 'asinhmag'           / physical unit of field                         \n",
       "TTYPE8  = 'psfmag_g'           / label for field   8                            \n",
       "TFORM8  = 'E       '           / data format of field: 4-byte REAL              \n",
       "TUNIT8  = 'asinhmag'           / physical unit of field                         \n",
       "TTYPE9  = 'psfmagerr_g'        / label for field   9                            \n",
       "TFORM9  = 'E       '           / data format of field: 4-byte REAL              \n",
       "TUNIT9  = 'asinhmag'           / physical unit of field                         \n",
       "TTYPE10 = 'psfmag_r'           / label for field  10                            \n",
       "TFORM10 = 'E       '           / data format of field: 4-byte REAL              \n",
       "TUNIT10 = 'asinhmag'           / physical unit of field                         \n",
       "TTYPE11 = 'psfmagerr_r'        / label for field  11                            \n",
       "TFORM11 = 'E       '           / data format of field: 4-byte REAL              \n",
       "TUNIT11 = 'asinhmag'           / physical unit of field                         \n",
       "TTYPE12 = 'psfmag_i'           / label for field  12                            \n",
       "TFORM12 = 'E       '           / data format of field: 4-byte REAL              \n",
       "TUNIT12 = 'asinhmag'           / physical unit of field                         \n",
       "TTYPE13 = 'psfmagerr_i'        / label for field  13                            \n",
       "TFORM13 = 'E       '           / data format of field: 4-byte REAL              \n",
       "TUNIT13 = 'asinhmag'           / physical unit of field                         \n",
       "TTYPE14 = 'psfmag_z'           / label for field  14                            \n",
       "TFORM14 = 'E       '           / data format of field: 4-byte REAL              \n",
       "TUNIT14 = 'asinhmag'           / physical unit of field                         \n",
       "TTYPE15 = 'psfmagerr_z'        / label for field  15                            \n",
       "TFORM15 = 'E       '           / data format of field: 4-byte REAL              \n",
       "TUNIT15 = 'asinhmag'           / physical unit of field                         \n",
       "TTYPE16 = 'A_u     '           / label for field  16                            \n",
       "TFORM16 = 'E       '           / data format of field: 4-byte REAL              \n",
       "TUNIT16 = 'mag     '           / physical unit of field                         \n",
       "TTYPE17 = 'FIRSTmag'           / label for field  17                            \n",
       "TFORM17 = 'E       '           / data format of field: 4-byte REAL              \n",
       "TUNIT17 = 'mag     '           / physical unit of field                         \n",
       "TTYPE18 = 'FIRST_sn'           / label for field  18                            \n",
       "TFORM18 = 'E       '           / data format of field: 4-byte REAL              \n",
       "TTYPE19 = 'FIRST_sep'          / label for field  19                            \n",
       "TFORM19 = 'E       '           / data format of field: 4-byte REAL              \n",
       "TUNIT19 = 'arcsec  '           / physical unit of field                         \n",
       "TTYPE20 = 'lg_RASS_rate'       / label for field  20                            \n",
       "TFORM20 = 'E       '           / data format of field: 4-byte REAL              \n",
       "TUNIT20 = 'lg_cps  '           / physical unit of field                         \n",
       "TTYPE21 = 'RASS_sn '           / label for field  21                            \n",
       "TFORM21 = 'E       '           / data format of field: 4-byte REAL              \n",
       "TTYPE22 = 'RASS_sep'           / label for field  22                            \n",
       "TFORM22 = 'E       '           / data format of field: 4-byte REAL              \n",
       "TUNIT22 = 'arcsec  '           / physical unit of field                         \n",
       "TTYPE23 = 'TWOMASSmag_J'       / label for field  23                            \n",
       "TFORM23 = 'E       '           / data format of field: 4-byte REAL              \n",
       "TUNIT23 = 'mag     '           / physical unit of field                         \n",
       "TTYPE24 = 'TWOMASSmagerr_J'    / label for field  24                            \n",
       "TFORM24 = 'E       '           / data format of field: 4-byte REAL              \n",
       "TUNIT24 = 'mag     '           / physical unit of field                         \n",
       "TTYPE25 = 'TWOMASSmag_H'       / label for field  25                            \n",
       "TFORM25 = 'E       '           / data format of field: 4-byte REAL              \n",
       "TUNIT25 = 'mag     '           / physical unit of field                         \n",
       "TTYPE26 = 'TWOMASSmagerr_H'    / label for field  26                            \n",
       "TFORM26 = 'E       '           / data format of field: 4-byte REAL              \n",
       "TUNIT26 = 'mag     '           / physical unit of field                         \n",
       "TTYPE27 = 'TWOMASSmag_K'       / label for field  27                            \n",
       "TFORM27 = 'E       '           / data format of field: 4-byte REAL              \n",
       "TUNIT27 = 'mag     '           / physical unit of field                         \n",
       "TTYPE28 = 'TWOMASSmagerr_K'    / label for field  28                            \n",
       "TFORM28 = 'E       '           / data format of field: 4-byte REAL              \n",
       "TUNIT28 = 'mag     '           / physical unit of field                         \n",
       "TTYPE29 = 'TWOMASS_sep'        / label for field  29                            \n",
       "TFORM29 = 'E       '           / data format of field: 4-byte REAL              \n",
       "TUNIT29 = 'arcsec  '           / physical unit of field                         \n",
       "TTYPE30 = 'M_i     '           / label for field  30                            \n",
       "TFORM30 = 'E       '           / data format of field: 4-byte REAL              \n",
       "TUNIT30 = 'mag     '           / physical unit of field                         \n",
       "TTYPE31 = 'morphology'         / label for field  31                            \n",
       "TFORM31 = 'I       '           / data format of field: 2-byte INTEGER           \n",
       "TTYPE32 = 'ts_ver  '           / label for field  32                            \n",
       "TFORM32 = 'I       '           / data format of field: 2-byte INTEGER           \n",
       "TTYPE33 = 'ts_t_qso'           / label for field  33                            \n",
       "TFORM33 = 'I       '           / data format of field: 2-byte INTEGER           \n",
       "TTYPE34 = 'ts_t_hiz'           / label for field  34                            \n",
       "TFORM34 = 'I       '           / data format of field: 2-byte INTEGER           \n",
       "TTYPE35 = 'ts_t_FIRST'         / label for field  35                            \n",
       "TFORM35 = 'I       '           / data format of field: 2-byte INTEGER           \n",
       "TTYPE36 = 'ts_t_ROSAT'         / label for field  36                            \n",
       "TFORM36 = 'I       '           / data format of field: 2-byte INTEGER           \n",
       "TTYPE37 = 'ts_t_serendip'      / label for field  37                            \n",
       "TFORM37 = 'I       '           / data format of field: 2-byte INTEGER           \n",
       "TTYPE38 = 'ts_t_star'          / label for field  38                            \n",
       "TFORM38 = 'I       '           / data format of field: 2-byte INTEGER           \n",
       "TTYPE39 = 'ts_t_gal'           / label for field  39                            \n",
       "TFORM39 = 'I       '           / data format of field: 2-byte INTEGER           \n",
       "TTYPE40 = 'ts_b_qso'           / label for field  40                            \n",
       "TFORM40 = 'I       '           / data format of field: 2-byte INTEGER           \n",
       "TTYPE41 = 'ts_b_hiz'           / label for field  41                            \n",
       "TFORM41 = 'I       '           / data format of field: 2-byte INTEGER           \n",
       "TTYPE42 = 'ts_b_FIRST'         / label for field  42                            \n",
       "TFORM42 = 'I       '           / data format of field: 2-byte INTEGER           \n",
       "TTYPE43 = 'ts_b_ROSAT'         / label for field  43                            \n",
       "TFORM43 = 'I       '           / data format of field: 2-byte INTEGER           \n",
       "TTYPE44 = 'ts_b_serendip'      / label for field  44                            \n",
       "TFORM44 = 'I       '           / data format of field: 2-byte INTEGER           \n",
       "TTYPE45 = 'ts_b_star'          / label for field  45                            \n",
       "TFORM45 = 'I       '           / data format of field: 2-byte INTEGER           \n",
       "TTYPE46 = 'ts_b_gal'           / label for field  46                            \n",
       "TFORM46 = 'I       '           / data format of field: 2-byte INTEGER           \n",
       "TTYPE47 = 'run_best'           / label for field  47                            \n",
       "TFORM47 = 'I       '           / data format of field: 2-byte INTEGER           \n",
       "TTYPE48 = 'MJD_best'           / label for field  48                            \n",
       "TFORM48 = 'J       '           / data format of field: 4-byte INTEGER           \n",
       "TUNIT48 = 'd       '           / physical unit of field                         \n",
       "TTYPE49 = 'MJD_spec'           / label for field  49                            \n",
       "TFORM49 = 'J       '           / data format of field: 4-byte INTEGER           \n",
       "TUNIT49 = 'd       '           / physical unit of field                         \n",
       "TTYPE50 = 'plate   '           / label for field  50                            \n",
       "TFORM50 = 'I       '           / data format of field: 2-byte INTEGER           \n",
       "TTYPE51 = 'fiberid '           / label for field  51                            \n",
       "TFORM51 = 'I       '           / data format of field: 2-byte INTEGER           \n",
       "TTYPE52 = 'object_name'        / label for field  52                            \n",
       "TFORM52 = '25A     '           / data format of field: ASCII Character          \n",
       "COMMENT SDSSName        DR1 Object Name                                         \n",
       "COMMENT                 hhmmss.ss+ddmmss.s  (J2000; truncated coordinates)      \n",
       "COMMENT                 see http://www.sdss.org/DR1/coverage/IAU.html           \n",
       "COMMENT RA,DEC          J2000 coordinates                                       \n",
       "COMMENT z               Redshift                                                \n",
       "COMMENT source          0 = DR1 Standard Quasar    1 = Unusual Object Search    \n",
       "COMMENT PSFmag          asinhmag: Lupton, Gunn, and Szalay 1999, AJ, 118, 1406  \n",
       "COMMENT                 SDSS photometry is on AB to better than 10%             \n",
       "COMMENT                 AB: Oke and Gunn 1983, ApJ, 266, 713                    \n",
       "COMMENT                 see http://www.sdss.org/DR1/algorithms/fluxcal.html     \n",
       "COMMENT A_u             Galactic absorption in u band (magnitudes)              \n",
       "COMMENT                 A_g, A_r, A_i, A_z = 0.736, 0.534, 0.405, 0.287 x A_u   \n",
       "COMMENT FIRSTmag        FIRST Peak flux density (AB mag) at 20 cm               \n",
       "COMMENT                 AB mag = -2.5 log_10(f_nu / 3631 Jy)                    \n",
       "COMMENT                 0 ==> no detection    -1 ==> not in FIRST survey area   \n",
       "COMMENT lg_RASS_rate    log_10 BSC/FSC full band count rate; 0 ==> no detection \n",
       "COMMENT                 ROSAT All Sky Survey Bright and Faint source catalogs   \n",
       "COMMENT TWOMASS         2MASS All-Sky Point Source Catalog 2003 March 25        \n",
       "COMMENT                 Note that 2MASS magnitues are Vega-based, not AB        \n",
       "COMMENT M_i             Uses Ho=70 Omega_M=0.300 Omega_L= 0.700 alpha_Q=-0.50   \n",
       "COMMENT morphology      0 = point source  1 = extended                          \n",
       "COMMENT ts_ver          Target selection version used in plate drilling  1=2.2  \n",
       "COMMENT                 2=2.5  3=2.7 4=2.9  5=2.11  6=2.13.4  7=2.13.1 8=2.13.4b\n",
       "COMMENT                 9=2.13.5  10=2.13.6  11=2.13.7  12=2.13.8  13=3.1.0     \n",
       "COMMENT ts_t_qso etc.   Target selection flags. ts_t columns are for \"TARGET\"   \n",
       "COMMENT ts_b_qso etc.   (data used to select targets). ts_v are for \"BEST\"      \n",
       "COMMENT                 (latest photometry and final target selection version). \n",
       "COMMENT run_best        SDSS Imaging run number for \"BEST\" data                 \n",
       "COMMENT MJD_best        Modified Julian Date of BEST imaging observation        \n",
       "COMMENT MJD_spec        Modified Julian Date of spectroscopic observation       \n",
       "COMMENT object_name     Object Name if previously published                     \n",
       "COMMENT                 \"SDSS\" if previously published SDSS discovery           "
      ]
     },
     "execution_count": 28,
     "metadata": {},
     "output_type": "execute_result"
    }
   ],
   "source": [
    "qhdu[1].header"
   ]
  },
  {
   "cell_type": "code",
   "execution_count": 29,
   "metadata": {},
   "outputs": [
    {
     "data": {
      "text/plain": [
       "Text(0, 0.5, 'Number')"
      ]
     },
     "execution_count": 29,
     "metadata": {},
     "output_type": "execute_result"
    },
    {
     "data": {
      "image/png": "[encoded data removed]",
      "text/plain": [
       "<Figure size 576x432 with 1 Axes>"
      ]
     },
     "metadata": {
      "needs_background": "light"
     },
     "output_type": "display_data"
    }
   ],
   "source": [
    "plt.figure(figsize=(8, 6))\n",
    "num, vals, _ = plt.hist(qhdu[1].data['Z'], bins=20)\n",
    "plt.xlabel(\"Redshift\")\n",
    "plt.ylabel(\"Number\")"
   ]
  },
  {
   "cell_type": "code",
   "execution_count": 30,
   "metadata": {},
   "outputs": [
    {
     "data": {
      "text/plain": [
       "Text(0, 0.5, 'r - i')"
      ]
     },
     "execution_count": 30,
     "metadata": {},
     "output_type": "execute_result"
    },
    {
     "data": {
      "image/png": "[encoded data removed]",
      "text/plain": [
       "<Figure size 576x432 with 1 Axes>"
      ]
     },
     "metadata": {
      "needs_background": "light"
     },
     "output_type": "display_data"
    }
   ],
   "source": [
    "plt.figure(figsize=(8, 6))\n",
    "pmask = qhdu[1].data['psfmagerr_u'] < 0.3\n",
    "pmask = pmask*(qhdu[1].data['psfmagerr_g'] < 0.3)\n",
    "plt.plot( qhdu[1].data['psfmag_u'] - qhdu[1].data['psfmag_g'], \n",
    "         qhdu[1].data['psfmag_r'] - qhdu[1].data['psfmag_i'], '.')\n",
    "plt.xlabel('u - g')\n",
    "plt.ylabel('r - i')"
   ]
  }
 ],
 "metadata": {
  "kernelspec": {
   "display_name": "Python 3",
   "language": "python",
   "name": "python3"
  },
  "language_info": {
   "codemirror_mode": {
    "name": "ipython",
    "version": 3
   },
   "file_extension": ".py",
   "mimetype": "text/x-python",
   "name": "python",
   "nbconvert_exporter": "python",
   "pygments_lexer": "ipython3",
   "version": "3.8.3"
  }
 },
 "nbformat": 4,
 "nbformat_minor": 5
}
