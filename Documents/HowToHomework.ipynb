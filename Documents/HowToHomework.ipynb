{
 "cells": [
  {
   "cell_type": "markdown",
   "id": "ddbc103f-a0a2-4880-810a-ef87380cb309",
   "metadata": {},
   "source": [
    "# Numerical and Statistical Methods in Astrophysics\n",
    "\n",
    "This notebook describes how to access and submit homework for the Ohio State course Astronomy 8824: Numerical and Statistical Methods in Astrophysics. "
   ]
  },
  {
   "cell_type": "markdown",
   "id": "6d8c4a27-c318-43e2-a10b-f5ad4909bbe2",
   "metadata": {},
   "source": [
    "## How to access homework\n",
    "\n",
    "All of the homework assignments are or will be posted in this repository. If you have not yet cloned this repository, go to wherever you would like to store this repository. For example, I created a directory called \"Repos\" in my home directory where I store all of my github repositories:"
   ]
  },
  {
   "cell_type": "raw",
   "id": "8e01e1b3-23e0-43cf-846f-d4fdebc1a963",
   "metadata": {},
   "source": [
    "mkdir ~/Repos\n",
    "cd ~/Repos"
   ]
  },
  {
   "cell_type": "markdown",
   "id": "4bb3a4fd-918d-4552-93da-59873b243f57",
   "metadata": {},
   "source": [
    "Then clone this repository: "
   ]
  },
  {
   "cell_type": "raw",
   "id": "54513d13-c743-4800-9c6d-eacc67c7ea22",
   "metadata": {},
   "source": [
    "git clone https://github.com/paulmartini/NSMA.git"
   ]
  },
  {
   "cell_type": "markdown",
   "id": "c8fd8415-de67-47a4-992b-e5fa217f1eeb",
   "metadata": {},
   "source": [
    "This will create a subdirectory NSMA/. All homework assignments that are ready are in a subdirectory called Homework/ in this repository. \n",
    "\n",
    "When you are ready to work on an assignment, copy it to your personal repository under the class github organization (see below). For example: "
   ]
  },
  {
   "cell_type": "raw",
   "id": "d4317880-8820-4e41-aa00-e3f25ced1f61",
   "metadata": {},
   "source": [
    "cp NSMA/Homework/PS1.NumericalIntegration.ipynb paulmartini/Homework/"
   ]
  },
  {
   "cell_type": "markdown",
   "id": "31865b9f-55dc-462d-8584-a9e61c534d66",
   "metadata": {},
   "source": [
    "and work on the assignment."
   ]
  },
  {
   "cell_type": "markdown",
   "id": "5628c069-d80d-4221-a851-4ad3ec98b03b",
   "metadata": {},
   "source": [
    "## How to submit homework"
   ]
  },
  {
   "cell_type": "markdown",
   "id": "2205fad4-55a0-48b3-84aa-631dd1b401fc",
   "metadata": {},
   "source": [
    "You need two things to submit homework: \n",
    "1. Create a personal repository as part of the class github organization. You only need to do this once for the course. \n",
    "2. Submit (or 'commit' and 'push') your solution to your personal repository. You need to do this after you complete each assignment."
   ]
  },
  {
   "cell_type": "markdown",
   "id": "49dc405e-68db-4a4c-8cb5-c4738954e757",
   "metadata": {},
   "source": [
    "### 1. How to create a personal repository"
   ]
  },
  {
   "cell_type": "markdown",
   "id": "2d13e1cc-5917-46a7-aec0-d6bdb99657b2",
   "metadata": {},
   "source": [
    "Follow [this link](https://github.com/organizations/osu-nsma/repositories/new) to create a new repository. \n",
    "\n",
    "Pay attention to the following details: \n",
    "\n",
    "1. Choose a name for your repository. I'd prefer you to use lastnamefirstname (e.g. martinipaul), although if your github username is sufficiently similar to your name, you may use that too. \n",
    "2. Put your first and last name in the Description. \n",
    "3. Make sure this is a Private (not Public).\n",
    "4. Click \"Add a README file\"\n",
    "\n",
    "Here is an example of how to fill out this page:"
   ]
  },
  {
   "cell_type": "markdown",
   "id": "2164c73e-ec4b-46fd-a85d-e2d468ca0120",
   "metadata": {},
   "source": [
    "<img src=\"newgitrepo.png\">"
   ]
  },
  {
   "cell_type": "markdown",
   "id": "1c377faf-3ee1-4e09-9892-b703368001b4",
   "metadata": {},
   "source": [
    "When you are done, click \"Create repository\" "
   ]
  },
  {
   "cell_type": "markdown",
   "id": "d4ab4c48-7e56-4d1e-b73e-99e685a9887b",
   "metadata": {},
   "source": [
    "### 2. How to submit"
   ]
  },
  {
   "cell_type": "markdown",
   "id": "62f5f6c6-ae7f-48b7-b7b7-cb22cbd284a3",
   "metadata": {},
   "source": [
    "Make sure you already have a copy of the homework assignment in your NMSA/ directory. If you think the assignment was posted (or updated) since you first cloned the repository, navigate to that directory and run git pull. For example, if you put NMSA/ in a Repos/ subdirectory, you would do: "
   ]
  },
  {
   "cell_type": "raw",
   "id": "87fa9af0-22d5-44c4-a9b8-ad470df196fc",
   "metadata": {},
   "source": [
    "cd ~/Repos/NMSA/\n",
    "git pull"
   ]
  },
  {
   "cell_type": "markdown",
   "id": "9b4cb3dc-4f23-42ca-8b94-98a3dc2dbb42",
   "metadata": {},
   "source": [
    "This will ensure you have the latest version where you will work on the assignment. \n",
    "\n",
    "Next, clone the personal repo that you created in step 1:"
   ]
  },
  {
   "cell_type": "raw",
   "id": "ae1fe6a4-98cc-4de8-8041-545d70cccd39",
   "metadata": {},
   "source": [
    "cd ~/Repos/\n",
    "git clone https://github.com/osu-nsma/yourname.git"
   ]
  },
  {
   "cell_type": "markdown",
   "id": "bdfbe8d6-2feb-4dca-965a-cf1b7c57177c",
   "metadata": {},
   "source": [
    "I recommend that you create a Homework subdirectory to store your assignments. Create that subdirectory and then copy the latest assignment to that subdirectory. For example:"
   ]
  },
  {
   "cell_type": "raw",
   "id": "0a14378c-7db3-4c23-a320-760319686a26",
   "metadata": {},
   "source": [
    "cd ~/Repos\n",
    "mkdir yourname/Homework/\n",
    "cp NSMA/Homework/PS1.NumericalIntegration.ipynb yourname/Homework/"
   ]
  },
  {
   "cell_type": "markdown",
   "id": "9396a0e8-ea71-4565-aea9-b294f4560e94",
   "metadata": {},
   "source": [
    "Now navigate to this directory and complete the assignment by adding your solutions to this notebook.\n",
    "\n",
    "When you are done, check that your notebook runs, add this notebook to your repo, commit it, and then push it to github. \n",
    "\n",
    "To check that it runs, use **Kernel $\\rightarrow$ Restart** followed by **Cell $\\rightarrow$ Run All**. \n",
    "\n",
    "Here is how to do that:"
   ]
  },
  {
   "cell_type": "raw",
   "id": "57b3b580-ac38-44b6-b79d-4ce74c830f70",
   "metadata": {},
   "source": [
    "git add yourname/Homework/PS1.NumericalIntegration.ipynb\n",
    "git commit -m 'Submitted'\n",
    "git push"
   ]
  },
  {
   "cell_type": "markdown",
   "id": "5cd698ee-122b-41a2-a8b9-f927da01710a",
   "metadata": {},
   "source": [
    "One of the great values of github is that it is a great place to store work in progress. I therefore encourage you to add, commit, and push your notebook regularly -- such as if you are going to take a break for a while. You can let me know you are not done with commit messages, e.g.: "
   ]
  },
  {
   "cell_type": "raw",
   "id": "9dfbd682-06ad-4e4b-9a2b-47e0a664b87e",
   "metadata": {},
   "source": [
    "git commit -m 'halfway done'"
   ]
  },
  {
   "cell_type": "markdown",
   "id": "accde94d-5782-423f-8884-c2c0b3b37169",
   "metadata": {},
   "source": [
    "etc. So long as you haven't said \"Submitted\" or \"Done\" or something obvious like that, I will assume you are still working on it. \n",
    "\n",
    "Another advantage of committing your in progress work is that this is a great way to share it with me and ask for help. If you are stuck on some part, you can commit your work so far, contact me, and I'll be able to review what you've done. "
   ]
  }
 ],
 "metadata": {
  "kernelspec": {
   "display_name": "Python 3.7-2019.10 [python/3.7-2019.10]",
   "language": "python",
   "name": "sys_python37_2019_10"
  },
  "language_info": {
   "codemirror_mode": {
    "name": "ipython",
    "version": 3
   },
   "file_extension": ".py",
   "mimetype": "text/x-python",
   "name": "python",
   "nbconvert_exporter": "python",
   "pygments_lexer": "ipython3",
   "version": "3.7.4"
  }
 },
 "nbformat": 4,
 "nbformat_minor": 5
}
