{
 "cells": [
  {
   "cell_type": "markdown",
   "metadata": {},
   "source": [
    "# Astronomy 8824 - Numerical and Statistical Methods in Astrophysics\n",
    "\n",
    "## Numerical Methods Topic IV. FFTs and their Applications\n",
    "\n",
    "These notes are for the course Astronomy 8824: Numerical and Statistical Methods in Astrophysics. It is based on notes from David Weinberg with modifications and additions by Paul Martini.\n",
    "David's original notes are available from his website: http://www.astronomy.ohio-state.edu/~dhw/A8824/index.html\n",
    "\n",
    "#### Background reading: \n",
    "- Numerical Recipes Chapers 12 and 13, especially $\\S\\S 12.0-12.2, 13.0-13.2$\n",
    "- _The Fourier Transform And Its Applications_ by Ronald Bracewell"
   ]
  },
  {
   "cell_type": "code",
   "execution_count": 1,
   "metadata": {},
   "outputs": [],
   "source": [
    "import math\n",
    "import numpy as np\n",
    "%matplotlib inline\n",
    "import matplotlib.pyplot as plt\n",
    "import scipy as sp\n",
    "\n",
    "# matplotlib settings \n",
    "SMALL_SIZE = 14\n",
    "MEDIUM_SIZE = 16\n",
    "BIGGER_SIZE = 18\n",
    "\n",
    "plt.rc('font', size=SMALL_SIZE)          # controls default text sizes\n",
    "plt.rc('axes', titlesize=SMALL_SIZE)     # fontsize of the axes title\n",
    "plt.rc('axes', labelsize=BIGGER_SIZE)    # fontsize of the x and y labels\n",
    "plt.rc('lines', linewidth=2)\n",
    "plt.rc('axes', linewidth=2)\n",
    "plt.rc('xtick', labelsize=MEDIUM_SIZE)    # fontsize of the tick labels\n",
    "plt.rc('ytick', labelsize=MEDIUM_SIZE)    # fontsize of the tick labels\n",
    "plt.rc('legend', fontsize=MEDIUM_SIZE)    # legend fontsize\n",
    "plt.rc('figure', titlesize=BIGGER_SIZE)   # fontsize of the figure title"
   ]
  },
  {
   "cell_type": "code",
   "execution_count": 2,
   "metadata": {},
   "outputs": [
    {
     "name": "stdout",
     "output_type": "stream",
     "text": [
      "Requirement already satisfied: pyfftw in /Users/martini.10/anaconda3/lib/python3.8/site-packages (0.12.0)\r\n",
      "Requirement already satisfied: numpy<2.0,>=1.10 in /Users/martini.10/anaconda3/lib/python3.8/site-packages (from pyfftw) (1.19.2)\r\n"
     ]
    }
   ],
   "source": [
    "! pip install pyfftw\n",
    "import pyfftw"
   ]
  },
  {
   "cell_type": "markdown",
   "metadata": {},
   "source": [
    "LaTex macros hidden here -- \n",
    "$\\newcommand{\\expect}[1]{{\\left\\langle #1 \\right\\rangle}}$\n",
    "$\\newcommand{\\intinf}{\\int_{-\\infty}^{\\infty}}$\n",
    "$\\newcommand{\\xbar}{\\overline{x}}$\n",
    "$\\newcommand{\\ybar}{\\overline{y}}$\n",
    "$\\newcommand{\\like}{{\\cal L}}$\n",
    "$\\newcommand{\\llike}{{\\rm ln}{\\cal L}}$\n",
    "$\\newcommand{\\xhat}{\\hat{x}}$\n",
    "$\\newcommand{\\yhat}{\\hat{y}}$\n",
    "$\\newcommand{\\xhati}{\\hat{x}_i}$\n",
    "$\\newcommand{\\yhati}{\\hat{y}_i}$\n",
    "$\\newcommand{\\sigxi}{\\sigma_{x,i}}$\n",
    "$\\newcommand{\\sigyi}{\\sigma_{y,i}}$\n",
    "$\\newcommand{\\cij}{C_{ij}}$\n",
    "$\\newcommand{\\cinvij}{C^{-1}_{ij}}$\n",
    "$\\newcommand{\\cinvkl}{C^{-1}_{kl}}$\n",
    "$\\newcommand{\\cinvmn}{C^{-1}_{mn}}$\n",
    "$\\newcommand{\\valpha}{\\vec \\alpha}$\n",
    "$\\newcommand{\\vth}{\\vec \\theta}$\n",
    "$\\newcommand{\\ymod}{y_{\\rm mod}}$\n",
    "$\\newcommand{\\dy}{\\Delta y}$\n",
    "$\\newcommand{tphi}{\\widetilde{\\phi}}$\n",
    "$\\newcommand{\\trho}{\\widetilde{\\rho}}$\n"
   ]
  },
  {
   "cell_type": "markdown",
   "metadata": {},
   "source": [
    "### Introduction and Motivation\n",
    "\n",
    "Fourier Transforms are typically applied to two classes of problems: 1) As a useful computational tool, e.g. for N-body calculations; 2) As an analysis tool, e.g. to identify periodic signals. \n",
    "\n",
    "Physical descriptions are sometimes more natural in the Fourier domain, such as the distribution of density fluctuations, the characterization of turbulence, and the behaviour of variable objects.\n",
    "\n",
    "Some mathematical operations are easier in the Fourier domain, or it may be possible to apply an approximate solution to modes of long or short wavelength. Examples are (de)convolution, correlation, optimal filtering, power spectrum analysis, computation of Fourier integrals, and solving some differential equations. \n",
    "\n",
    "Periodic signals are often interesting. Fourier Transforms can be an efficient way to look for them.\n",
    "\n",
    "Some numerical operations can be done _much_ faster via Fast Fourier Transform if the number of data points $N$ is large.\n",
    "\n",
    "For example, convolution is an operation $O(N^2)$ if done directly for two functions of length $N$.  (Sometimes the response function is much shorter than the function being convolved, in which case the scaling is only $O(N_{\\rm data}N_{\\rm response})$.)\n",
    "\n",
    "But the FFT can be computed in $O(N \\log_2 N)$ time, which may be orders-of-magnitude less.\n"
   ]
  },
  {
   "cell_type": "markdown",
   "metadata": {},
   "source": [
    "### Definitions and Notation\n",
    "\n",
    "I will mostly use the NR notation, but not always.\n",
    "\n",
    "If $h(t)$ is a function of time, then its Fourier transform is\n",
    "$$\n",
    "H(f) = \\int_{-\\infty}^\\infty h(t) e^{2\\pi ift}dt.\n",
    "$$\n",
    "We can recover $h(t)$ from $H(f)$ by applying an inverse\n",
    "Fourier transform,\n",
    "$$\n",
    "h(t) = \\int_{-\\infty}^\\infty H(f) e^{-2\\pi ift} df,\n",
    "$$\n",
    "i.e., just change the sign in the exponent. \n",
    "\n",
    "If $t$ is a time in sec, then $f$ is a frequency in sec$^{-1}$ (Hz).\n",
    "\n",
    "It is useful to think of an FT as a linear operation on a function, and that $h(t)$ and $H(f)$ are two representations of the same function. \n",
    "\n",
    "Another common notation is to write the FT of $f(x)$ as\n",
    "$$\n",
    "\\tilde{f}(k) = \\int_{-\\infty}^\\infty f(x) e^{2\\pi ikx}dx.\n",
    "$$\n",
    "This is common when $x$ is a unit of length, in which case \n",
    "the wavenumber $k$ has units of inverse length.\n",
    "\n",
    "_Caution_: Other Fourier conventions are frequently used,\n",
    "such as\n",
    "$$\n",
    "H(\\omega) = \\int_{-\\infty}^\\infty h(t) e^{i\\omega t}dt, \\qquad\n",
    "h(t) = {1 \\over 2\\pi} \\int_{-\\infty}^\\infty H(\\omega) e^{-i\\omega t}dt.\n",
    "$$\n",
    "\n",
    "The NR convention ($2\\pi$ in the exponent) is standard for numerical\n",
    "FTs, and it leaves you with less to remember.\n",
    "\n",
    "However, you always have to check Fourier conventions when \n",
    "comparing to or using papers or books, and figuring out the\n",
    "conversions can be a pain.\n",
    "\n",
    "If you use Fourier transforms in a paper, make clear what convention\n",
    "you are using.\n"
   ]
  },
  {
   "cell_type": "markdown",
   "metadata": {},
   "source": [
    "### Decomposition and Identities\n",
    "\n",
    "Recall that $e^{2\\pi i ft} = \\cos(2\\pi ft) + i\\sin(2\\pi ft)$.\n",
    "\n",
    "The FT relation expresses a decomposition of the function $h(t)$ into a sum (integral in the continuous case) of sinusoidal functions.\n",
    "\n",
    "The sinusoidal basis is complete and orthogonal.  Any function can be decomposed this way, and different modes are independent, in that, for positive integers $m$, $n$:\n",
    "$$\\eqalign{\n",
    "\\int_{-\\pi}^\\pi \\cos nx\\cos mx dx &= \\pi \\delta_{mn}, \\cr\n",
    "\\int_{-\\pi}^\\pi \\sin nx\\sin mx dx &= \\pi \\delta_{mn}, \\cr\n",
    "\\int_{-\\pi}^\\pi \\cos nx\\sin mx dx &= 0.\n",
    "}\n",
    "$$\n",
    "\n",
    "In general, a FT maps a complex function into another complex function.\n",
    "\n",
    "If $h(t)$ is real, then\n",
    "$$\n",
    "H(f) = \\int_{-\\infty}^\\infty \\cos(2\\pi ft) \\,h(t) dt + \n",
    "       i \\int_{-\\infty}^\\infty \\sin(2\\pi ft)\\, h(t) dt\n",
    "$$\n",
    "is Hermitian, $H(f) = [H(-f)]^*$, because cosine is an even function and sine is an odd function. (Reminder: an even function is one where $f(t) = f(-t)$ and an odd function is one where $g(t) = -g(-t)$.)  \n",
    "\n",
    "A Hermition Matrix is a complex, square matrix that is equal to its own conjugate transform. That is: $a_{ij} = \\bar{a_{ji}}$ or $A = \\bar{A^T}$. They are the complex extension of real, symetric matrices, and both always have real eigenvalues. \n",
    "\n",
    "If $h(t)$ is real and symmetric about zero then $H(f)$ is real (see NR for other symmetries). Symmetries can be useful because in some cases they may be used to improve computational efficiency.\n",
    "\n",
    "\n",
    "#### Other useful identities:\n",
    "\n",
    "If $h(t)$ and $H(f)$ are an FT pair then\n",
    "$$\\eqalign{\n",
    "h(at)~ \\hbox{is a Fourier transform pair with}~ {1\\over|a|} H(f/a) ~  \\mathrm{- (this\\,is\\,time\\,scaling)} \\cr\n",
    "\\frac{1}{|b|} h(t/b) ~ \\hbox{is a Fourier transform pair with}~ H(bf) ~ \\mathrm{- (this\\,is\\,frequency\\,scaling)}\n",
    "}$$\n",
    "If a function is narrow in the time domain, then its Fourier transform is broad in the frequency domain, and vice versa.\n",
    "\n",
    "For example (a useful one), with our Fourier convention, the FT of a time-domain Gaussian $e^{-t^2/2\\sigma_t^2}$ is a frequency-domain Gaussian $e^{-2\\pi^2\\sigma_t^2 f^2} = e^{-f^2/2\\sigma_f^2}$ with $\\sigma_f=1/(2\\pi\\sigma_t)$.\n",
    "\n",
    "With the $H(\\omega)$ convention, $\\sigma_\\omega=1/\\sigma_t$.\n",
    "\n",
    "A shift of origin in the time domain is equivalent to shifting the complex phase in the Fourier domain,\n",
    "$$\n",
    "h(t-t_0)~ \\hbox{is a Fourier transform pair with}~ H(f)e^{2\\pi i ft_0}.\n",
    "$$\n",
    "\n",
    "The FT is a linear operation, so the FT of a linear combination of functions is the linear combination of their FTs."
   ]
  },
  {
   "cell_type": "markdown",
   "metadata": {},
   "source": [
    "### The Convolution Theorem\n",
    "\n",
    "The convolution of two functions $g$ and $h$ is\n",
    "$$\n",
    "f(t) = g * h \\equiv \\int_{-\\infty}^\\infty g(\\tau)h(t-\\tau)d\\tau.\n",
    "$$\n",
    "\n",
    "The FT of $g * h$ is $G(f) H(f)$, i.e., the Fourier transform of the convolution is the product of the Fourier transforms. "
   ]
  },
  {
   "cell_type": "markdown",
   "metadata": {},
   "source": [
    "### The Correlation Theorem\n",
    "The correlation of two functions $g$ and $h$ is\n",
    "$$\n",
    "\\mathrm{Corr} (g,h) \\equiv \\int_{-\\infty}^\\infty g^*(t)h(t+\\tau)dt\n",
    "$$\n",
    "where $g^*(t)$ is the complex conjugate of $g(t)$ and $\\tau$ is often called the lag. \n",
    "\n",
    "The FT of Corr($g,h$) is $G^*(f)H(f)$. In other words, multiplying the FT of a function by the complex conjugate of the FT of the other function is equal to their correlation.\n",
    "\n",
    "Reminder that the complex conjugate of a complex number is another complex number with the opposite sign on the imaginary component, e.g. the complex conjugate of $5 + 3i$ is $5 - 3i$. "
   ]
  },
  {
   "cell_type": "markdown",
   "metadata": {},
   "source": [
    "### Nyquist frequency, aliasing\n",
    "\n",
    "If a function is tabulated at discrete, evenly spaced locations with separation $\\Delta$, then the highest frequency Fourier component that can be represented is one with critical frequency\n",
    "$$\n",
    "f_c = {1\\over 2\\Delta},\n",
    "$$\n",
    "known as the Nyquist frequency. For example, $\\Delta$ could refer to discrete spatial or temporal samples of the signal.\n",
    "\n",
    "A Nyquist frequency sine wave is sampled with two points per cycle.\n",
    "\n",
    "If the function $h(t)$ is _bandwidth limited_, with the amplitude of all Fourier modes with $f > f_c$ equal to zero, then the sampled values at spacing $\\Delta$ are enough to compute $h(t)$ exactly at any point using sinc interpolation (NR eq. 12.1.3).\n",
    "\n",
    "$$\n",
    "h(t) = \\Delta \\sum^{\\infty}_{n=-\\infty} h_n \\frac{\\sin [2 \\pi f_c(t - n\\Delta)]}{\\pi (t - n\\Delta) }\n",
    "$$\n",
    "\n",
    "This is a remarkable fact, and a useful one, e.g., for reconstructing a time series or shifting images to register\n",
    "them _IF_ the PSF is fully sampled. This says that _all_ of the information content of a bandwidth-limited signal represented in this way. \n",
    "\n",
    "However, if it has power at $f>f_c$, then that power will spuriously contaminate Fourier modes with $f < f_c$.\n",
    "\n",
    "This is known as aliasing.  "
   ]
  },
  {
   "cell_type": "markdown",
   "metadata": {},
   "source": [
    "### The One Dimensional Fast Fourier Transform\n",
    "\n",
    "Suppose that we have a function $h(t)$ tabulated on a grid of $N$ evenly spaced values.\n",
    "\n",
    "$$ \n",
    "H(f_n) = \\int^{\\infty}_{-\\infty} h(t) \\e^{2 \\pi i f_n t} dt \\approx \n",
    "\\Delta \\sum^{N-1}_{k=0} h_k \\e^{2 \\pi i f_n t_k} \n",
    "$$\n",
    "\n",
    "An FFT is an efficient algorithm for computing the _discrete Fourier transform_, the sum\n",
    "$$\n",
    "H_n \\equiv \\sum_{k=0}^{N-1} h_k e^{2\\pi i \\, kn/N},\n",
    "$$\n",
    "for all values $n=-N/2$ to $N/2$. The relation of the discrete to the continuous FT can be viewed as samples of the continuous function.\n",
    "\n",
    "In this notation, $k$ is indexing time or position values; $n$ represents frequency or wavenumber.\n",
    "\n",
    "Naively, it looks like computing this for all $n$ should be an $O(N^2)$ operation.\n",
    "\n",
    "The FFT uses the fact that a discrete Fourier transform of length $N$ can be written as a sum of two discrete Fourier transforms of length $N/2$.\n",
    "\n",
    "This rule can be applied recursively to turn computing the Fourier transform into an $O(N\\log_2 N)$ operation, vastly more efficient.\n",
    "\n",
    "In practice, instead of $n$ running from $-N/2$ to $N/2$, it runs from 0 to $N-1$.  The 0 value represents zero frequency $n=0$, the values $1 \\leq n \\leq N/2-1$ correspond to frequencies $0 < f < f_c$, the values $N/2+1 \\leq n \\leq N-1$ correspond to $-f_c < f < 0$, and the value $n=N/2$ corresponds to both $f=f_c$ and $f=-f_c$.  \n",
    "\n",
    "Here $f_c = N/2$ is the critical or Nyquist frequency, the maximum frequency that can be represented by $N$ evenly spaced values of the function.\n",
    "\n",
    "From the above equation, one can see that for $n=N/2$\n",
    "$$\n",
    "H_n = \\sum h_k \\left(e^{i\\pi}\\right)^k = \\sum h_k (-1)^k \n",
    "    = \\sum h_k \\left(e^{-i\\pi}\\right)^k = H_{-n}.\n",
    "$$\n",
    "\n",
    "The discrete inverse Fourier transform is \n",
    "$$\n",
    "h_k = {1 \\over N} \\sum_{n=0}^{N-1} H_ne^{-2\\pi i \\,kn/N}.\n",
    "$$\n",
    "A forward transform followed by an inverse transform returns the original data values $h_k$.\n",
    "\n",
    "Some FFTs have a different normalization convention, so that there is no $1/N$ and a forward-then-inverse transform returns the original values multiplied by $N$. \n",
    "\n",
    "In general, be careful about normalization issues and about which order the data are stored in.  You will typically need to do some experimentation to make sure you have everything right."
   ]
  },
  {
   "cell_type": "markdown",
   "metadata": {},
   "source": [
    "### One-Dimensional Real-Valued FFT\n",
    "\n",
    "An FFT transforms an array of complex numbers to another array of complex numbers.\n",
    "\n",
    "If you want to Fourier transform an array of real numbers, you can just set the imaginary parts to zero before applying a regular FFT.\n",
    "\n",
    "The outputs will be complex numbers, but they will satisfy the _Hermitian_ condition $H(f) = H^*(-f)$, so they still contain only $N$ pieces of information.\n",
    "\n",
    "This strategy is fine if you are not strained for CPU time or memory, but it is clearly wasting some calculational energy, and it requires your array to be twice as long as it really needs to be.\n",
    "\n",
    "A real-to-complex FFT routine takes a real array and returns the independent values of the Fourier transform.\n",
    "\n",
    "This is especially valuable when you get to multi-dimensional FFTs, whose storage requirements scale as $N^{n_{\\rm dim}}$."
   ]
  },
  {
   "cell_type": "markdown",
   "metadata": {},
   "source": [
    "### Example usages of np.fft"
   ]
  },
  {
   "cell_type": "code",
   "execution_count": 3,
   "metadata": {},
   "outputs": [
    {
     "name": "stdout",
     "output_type": "stream",
     "text": [
      "x =  [0.99559818 0.62341091 0.87609369 0.88937786 0.38676248 0.6899199\n",
      " 0.99285255 0.46804209]\n",
      "y =  [ 5.92205765+0.j          0.26387737-0.13414157j -0.48658558+0.04408914j\n",
      "  0.95379404-0.36765929j  0.58055615+0.j          0.95379404+0.36765929j\n",
      " -0.48658558-0.04408914j  0.26387737+0.13414157j]\n",
      "z =  [0.99559818+0.j 0.62341091+0.j 0.87609369+0.j 0.88937786+0.j\n",
      " 0.38676248+0.j 0.6899199 +0.j 0.99285255+0.j 0.46804209+0.j]\n",
      "\n",
      "\n",
      "Note that while x is a real array, its FT y is complex. The FT of y is z. It is also complex, although with zero imaginary values.\n",
      "To just keep the real input, you may use np.fft.rfft() and np.fft.irfft() \n",
      "y =  [ 5.92205765+0.j          0.26387737-0.13414157j -0.48658558+0.04408914j\n",
      "  0.95379404-0.36765929j  0.58055615+0.j        ]\n",
      "z =  [0.99559818 0.62341091 0.87609369 0.88937786 0.38676248 0.6899199\n",
      " 0.99285255 0.46804209]\n"
     ]
    }
   ],
   "source": [
    "np.random.seed(1216)\n",
    "x=np.random.random(8)\n",
    "print(\"x = \", x)\n",
    "y=np.fft.fft(x)\n",
    "print(\"y = \", y)\n",
    "z=np.fft.ifft(y)\n",
    "print(\"z = \", z)\n",
    "print(\"\\n\")\n",
    "print(\"Note that while x is a real array, its FT y is complex. The FT of y is z. It is also complex, although with zero imaginary values.\")\n",
    "\n",
    "print(\"To just keep the real input, you may use np.fft.rfft() and np.fft.irfft() \")\n",
    "y=np.fft.rfft(x)\n",
    "print(\"y = \", y)\n",
    "z=np.fft.irfft(y)\n",
    "print(\"z = \", z)"
   ]
  },
  {
   "cell_type": "markdown",
   "metadata": {},
   "source": [
    "### Multi-dimensional FFT\n",
    "\n",
    "A 2-dimensional FFT is\n",
    "$$\n",
    "H(n_1,n_2) \\equiv \\sum_{k_2=0}^{N_2-1}\n",
    "                  \\sum_{k_1=0}^{N_1-1}\n",
    "\t\t  e^{2\\pi i \\,k_2 n_2/N_2}\n",
    "\t\t  e^{2\\pi i \\,k_1 n_1/N_1}\n",
    "\t\t  h(k_1,k_2).\n",
    "$$\n",
    "\n",
    "N-dimensional FFTs can be computed by repeated applications of 1-d FFTs, with a fair amount of bookkeeping.\n",
    "\n",
    "It is generally easiest to use a routine specifically written for multi-dimensional FFTs.\n",
    "\n",
    "If you are starting with a real array, you should try to use a real-to-complex routine to save memory.\n",
    "\n",
    "Pay careful attention to how the data are stored --- this may be different from one routine to another, and it is the\n",
    "trickiest thing to figure out."
   ]
  },
  {
   "cell_type": "markdown",
   "metadata": {},
   "source": [
    "### Calculating gravitational accelerations by FFT\n",
    "\n",
    "Computing gravitational potentials is an interesting special case of convolution.\n",
    "\n",
    "Suppose we want to compute the gravitational forces in a system of $N$ bodies, where $N$ might be very large (for example $10^6-10^9$) to represent a galaxy or a large cosmological volume.\n",
    "\n",
    "A naive calculation of\n",
    "$$\n",
    "\\vec a_j = \\sum_{i=1}^N - {Gm_i \\vec r_{ij} \\over r_{ij}^3}\n",
    "$$\n",
    "is $O(N^2)$ for $N$ particles.\n",
    "\n",
    "Impossible to do large $N$.  Need more efficient method.\n",
    "\n",
    "One approach:\n",
    "\n",
    "$$\\eqalign{\n",
    "\\nabla^2\\phi(\\vec r) &= 4\\pi G\\rho(\\vec r) \\cr\n",
    "\\phi(\\vec r) &= \\int \\tphi (\\vec k) e^{-2\\pi i \\vec k \\cdot \\vec r} d^3k,\n",
    "}\n",
    "$$\n",
    "where\n",
    "$$\n",
    "\\tphi(\\vec k) = \\int \\phi (\\vec r) e^{2\\pi i \\vec k \\cdot \\vec r} d^3r \n",
    "$$ \n",
    "is the Fourier transform of $\\phi$.\n",
    "\n",
    "$$\\eqalign{\n",
    "\\vec\\nabla\\phi &= -2\\pi i\\vec k\\int\\tphi(\\vec k)e^{-2\\pi i\\vec k\\cdot\\vec r}d^3k \\cr\n",
    "\\nabla^2\\phi &= -4\\pi^2 k^2 \\int\\tphi(\\vec k)e^{-2\\pi i\\vec k\\cdot\\vec r}d^3k.\n",
    "}\n",
    "$$\n",
    "\n",
    "Hence $4\\pi G\\rho(r) = \\nabla^2\\phi(r)$ implies\n",
    "$$\n",
    "4\\pi G\\ \\int \\trho (\\vec k) e^{-2\\pi i \\vec k\\cdot\\vec r} d^3k = \n",
    "-4\\pi^2 k^2 \\int\\tphi(\\vec k)e^{-2\\pi i\\vec k\\cdot\\vec r}d^3k,\n",
    "$$\n",
    "implying\n",
    "$$\n",
    "\\tphi(\\vec k) = -{G \\over \\pi k^2}\\trho(\\vec k).\n",
    "$$\n",
    "\n",
    "This can be a very efficient means of computing the gravitational potential because of numerically efficient Fourier transform routines.\n",
    "\n",
    "#### Basic scheme:\n",
    "\n",
    "Compute $\\rho(x,y,z)$ on grid from particle distribution by interpolation.\n",
    "\n",
    "Compute $\\trho(k_x,k_y,k_z)$ by FFT, then $\\tphi$ from above equation.\n",
    "\n",
    "Inverse FFT to get $\\phi(x,y,z)$.  \n",
    "\n",
    "Numerically differentiate $\\phi(x,y,z)$ to get accelerations.\n",
    "\n",
    "There are various subtleties about how to do the differentiation, and about the best choice of \"Green's function\"\n",
    "(which may not be simply $1/k^2$).\n",
    "\n",
    "Forces are automatically softened (relative to $1/r^2$) on the scale of grid cell.\n",
    "\n",
    "If this is adequate force resolution, then the FFT method is very efficient.\n",
    "\n",
    "The FFT method naturally imposes a periodic boundary condition, which is sometimes desirable (e.g., a cosmological volume) and sometimes not (e.g., a galaxy merger)."
   ]
  },
  {
   "cell_type": "markdown",
   "metadata": {},
   "source": [
    "### FFTW\n",
    "\n",
    "The best library of routines for high-performance FFTs is probably `FFTW`, \"The Fastest Fourier Transform in the West,\" freely available from www.fftw.org.\n",
    "\n",
    "The FFTW routines analyze your machine to decide what algorithm will actually run fastest on your available hardware.\n",
    "\n",
    "Equally important, the library includes multi-dimensional FFTs, real-to-complex FFTs, and works with any dimension of\n",
    "array, not just powers of 2.  \n",
    "\n",
    "You will probably get the best performance if you use array sizes that are multiples of powers of 2, 3, and 5.\n",
    "\n",
    "There is a `pyFFTW` package that is a pythonic wrapper around FFWT such that they are called like the `numpy.fft` routines.\n",
    "\n",
    "If you're working in python and want higher performance code, it is worthwhile to use `pyFFTW`. If not, the numpy or scipy implementations are straightforward and should already be available by default. In some tests I ran, I found the scipy implementation is actually almost as good as pyFFTW. Note also that performance differences are not too meaningful for small arrays. \n",
    "\n",
    "If you're working in C or Fortran, you may want to simply use the FFTW routines."
   ]
  },
  {
   "cell_type": "markdown",
   "metadata": {},
   "source": [
    "### Example usage and performance comparison of np.fft, sp.fftp, and FFTW\n",
    "\n",
    "For a short intro and tutorial on pyFFTW see: https://hgomersall.github.io/pyFFTW/"
   ]
  },
  {
   "cell_type": "code",
   "execution_count": 4,
   "metadata": {},
   "outputs": [
    {
     "name": "stdout",
     "output_type": "stream",
     "text": [
      "3.26 ms ± 15.6 µs per loop (mean ± std. dev. of 5 runs, 256 loops each)\n"
     ]
    }
   ],
   "source": [
    "# Create a random array for testing\n",
    "np.random.seed(1216)\n",
    "N = 2**18\n",
    "vec = np.random.random(size=(N)).astype('float32')\n",
    "\n",
    "%timeit -r 5 -n 256 np.fft.rfft(vec)"
   ]
  },
  {
   "cell_type": "code",
   "execution_count": 5,
   "metadata": {},
   "outputs": [
    {
     "name": "stdout",
     "output_type": "stream",
     "text": [
      "2.12 ms ± 188 µs per loop (mean ± std. dev. of 5 runs, 256 loops each)\n"
     ]
    }
   ],
   "source": [
    "# Compute the FFT with scipy \n",
    "%timeit -r 5 -n 256 sp.fft.rfft(vec)"
   ]
  },
  {
   "cell_type": "code",
   "execution_count": 6,
   "metadata": {},
   "outputs": [
    {
     "name": "stdout",
     "output_type": "stream",
     "text": [
      "1.66 ms ± 74.6 µs per loop (mean ± std. dev. of 5 runs, 256 loops each)\n"
     ]
    }
   ],
   "source": [
    "pyvec = pyfftw.byte_align(vec, dtype=vec.dtype)\n",
    "%timeit  -r 5 -n 256 pyfftw.interfaces.numpy_fft.rfft(pyvec)"
   ]
  },
  {
   "cell_type": "code",
   "execution_count": null,
   "metadata": {},
   "outputs": [],
   "source": []
  }
 ],
 "metadata": {
  "kernelspec": {
   "display_name": "Python 3",
   "language": "python",
   "name": "python3"
  },
  "language_info": {
   "codemirror_mode": {
    "name": "ipython",
    "version": 3
   },
   "file_extension": ".py",
   "mimetype": "text/x-python",
   "name": "python",
   "nbconvert_exporter": "python",
   "pygments_lexer": "ipython3",
   "version": "3.8.3"
  }
 },
 "nbformat": 4,
 "nbformat_minor": 4
}
