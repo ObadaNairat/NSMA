{
 "cells": [
  {
   "cell_type": "markdown",
   "metadata": {},
   "source": [
    "# Astronomy 8824 - Numerical and Statistical Methods in Astrophysics\n",
    "\n",
    "## Numerical Methods Topic I. Integration\n",
    "\n",
    "These notes are for the course Astronomy 8824: Numerical and Statistical Methods in Astrophysics. It is based on notes from David Weinberg with modifications and additions by Paul Martini.\n",
    "David's original notes are available from his website: http://www.astronomy.ohio-state.edu/~dhw/A8824/index.html\n",
    "\n",
    "#### Background reading: \n",
    "- Numerical Recipes, Chapter 4"
   ]
  },
  {
   "cell_type": "markdown",
   "metadata": {},
   "source": [
    "LaTex macros hidden here -- \n",
    "$\\newcommand{\\half}{{\\textstyle{1\\over2}}}$\n",
    "$\\newcommand{\\third}{{\\textstyle{1\\over3}}}$\n",
    "$\\newcommand{\\twothird}{{\\textstyle{2\\over3}}}$\n",
    "$\\newcommand{\\fourthird}{{\\textstyle{4\\over3}}}$"
   ]
  },
  {
   "cell_type": "code",
   "execution_count": 1,
   "metadata": {},
   "outputs": [],
   "source": [
    "import math\n",
    "import numpy as np\n",
    "%matplotlib inline\n",
    "import matplotlib.pyplot as plt\n",
    "\n",
    "# matplotlib settings \n",
    "SMALL_SIZE = 14\n",
    "MEDIUM_SIZE = 16\n",
    "BIGGER_SIZE = 18\n",
    "\n",
    "plt.rc('font', size=SMALL_SIZE)          # controls default text sizes\n",
    "plt.rc('axes', titlesize=SMALL_SIZE)     # fontsize of the axes title\n",
    "plt.rc('axes', labelsize=BIGGER_SIZE)    # fontsize of the x and y labels\n",
    "plt.rc('lines', linewidth=2)\n",
    "plt.rc('axes', linewidth=2)\n",
    "plt.rc('xtick', labelsize=MEDIUM_SIZE)    # fontsize of the tick labels\n",
    "plt.rc('ytick', labelsize=MEDIUM_SIZE)    # fontsize of the tick labels\n",
    "plt.rc('legend', fontsize=MEDIUM_SIZE)    # legend fontsize\n",
    "plt.rc('figure', titlesize=BIGGER_SIZE)   # fontsize of the figure title"
   ]
  },
  {
   "cell_type": "markdown",
   "metadata": {},
   "source": [
    "### Numerical Integration and Quadrature\n",
    "\n",
    "The term quadrature in mathematics refers to the determination of the area. This dates to ancient times, when mathematicians treated the determination of the area as equivalent to the construction of a square of the same area. As integration determines the area under a curve, quadrature is still used as a term for numerical integration.\n",
    "\n",
    "Numerical integration is a great tool for several circumstances. One is obviously integrals that can not be solved analytically. Yet sometimes they are the best solution for integrals that do have analytic solutions. For example, if the analytic solution is a special function, or is represented by an infinite series. "
   ]
  },
  {
   "cell_type": "markdown",
   "metadata": {},
   "source": [
    "### Connection to Differentiation\n",
    "\n",
    "The solution of integrals and the solution of derivatives have deep connections, and the numerical methods to solve both integrals and differential equations are very similar. And in some cases, methods for numerical integration may be used to solve differential equations (and vice versa). \n",
    "\n",
    "To see this, consider that the solution of \n",
    "$$\n",
    "I=\\int_a^b f(x) dx.\n",
    "$$\n",
    "is equivalent to solving the ordinary differential equation\n",
    "$$\n",
    "{dy \\over dx} = f(x)\n",
    "$$\n",
    "with boundary condition $y(a)=0$ for $y(b)$.\n",
    "\n",
    "\n",
    "Here is a simple example\n",
    "$$\n",
    "f(x) = m x + c\n",
    "$$\n",
    "\n",
    "$$\n",
    "I = \\int^b_a f(x) dx = \\int^b_a (m x + c) dx = \\half m x^2 + c x |^b_a\n",
    "$$\n",
    "and compare this to  $I \\equiv y(b)$ when $y(a) = 0$. In this case:\n",
    "$$\n",
    "{dy \\over dx} = f(x) = m x + c\n",
    "$$\n",
    "$$\n",
    "y = \\int {dy \\over dx} dx = \\int (m x + c) dx = \\half m x^2 + cx\n",
    "$$\n",
    "If the boundary condition $y(a) = 0$, then \n",
    "$$\n",
    "y(b) = \\half m b^2 + c b = I.\n",
    "$$ \n"
   ]
  },
  {
   "cell_type": "markdown",
   "metadata": {},
   "source": [
    "#### Euler Method\n",
    "\n",
    "The simplest method is the Euler Method: \n",
    "$$\n",
    "S^{Eul}_N = \\sum_{i=1}^{N} f(x_i) h_N,\n",
    "$$\n",
    "where $N$ is the number of (equal-sized) integration steps and\n",
    "$$\n",
    "h_N = {b-a \\over N},\\qquad x_i = a + (i-1)h_N.\n",
    "$$\n",
    "\n",
    "This is a bad method. The error per step is $O(h^2)$ and the error of the integral is $O(h)$.  It can drift systematically from the correct result.\n",
    "\n",
    "Here is a geometric example for the simple function \n",
    "$$\n",
    "I = \\int^5_1 x^2 dx\n",
    "$$ \n",
    "where we know the exact solution is \n",
    "$$\n",
    "F(x) = {x^3 \\over 3} |^5_1 = {125 \\over 3} - {1 \\over 3} = 41.33333\n",
    "$$"
   ]
  },
  {
   "cell_type": "code",
   "execution_count": 2,
   "metadata": {},
   "outputs": [
    {
     "name": "stdout",
     "output_type": "stream",
     "text": [
      "Euler method evaluation with 4 steps finds I = 30.0000\n"
     ]
    },
    {
     "data": {
      "text/plain": [
       "Text(0, 0.5, 'Y')"
      ]
     },
     "execution_count": 2,
     "metadata": {},
     "output_type": "execute_result"
    },
    {
     "data": {
      "image/png": "[encoded data removed]",
      "text/plain": [
       "<Figure size 432x288 with 1 Axes>"
      ]
     },
     "metadata": {
      "needs_background": "light"
     },
     "output_type": "display_data"
    }
   ],
   "source": [
    "def func(x):\n",
    "    return x*x\n",
    "\n",
    "a = 1\n",
    "b = 5\n",
    "\n",
    "# Smooth plot\n",
    "xs = np.linspace(a, b, 50)\n",
    "ys = func(xs)\n",
    "\n",
    "# Euler with 4 steps\n",
    "nstep = 4\n",
    "hstep = (b-a)/nstep\n",
    "x = np.linspace(a, b-hstep, nstep)\n",
    "y = func(x)\n",
    "print(\"Euler method evaluation with {} steps finds I = {:.4f}\".format(nstep, np.sum(y)*hstep))\n",
    "\n",
    "# Plot\n",
    "plt.plot(xs, ys, 'k')\n",
    "plt.plot(x, y, 'bo')\n",
    "plt.bar(x, y, width=hstep, align='edge', ecolor='blue', alpha=.5)\n",
    "plt.xlabel(\"X\")\n",
    "plt.ylabel(\"Y\")"
   ]
  },
  {
   "cell_type": "markdown",
   "metadata": {},
   "source": [
    "The Euler method is summing the filled area, and clearly this is not working well. It is particularly egregious for this case, where the function is monotonically increasing. "
   ]
  },
  {
   "cell_type": "markdown",
   "metadata": {},
   "source": [
    "### Newton-Cotes formulas\n",
    "\n",
    "Newton-Cotes formulas are a class of formulas for numerical integration that involve the evaluation of the function at equally spaced points or abscissas (\"x\" coordinate, as opposed to the \"y\" coordinate or ordinate). These are split into two varieties: closed formulas that include the end points of the integral, and open formulas that do not. They are named after Isaac Newton and Roger Cotes. \n"
   ]
  },
  {
   "cell_type": "markdown",
   "metadata": {},
   "source": [
    "#### Trapezoidal Rule\n",
    "\n",
    "\n",
    "The Trapezoidal Rule is: \n",
    "$$\n",
    "\\int^{x_2}_{x_1} f(x) dx = \\left[ \\half f_1 + \\half f_2 \\right] h + O(h^3 f'') \n",
    "$$\n",
    "and is known as a two-point function. It performs a linear fit to the function, and is much better than the Euler method. Note that the error in the method depends on the stepsize as $h^3$ and the derivative $f''$, although the coefficient is not specified. This method will be exact for 1st order (linear) functions with $f'' = 0$. \n",
    "\n",
    "We can decrease the stepsize for the Trapezoidal Rule by applying this equation N-1 times on points ($x_1, x_2$), ($x_2, x_3$), ..., ($x_{N-1}, x_N$) that extend across the interval. Summation of these individual applications leads to the extended version of the Trapezoidal Rule: \n",
    "\n",
    "$$\n",
    "S^{Trap}_N = \\left[ \\half f_1 + f_2 + f_3 + ... + f_{N-1} + \\half f_N \\right] h_N\n",
    "$$\n",
    "\n",
    "$$\n",
    "S^{Trap}_N =\n",
    "  \\sum_{i=1}^{N} \\left[ \\half f(x_i) + \\half f(x_{i+1})\\right] h_N.\n",
    "$$\n",
    "\n",
    "The Trapezoidal Rule can also be written:\n",
    "$$\n",
    "S^{Trap}_N = \\sum_{i=1}^N \\left[\\half f(x_i) + \\half f(x_{i+1})\\right] h_N =\n",
    "    \\half\\left[f(x_1)+f(x_{N+1})\\right]h_N + \\sum_{i=2}^N f(x_i) h_N,\n",
    "$$\n",
    "Note that for a stepsize $h_N = \\frac{b-a}{N}$, there are $N+1$ points across the interval ($a,b$).\n",
    "\n",
    "The Trapezoidal Rule requires no more function calls than the Euler Method. There is consequently no reason to use the Euler Method for numerical integration.\n",
    "\n",
    "Note also that it is straightforward to conduct automatic tolerance control by continuing to double $N$ and checking if \n",
    "$|S_N/S_{N/2}-1| < {\\tt TOL}$. Also, the term tolerance is used to measure the convergence on *an answer*. This is not necessarily the correct answer!"
   ]
  },
  {
   "cell_type": "markdown",
   "metadata": {},
   "source": [
    "#### Simpson's Rule \n",
    "\n",
    "Simpson's Rule is a 3-point method. This suggests it should be exact for polynomials up to second order; however, due to a lucky cancellation it is also exact up to third order. Here is the formula: \n",
    "\n",
    "$$\n",
    "\\int^{x_3}_{x_1} f(x) dx = \\left[ \\third f_1 + \\fourthird f_2 + \\third f_3 \\right] h + O(h^5 f^{(4)}) \n",
    "$$\n",
    "\n",
    "Since there are three points across the interval ($a,b$), the interval size is $2h$. \n",
    "\n",
    "Just like for the Trapezoidal Rule, one can apply Simpson's Rule to successive groups (of three points) to create an extended version: \n",
    "\n",
    "$$\n",
    "S^{Simp}_{N} = \\int^{x_N}_{x_1} f(x) dx = \\left[ \\third f_1 + \\fourthird f_2 + \\twothird f_3 + ... + \\twothird f_{N-2}+ \\fourthird f_{N-1} + \\third f_N \\right] h_N + O(h^4_N f^{(4)})\n",
    "$$\n",
    "\n",
    "As with the Trapezoidal Rule, it is valuable to successively increase the number of points and test for convergence. If you continue to double the number of points, you can take advantage of the fact that 0.5 times the previous iteration is all of the odd terms in the trapezoid sum, and only the even (intermediate) terms need to be calculated. That is:\n",
    "\n",
    "$$\n",
    "S^{Simp}_{N} = \\fourthird S^{Trap}_N - \\third S^{Trap}_{N/2}\n",
    "$$\n",
    "\n",
    "There are also four-point, five-point, and other formulas (e.g. see NR), although Simpson's Rule is a fairly reliable workhorse. "
   ]
  },
  {
   "cell_type": "markdown",
   "metadata": {},
   "source": [
    "#### Note on Roundoff Error\n",
    "\n",
    "In single-precision, roundoff error is $\\sim 10^{-6}$. This means the error in a number like $y=1.0 + 10^{-6}$ is 100\\%.\n",
    "\n",
    "If you are adding up $10^6$ numbers of similar order, result can be way off if roundoff error is biased. Even if unbiased, roundoff error in the sum is $\\gg 10^{-6}$. And the situation is worse if numbers are of different order.\n",
    "\n",
    "What are the implications? The main one is that reducing number of steps is important for accuracy, and not just speed.\n",
    "\n",
    "You should always be cautious if adding $>10^4$ numbers in single precision. If you need to do this, consider using double precision where the roundoff is $\\sim 10^{-14}$. Note also that 32-bit integer arithmetic is like single precision.\n"
   ]
  },
  {
   "cell_type": "markdown",
   "metadata": {},
   "source": [
    "#### Midpoint Rule\n",
    "\n",
    "The Midpoint Rule is an example of an open Newton-Cotes formula. The main virtue of this rule is that it does not require evaluation at the end points, so it is good for integrals that are undefined at an endpoint, but are integrable. Here is the Extended Midpoint Rule.\n",
    "\n",
    "$$\n",
    "S^{Mid}_N = \\left[ f_{3/2} + f_{5/2} + ... + f_{N-3/2} + f_{N-1/2} \\right] h_N + O(h^2) \n",
    "$$\n",
    "\n",
    "$$\n",
    "S^{Mid}_N = \\sum_{i=1}^N f(x_{i+1/2}) h_N\n",
    "$$\n",
    "\n",
    "This is a second-order method, like the Trapezoidal Rule. Note that the sum to $N$ is correct because of the definition of $x_i$:  $x_{N+1/2} = b-h_N/2.$ Unfortunately you can't use doubling trick to get Simpson's rule.\n",
    "\n",
    "Here is an example for: \n",
    "$$\n",
    "\\int_2^{10}{ dx \\over (x-2)^{1/2}} ~.\n",
    "$$"
   ]
  },
  {
   "cell_type": "code",
   "execution_count": 3,
   "metadata": {},
   "outputs": [
    {
     "name": "stderr",
     "output_type": "stream",
     "text": [
      "/apps/python/3.7-2019.10/lib/python3.7/site-packages/ipykernel/__main__.py:2: RuntimeWarning: divide by zero encountered in true_divide\n",
      "  from ipykernel import kernelapp as app\n"
     ]
    },
    {
     "data": {
      "text/plain": [
       "Text(0, 0.5, 'Y')"
      ]
     },
     "execution_count": 3,
     "metadata": {},
     "output_type": "execute_result"
    },
    {
     "data": {
      "image/png": "[encoded data removed]",
      "text/plain": [
       "<Figure size 432x288 with 1 Axes>"
      ]
     },
     "metadata": {
      "needs_background": "light"
     },
     "output_type": "display_data"
    }
   ],
   "source": [
    "def func2(x):\n",
    "    return 1/np.sqrt(x - 2)\n",
    "\n",
    "a = 2\n",
    "b = 10\n",
    "xs = np.linspace(a, b, 100)\n",
    "ys = func2(xs)\n",
    "\n",
    "# Midpoint with 4 steps\n",
    "nstep = 4\n",
    "hstep = (b-a)/nstep\n",
    "x = np.linspace(a+hstep/2, b-hstep/2, nstep)\n",
    "y = func2(x)\n",
    "#print(\"Euler method evaluation with {} steps finds I = {:.4f}\".format(nstep, np.sum(y)*hstep))\n",
    "\n",
    "# Plot\n",
    "plt.plot(xs, ys, 'k')\n",
    "plt.plot(x, y, 'bo')\n",
    "plt.bar(x, y, width=hstep, align='center', ecolor='blue', alpha=.5)\n",
    "plt.xlabel(\"X\")\n",
    "plt.ylabel(\"Y\")\n",
    "\n",
    "# Note this complains about divison by zero because I asked it for the function value at a = 2"
   ]
  },
  {
   "cell_type": "markdown",
   "metadata": {},
   "source": [
    "### Transformation of Variables\n",
    "\n",
    "Transformation of variables is a hugely valuable trick for many applications. One key application is for numerical integration of improper integrals, namely those with limits of $-\\infty$ or $\\infty$.  \n",
    "\n",
    "For example, consider the substitution $t=1/x$,\n",
    "$$\n",
    "\\int_a^b f(x) dx = \\int_{1/b}^{1/a} {1\\over t^2} f\\left({1 \\over t}\\right)dt.\n",
    "$$\n",
    "\n",
    "A second application is to reduce the variation of the integrand, for example to make it similar in each interval $dx$. This will make the integrand much better matched to methods that are based on equally spaced abscissas. If this is not done, then the required size of $h$ is set by most rapidly varying region of the integrand, yet tiny steps are still being taken (and wasted) in regions where the integrand is varying slowly.\n",
    "\n",
    "Here is an example of this second application. The substitution $y = \\ln x$ shows that\n",
    "$$\n",
    "\\int_1^{1000} \\left(x+{1\\over x}\\right)^{-1} dx\n",
    "$$\n",
    "is equivalent to\n",
    "$$\n",
    "\\int_0^{{\\rm ln}1000} \\left(1+e^{-2y}\\right)^{-1} dy.\n",
    "$$\n",
    "The second integral can be evaluated with many fewer steps because the integrand changes significantly when $x$ changes by a constant factor rather than a constant interval $\\Delta x$.\n",
    "\n",
    "It is sometimes necessary/useful to break an integral into two or three parts, with different variable substitutions, to deal with improper integration boundaries or with different regimes of integrand behavior."
   ]
  },
  {
   "cell_type": "markdown",
   "metadata": {},
   "source": [
    "### Other Methods\n",
    "\n",
    "The Trapezoid, Midpoint, and Simpson's Rules are robust methods that work well for general cases, when they are fast enough. If you need higher accuracy for given amount of CPU time (or less CPU for given accuracy), more sophisticated\n",
    "methods can be significantly faster. Two such methods are Romberg Integration and Gaussian quadrature. \n",
    "\n",
    "#### Romberg Integration (a.k.a Richardson extrapolation) \n",
    "\n",
    "\n",
    "Romberg integration combines the Extended Trapezoidal Rule with Richardson extrapolation to generate higher order methods. The method uses successive refinements of this rule to eliminate progressively higher order error terms. That is, one performs the integration to various values of $h$, fits a polynomial to the results, and then extrapolates to $h = 0$. This method works great for smooth integrands, but is significantly less robust than Trapezoid, Midpoint, and Simpson's Rules, it is important to understand the integrand before adopting this method. \n",
    "\n",
    "#### Gaussian quadrature:\n",
    "\n",
    "The Newton-Cotes methods are all based on equally-spaced abscissas combined with some weighting coefficients. The higher-order methods generally have more carefully chosen weighting coefficients. Gaussian quadrature allows for not just changes in the weighting coefficients, but also in the location of the abscissas -- that is, they will no longer be equally spaced. Very generally, the integral is approximated as: \n",
    "\n",
    "$$\n",
    "I \\approx w_1 f(x_1) + w_2 f(x_2) + w_3 f(x_3) + ...\n",
    "$$\n",
    "\n",
    "And the idea is to choose the weights to make the approximation exact for \n",
    "\n",
    "$$\n",
    "\\int_a^b W(x) f(x) dx,\n",
    "$$\n",
    "\n",
    "where $f(x)$ is a polynomial of a given degree, $W(x)$ is\n",
    "a weighting function.\n",
    "\n",
    "With twice the number of degrees of freedom (location of abscissas, in addition to weighting coefficients), Gaussian quadrature formulas can be twice as good as Newton-Cotes methods with the same number of function evaluations. Yet the downside is that it is a lot of work to figure out where to optimally place the abscissas, and the corresponding weights. Fortunately many standard cases have been worked out already, and this method can be much more efficient for smooth integrands that need to be evaluated many times at high accuracy. "
   ]
  },
  {
   "cell_type": "markdown",
   "metadata": {},
   "source": [
    "### Multi-dimensional Integrals\n",
    "\n",
    "Multi-dimensional integrals can become hard very quickly. If $N$ is number of steps needed per dimension, the total\n",
    "number of function evaluations scales as $N^D$.\n",
    "\n",
    "You should always attempt to reduce dimensionality of the integration whenever possible by using the symmetries of problem.\n",
    "\n",
    "For an integral with a simple boundary and a smooth integrand, you can recursively use 1-d integration. An example case is: \n",
    "\n",
    "$$\n",
    "\\int\\int\\int dx\\,dy\\,dz\\, f(x,y,z) =\n",
    "\\int_{x_1}^{x_2} dx \\int_{y_1(x)}^{y_2(x)} dy\n",
    "\\int_{z_1(x,y)}^{z_2(x,y)} dz \\,f(x,y,z).\n",
    "$$\n",
    "\n",
    "If you cannot analytically solve for, e.g., $z_1(x,y)$, you can choose a larger volume and set $f(x,y,z)=0$ outside the integration region (if you have some test on $(x,y,z)$ that tells you when you are in that region).\n",
    "\n",
    "If so, be careful of losing accuracy at the boundaries, where the value of $f$ changes discontinuously.\n",
    "\n",
    "You may want to use numerical root finding (discussed later in the course) to find the inner limits, $z_1(x,y)$, $z_2(x,y)$, etc.\n",
    "\n",
    "For more complicated boundaries with a smooth integrand, and if high accuracy is not required, you can do Monte Carlo integraion (see NR $\\S 7.6$). The basic idea is to choose a volume $V$ that encloses integration region, e.g., a cube, and choose $N$ random points that evenly sample this volume. Then sum the values of the function $f({\\bf x})$ at points ${\\bf x}$ that lie within the integration region, setting $f({\\bf x})=0$ outside that region.\n",
    "\n",
    "The problem then becomes the volume integral\n",
    "$$\n",
    "\\int f({\\bf x}) dV \\approx \\sum f({\\bf x}_i) \\times V/N~,\n",
    "$$\n",
    "where $V$ is your enclosing volume, and each point is representing a volume $dV = V/N$.\n",
    "\n",
    "An estimate of the error is:\n",
    "$$\n",
    "\\pm V \\left({\\langle f^2 \\rangle - \\langle f \\rangle^2 \\over N}\\right)^{1/2}\n",
    "$$\n",
    "where\n",
    "$$\n",
    "\\langle f \\rangle = {1 \\over N} \\sum_{i=1}^N f({\\bf x}_i), \\qquad\n",
    "\\langle f^2 \\rangle = {1 \\over N} \\sum_{i=1}^N f^2({\\bf x}_i) ~.\n",
    "$$\n"
   ]
  },
  {
   "cell_type": "markdown",
   "metadata": {},
   "source": [
    "### Decision Tree for Algorithms\n",
    "\n",
    "1. Always start by graphing the function. Is it smooth? Differentiable? Can you solve it analytically??\n",
    "\n",
    "2. Does it have an integrable singularity at a limit? If yes, use an open method. Otherwise use a closed method.\n",
    "\n",
    "3. Is there an integrable singularity at one or more points along the interval? If yes, break it up into multiple intervals.\n",
    "\n",
    "4. Is it smooth? Does it have no singularities and nonsingular endpoints? If yes, then Romberg integration is probably best. \n",
    "\n",
    "5. Is it an improper integral? For example, it may be singular at a limit, but otherwise okay (e.g. $\\frac{sin x}{x}$ at $x=0$), or $\\infty$ at a limit, or have integrable singularities at a limit or some other (known or unknown) location. In these cases, consider changing variables and/or using open methods. "
   ]
  },
  {
   "cell_type": "markdown",
   "metadata": {},
   "source": [
    "### Python Routines\n",
    "\n",
    "There are many python numerical integration routines in scipy.integrate, including implementations of most of these methods. "
   ]
  },
  {
   "cell_type": "code",
   "execution_count": 4,
   "metadata": {},
   "outputs": [],
   "source": [
    "import scipy\n",
    "import scipy.integrate"
   ]
  },
  {
   "cell_type": "code",
   "execution_count": 5,
   "metadata": {},
   "outputs": [
    {
     "data": {
      "text/plain": [
       "\u001b[0;31mType:\u001b[0m        module\n",
       "\u001b[0;31mString form:\u001b[0m <module 'scipy.integrate' from '/apps/python/3.7-2019.10/lib/python3.7/site-packages/scipy/integrate/__init__.py'>\n",
       "\u001b[0;31mFile:\u001b[0m        /apps/python/3.7-2019.10/lib/python3.7/site-packages/scipy/integrate/__init__.py\n",
       "\u001b[0;31mDocstring:\u001b[0m  \n",
       "=============================================\n",
       "Integration and ODEs (:mod:`scipy.integrate`)\n",
       "=============================================\n",
       "\n",
       ".. currentmodule:: scipy.integrate\n",
       "\n",
       "Integrating functions, given function object\n",
       "============================================\n",
       "\n",
       ".. autosummary::\n",
       "   :toctree: generated/\n",
       "\n",
       "   quad          -- General purpose integration\n",
       "   dblquad       -- General purpose double integration\n",
       "   tplquad       -- General purpose triple integration\n",
       "   nquad         -- General purpose n-dimensional integration\n",
       "   fixed_quad    -- Integrate func(x) using Gaussian quadrature of order n\n",
       "   quadrature    -- Integrate with given tolerance using Gaussian quadrature\n",
       "   romberg       -- Integrate func using Romberg integration\n",
       "   quad_explain  -- Print information for use of quad\n",
       "   newton_cotes  -- Weights and error coefficient for Newton-Cotes integration\n",
       "   IntegrationWarning -- Warning on issues during integration\n",
       "\n",
       "Integrating functions, given fixed samples\n",
       "==========================================\n",
       "\n",
       ".. autosummary::\n",
       "   :toctree: generated/\n",
       "\n",
       "   trapz         -- Use trapezoidal rule to compute integral.\n",
       "   cumtrapz      -- Use trapezoidal rule to cumulatively compute integral.\n",
       "   simps         -- Use Simpson's rule to compute integral from samples.\n",
       "   romb          -- Use Romberg Integration to compute integral from\n",
       "                 -- (2**k + 1) evenly-spaced samples.\n",
       "\n",
       ".. seealso::\n",
       "\n",
       "   :mod:`scipy.special` for orthogonal polynomials (special) for Gaussian\n",
       "   quadrature roots and weights for other weighting factors and regions.\n",
       "\n",
       "Solving initial value problems for ODE systems\n",
       "==============================================\n",
       "\n",
       "The solvers are implemented as individual classes which can be used directly\n",
       "(low-level usage) or through a convenience function.\n",
       "\n",
       ".. autosummary::\n",
       "   :toctree: generated/\n",
       "\n",
       "   solve_ivp     -- Convenient function for ODE integration.\n",
       "   RK23          -- Explicit Runge-Kutta solver of order 3(2).\n",
       "   RK45          -- Explicit Runge-Kutta solver of order 5(4).\n",
       "   Radau         -- Implicit Runge-Kutta solver of order 5.\n",
       "   BDF           -- Implicit multi-step variable order (1 to 5) solver.\n",
       "   LSODA         -- LSODA solver from ODEPACK Fortran package.\n",
       "   OdeSolver     -- Base class for ODE solvers.\n",
       "   DenseOutput   -- Local interpolant for computing a dense output.\n",
       "   OdeSolution   -- Class which represents a continuous ODE solution.\n",
       "\n",
       "\n",
       "Old API\n",
       "-------\n",
       "\n",
       "These are the routines developed earlier for scipy. They wrap older solvers\n",
       "implemented in Fortran (mostly ODEPACK). While the interface to them is not\n",
       "particularly convenient and certain features are missing compared to the new\n",
       "API, the solvers themselves are of good quality and work fast as compiled\n",
       "Fortran code. In some cases it might be worth using this old API.\n",
       "\n",
       ".. autosummary::\n",
       "   :toctree: generated/\n",
       "\n",
       "   odeint        -- General integration of ordinary differential equations.\n",
       "   ode           -- Integrate ODE using VODE and ZVODE routines.\n",
       "   complex_ode   -- Convert a complex-valued ODE to real-valued and integrate.\n",
       "\n",
       "\n",
       "Solving boundary value problems for ODE systems\n",
       "===============================================\n",
       "\n",
       ".. autosummary::\n",
       "   :toctree: generated/\n",
       "\n",
       "   solve_bvp     -- Solve a boundary value problem for a system of ODEs.\n"
      ]
     },
     "metadata": {},
     "output_type": "display_data"
    }
   ],
   "source": [
    "# List the contents of this package \n",
    "scipy.integrate?"
   ]
  },
  {
   "cell_type": "code",
   "execution_count": 6,
   "metadata": {},
   "outputs": [],
   "source": [
    "# Specifically import four functions to use: \n",
    "from scipy.integrate import trapz, simps, romb, quad"
   ]
  },
  {
   "cell_type": "markdown",
   "metadata": {},
   "source": [
    "Here is one of the integrals from the homework:\n",
    "$$\n",
    "\\int^{100}_1 \\frac{sin x}{x} dx\n",
    "$$"
   ]
  },
  {
   "cell_type": "code",
   "execution_count": 7,
   "metadata": {},
   "outputs": [
    {
     "data": {
      "text/plain": [
       "Text(0.5, 1.0, 'sin x / x')"
      ]
     },
     "execution_count": 7,
     "metadata": {},
     "output_type": "execute_result"
    },
    {
     "data": {
      "image/png": "[encoded data removed]",
      "text/plain": [
       "<Figure size 432x288 with 1 Axes>"
      ]
     },
     "metadata": {
      "needs_background": "light"
     },
     "output_type": "display_data"
    }
   ],
   "source": [
    "def func3(x):\n",
    "    return np.sin(x)/x\n",
    "\n",
    "a = 1.\n",
    "b = 100.\n",
    "\n",
    "# It is always a good idea to plot a function before integating -- \n",
    "xs = np.linspace(a, b, 100)\n",
    "ys = func3(xs)\n",
    "plt.plot(xs, ys)\n",
    "plt.xlabel(\"X\")\n",
    "plt.ylabel(\"Y\")\n",
    "plt.title(\"sin x / x\")"
   ]
  },
  {
   "cell_type": "code",
   "execution_count": 8,
   "metadata": {},
   "outputs": [
    {
     "data": {
      "text/plain": [
       "2.220446049250313e-16"
      ]
     },
     "execution_count": 8,
     "metadata": {},
     "output_type": "execute_result"
    }
   ],
   "source": [
    "# What is the machine precision? \n",
    "np.finfo(float).eps"
   ]
  },
  {
   "cell_type": "code",
   "execution_count": 9,
   "metadata": {},
   "outputs": [
    {
     "name": "stdout",
     "output_type": "stream",
     "text": [
      "Quadrature value is 0.6161423965218733 with uncertainty 3.4127631329063506e-14\n"
     ]
    },
    {
     "name": "stderr",
     "output_type": "stream",
     "text": [
      "/apps/python/3.7-2019.10/lib/python3.7/site-packages/ipykernel/__main__.py:2: IntegrationWarning: The occurrence of roundoff error is detected, which prevents \n",
      "  the requested tolerance from being achieved.  The error may be \n",
      "  underestimated.\n",
      "  from ipykernel import kernelapp as app\n"
     ]
    },
    {
     "data": {
      "text/plain": [
       "Text(0, 0.5, 'log (I - Iexact)/Iexact')"
      ]
     },
     "execution_count": 9,
     "metadata": {},
     "output_type": "execute_result"
    },
    {
     "data": {
      "image/png": "[encoded data removed]",
      "text/plain": [
       "<Figure size 432x288 with 1 Axes>"
      ]
     },
     "metadata": {
      "needs_background": "light"
     },
     "output_type": "display_data"
    }
   ],
   "source": [
    "# Use quad as the 'exact' value\n",
    "Iquad = quad(func3, a, b, epsabs=50.*np.finfo(float).eps, epsrel=50.*np.finfo(float).eps)\n",
    "print(\"Quadrature value is {0} with uncertainty {1}\".format(Iquad[0], Iquad[1]))\n",
    "Iexact = Iquad[0]\n",
    "\n",
    "# Look at convergence:\n",
    "num = range(10)\n",
    "Itrap = np.zeros(len(num))\n",
    "Isimps = np.zeros(len(num))\n",
    "Iromb = np.zeros(len(num))\n",
    "\n",
    "for i, N in enumerate(num):\n",
    "    nsteps = np.power(2, N+1) + 1\n",
    "    x = np.linspace(a, b, nsteps)\n",
    "    y = func3(x)\n",
    "    Itrap[i] = trapz(y, x=x)\n",
    "    Isimps[i] = simps(y, x=x)\n",
    "    Iromb[i] = romb(y, x[1]-x[0])    \n",
    "    \n",
    "plt.plot(num, np.fabs(Itrap-Iexact)/Iexact, 'ko', label='trapz')\n",
    "plt.plot(num, np.fabs(Isimps-Iexact)/Iexact, 'b^', label='simps')\n",
    "plt.plot(num, np.fabs(Iromb-Iexact)/Iexact, 'rs', label='romb')\n",
    "plt.legend()\n",
    "plt.yscale('log')\n",
    "plt.xlabel(\"2**N+1\")\n",
    "plt.ylabel(\"log (I - Iexact)/Iexact\")"
   ]
  },
  {
   "cell_type": "code",
   "execution_count": null,
   "metadata": {},
   "outputs": [],
   "source": []
  }
 ],
 "metadata": {
  "kernelspec": {
   "display_name": "Python 3",
   "language": "python",
   "name": "python3"
  },
  "language_info": {
   "codemirror_mode": {
    "name": "ipython",
    "version": 3
   },
   "file_extension": ".py",
   "mimetype": "text/x-python",
   "name": "python",
   "nbconvert_exporter": "python",
   "pygments_lexer": "ipython3",
   "version": "3.8.3"
  }
 },
 "nbformat": 4,
 "nbformat_minor": 4
}
